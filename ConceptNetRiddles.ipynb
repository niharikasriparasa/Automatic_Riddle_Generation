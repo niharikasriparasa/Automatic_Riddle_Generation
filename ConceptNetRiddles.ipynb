{
  "nbformat": 4,
  "nbformat_minor": 0,
  "metadata": {
    "colab": {
      "provenance": [],
      "mount_file_id": "1uDUDH_J54AZVh4vcL5u72n6mx0CRESl8",
      "authorship_tag": "ABX9TyOgZIJOpdhbr6uLJs3IcKtK",
      "include_colab_link": true
    },
    "kernelspec": {
      "display_name": "Python 3",
      "name": "python3"
    }
  },
  "cells": [
    {
      "cell_type": "markdown",
      "metadata": {
        "id": "view-in-github",
        "colab_type": "text"
      },
      "source": [
        "<a href=\"https://colab.research.google.com/github/niharikasriparasa/Automatic_Riddle_Generation/blob/main/ConceptNetRiddles.ipynb\" target=\"_parent\"><img src=\"https://colab.research.google.com/assets/colab-badge.svg\" alt=\"Open In Colab\"/></a>"
      ]
    },
    {
      "cell_type": "code",
      "metadata": {
        "colab": {
          "base_uri": "https://localhost:8080/"
        },
        "id": "03W9eLyPVHxC",
        "outputId": "b08227d9-0eab-436c-d22b-d24558f93338"
      },
      "source": [
        "#Extract Triples for all conceptnet triples\n",
        "\n",
        "import pandas as pd\n",
        "import json\n",
        "import requests\n",
        "import re\n",
        "import string\n",
        "\n",
        "animals=pd.read_csv('/content/drive/MyDrive/Renarration/clean_sent2.csv')\n",
        "#print(animals.topic.unique())\n",
        "\n",
        "for topic in animals.topic.unique():\n",
        "  print(topic)\n",
        "  #obj=url+'/c/en/'+topic.lower()\n",
        "  #triples,keywords=retrieveAllPagesData(obj,10000)\n",
        "  #print()\n",
        "  break\n",
        "\n",
        "len(animals.topic.unique())\n",
        "print(animals.topic.unique())"
      ],
      "execution_count": null,
      "outputs": [
        {
          "output_type": "stream",
          "text": [
            "Aardvark\n",
            "['Aardvark' 'Albatross' 'Alligator' 'Alpaca' 'Ant' 'Anteater' 'Antelope'\n",
            " 'Ape' 'Armadillo' 'Donkey' 'Baboon' 'Badger' 'Barracuda' 'Bat' 'Bear'\n",
            " 'Beaver' 'Bee' 'Bison' 'Pig' 'Galago' 'Butterfly' 'Camel' 'Cat'\n",
            " 'Caterpillar' 'Cattle' 'Chamois' 'Cheetah' 'Chicken' 'Chimpanzee'\n",
            " 'Chinchilla' 'Chough' 'Clam' 'Cockroach' 'Cod' 'Cormorant' 'Coyote'\n",
            " 'Crab' 'Crocodile' 'Crow' 'Curlew' 'Deer' 'Dinosaur' 'Dog' 'Dolphin'\n",
            " 'Dragonfly' 'Duck' 'Dugong' 'Dunlin' 'Eagle' 'Echidna' 'Eel' 'Elephant'\n",
            " 'Elephant_seal' 'Elk' 'Emu' 'Falcon' 'Ferret' 'Finch' 'Fish' 'Flamingo'\n",
            " 'Fly' 'Fox' 'Frog' 'Gaur' 'Gazelle' 'Gerbil' 'Giraffe' 'Gnat' 'Goat'\n",
            " 'Goose' 'Goldfish' 'Gorilla' 'Goshawk' 'Grasshopper' 'Grouse' 'Guanaco'\n",
            " 'Guinea_pig' 'Gull' 'Hamster' 'Hare' 'Hawk' 'Hedgehog' 'Heron' 'Herring'\n",
            " 'Hippopotamus' 'Hornet' 'Horse' 'Human' 'Hummingbird' 'Hyena' 'Jackal'\n",
            " 'Jaguar' 'Blue' 'Jellyfish' 'Kangaroo' 'Koala' 'Komodo_dragon' 'Kouprey'\n",
            " 'Kudu' 'Lapwing' 'Lark' 'Lemur' 'Leopard' 'Lion' 'Llama' 'Lobster'\n",
            " 'Locust' 'Loris' 'Louse' 'Lyrebird' 'Magpie' 'Mallard' 'Manatee' 'Marten'\n",
            " 'Meerkat' 'Mink' 'Monkey' 'Moose' 'Mouse' 'Mosquito' 'Mule' 'Narwhal'\n",
            " 'Newt' 'Octopus' 'Okapi' 'Opossum' 'Oryx' 'Ostrich' 'Otter' 'Owl' 'Ox'\n",
            " 'Oyster' 'Parrot' 'Partridge' 'Peafowl' 'Pelican' 'Penguin' 'Pheasant'\n",
            " 'Porcupine' 'Porpoise' 'Quail' 'Quelea' 'Rabbit' 'Raccoon' 'Sheep' 'Rat'\n",
            " 'Raven' 'Reindeer' 'Rhinoceros' 'Ruff' 'Salamander' 'Salmon' 'Sandpiper'\n",
            " 'Sardine' 'Scorpion' 'Sea_lion' 'Seahorse' 'Shark' 'Shrew' 'Shrimp'\n",
            " 'Skunk' 'Snail' 'Snake' 'Spider' 'Squid' 'Squirrel' 'Starling' 'Stingray'\n",
            " 'Stork' 'Swallow' 'Swan' 'Tapir' 'Tarsier' 'Termite' 'Tiger' 'Toad'\n",
            " 'Trout' 'Turkey' 'Turtle' 'Vulture' 'Wallaby' 'Walrus' 'Wasp'\n",
            " 'Water_buffalo' 'Weasel' 'Whale' 'Wolf' 'Wolverine' 'Wombat' 'Woodcock'\n",
            " 'Woodpecker' 'Worm' 'Wren' 'Zebra' 'Animal' 'Amphibian' 'Reptile' 'Bird'\n",
            " 'Mammal' 'Insect' 'Crustacean' 'Eukaryote' 'Plant' 'Species']\n"
          ],
          "name": "stdout"
        }
      ]
    },
    {
      "cell_type": "code",
      "metadata": {
        "id": "5ud8TkBhrKkR"
      },
      "source": [
        "arr=['Mammal','Insect','Crustacean','Eukaryote','Plant','Species']\n"
      ],
      "execution_count": null,
      "outputs": []
    },
    {
      "cell_type": "code",
      "metadata": {
        "colab": {
          "base_uri": "https://localhost:8080/"
        },
        "id": "wJr0aVnlQ2g_",
        "outputId": "414c4daa-a8c3-48ed-d5f7-dc01a2774f7b"
      },
      "source": [
        "import json\n",
        "import requests\n",
        "import re\n",
        "import string\n",
        "obj = requests.get('http://api.conceptnet.io/c/en/dog').json()\n",
        "\n",
        "#1.Inside the loop\n",
        "#2.First request animal - first page\n",
        "#3.update obj with nextpage request\n",
        "#For every obj request we need to update concept_Data array\n",
        "url='http://api.conceptnet.io'\n",
        "def retrieveAllPagesData(orgReq,noOfIter,concept_Data=[],concept_keywords=[]):\n",
        " for i in range(noOfIter):\n",
        "    obj=requests.get(orgReq).json()\n",
        "    for i in range(len(obj['edges'])):\n",
        "      if obj['edges'][i]['surfaceText'] != None :\n",
        "          node1=obj['edges'][i]['start']['label']\n",
        "          concept_keywords.append(node1.lower())\n",
        "          node2=obj['edges'][i]['end']['label']\n",
        "          concept_keywords.append(node2.lower())\n",
        "          statement=obj['edges'][i]['surfaceText'].replace('[','')\n",
        "          statement=statement.replace(']','')\n",
        "          concept_Data.append(statement)#apply regex to remove brackets\n",
        "    if 'nextPage' in obj['view'].keys():\n",
        "       #if obj['view']['nextPage'] is not null: #condition to check if nextPage attribute exists or not done\n",
        "          orgReq=url+obj['view']['nextPage']\n",
        "    else:\n",
        "       break\n",
        " return concept_Data,concept_keywords\n",
        "\n",
        "data,keywords=retrieveAllPagesData('http://api.conceptnet.io/c/en/dog',10000)\n",
        "#print(keywords,data)\n",
        "\n",
        "keywords_unique=[x for x in list(set(keywords))]\n",
        "\n",
        "\n",
        "#keywords_unique=[y for y in list(set([x.encode('ascii','ignore').decode() for x in keywords]))]\n",
        "#print(len(keywords_unique))\n",
        "print(len(keywords_unique))\n",
        "print(keywords_unique)\n",
        "print(len(data))\n",
        "print(data)\n"
      ],
      "execution_count": null,
      "outputs": [
        {
          "output_type": "stream",
          "text": [
            "562\n",
            "['fur', 'a great dane', 'greyhound', 'hear a whistle', 'alive', 'retriever', 'guard the premises', 'animal companion', 'shake', 'man', 'chaser', 'canine', 'fido', 'fight another dog', 'hair', 'loyalty', 'herding sheep', 'guarding a home', 'sheep', 'wet nose', 'find food to \\\\eat', 'a canine', 'kitten', 'sniffing out drugs', 'flea animal', 'courage', 'mean', 'brown', 'common', 'a pound', '飼犬', 'attack', 'a mans best friend', 'guard your house', 'household', 'a gundog', 'small horse', 'attention', 'four paws', 'give you comfort', 'cad', 'a curious observer of mankind', 'four legged', 'be left home alone', 'hunting dog', 'general canine', 'sniffing out explosives', 'domestic', 'fleas', 'leash', 'best friend', 'eye an icecream', 'home', 'a thinking dog', 'grown', 'wolf', 'be a pet', 'wolf wolf', 'animal barks', 'very common pet', 'guarding a junkyard', 'walk on a leash', 'large cat', 'a golden retriever', 'yelp', 'stay', 'puppies', 'muzzle', 'barking pet', 'reply', 'barking animal', 'grown puppy', 'parks', 'pet sorry', 'belong a human', 'mans best', 'joy', 'home animal', 'shepherd', 'please its master', 'mark its territory', 'bisk', 'mans friend', 'tracking a criminal', 'domestic wolf', 'open a door', 'duck', 'spike', 'pet animal', 'pet woof', 'reverse', 'stay in place', 'bark bite', 'enjoy to play in the lake', 'protect your belongings', 'pet puppy', 'teeth tail', 'イヌ', 'eat a lot', 'flea', 'cause an accident', 'labrador', 'enemy', 'go for a walk', 'master', 'spot', 'comforting the elderly', 'كَلْب', 'cat hater', 'furry', 'collar', 'horse', 'command', 'animal', 'raining', 'a leash', 'creature', 'หมอ', 'general', 'pe', 'typical', 'cat maybe', 'cats and', 'friend', 'dig up his bone', 'the ground', 'poodle', 'หมา', 'bulldog', 'win a blue ribbon', 'a nose', 'bow', 'hunting', 'old puppy', 'place a bone in a hole', 'playing dead', 'barks', 'play frisbee', 'food', 'play', 'sorry', 'the couch', 'furry pet', 'bark', 'pet barking', 'chasing a ball', 'maybe', 'brownie', 'urinate', 'mammal', 'usually about two feet tall', 'schnauzer', 'pies', 'bird hunting', 'loving', 'household et', 'family pet', 'barking', 'a lhasa apso', 'best pet', 'be petted', 'bed', 'fleas in or rather', 'สุนัข', 'stick', 'pet canine', 'puppy parent', 'beagle hound', 'smell its food', 'guard a house', 'wear a sweater', 'mutt', 'tics', 'roll', 'wag its tail', 'petshop', 'bought at a pet store', 'frump', 'biting the postman', 'gos domèstic', 'a big heart', 'fuzzy', 'woof woof', 'neuter', \"it's kennel\", 'bark woof', 'family', 'ca', 'a domesticated canine', 'lead police to a dead body', 'are a dog', 'a cocker spaniel', 'household pet', 'cuter than your kids', 'dog ', 'best', 'vovhund', 'the labradoodle', 'fetching sticks', 'a dog house', 'run fasr', 'pooch', 'canine pooch', 'learn to fetch things', 'a doghouse', 'fight a cat', 'god backwards', 'worth much more than a dime', 'live in a dog house', 'guide a blind human', 'corner a cat', 'ドッグ', 'straining at its leash', 'drink water', 'bring his master a bone', 'take a walk', 'something you find downstairs', 'cover a hole in the ground', 'hear whistling', 'one mammal', 'a farmyard', 'chow', 'the dog', 'small', 'frank', 'a bone', 'pact', 'lassie', 'big puppy', 'stay in its house', 'humans', 'cat and', 'dream that he caught a rabbit', 'typical pet', 'kennel', 'so big', 'one mouth', 'smell drugs', 'pup', 'breeding', 'my dog', 'stroke', 'guard a home', 'big', 'can', 'backwards', 'fetch a ball', 'guide a blind person', \"dog owner's home\", 'tipo', 'dog experiments', 'growling at the man', 'little horse', 'tear the rug', 'cut', 'zakur', 'dog', 'house animal', 'nine', 'come', 'woof animal', 'chinchilla', 'rap', 'cat chaser', 'house pet', 'a purebred', 'a pitbull', 'pluto', 'i dog', 'chien', 'love', 'company', 'wolves', 'cute', 'watch the house', 'a greyhound', 'be walked', 'a person', 'a poodle', 'be abandoned', 'quadriped', 'bury a bone in the ground', 'hear sub sonic sounds', 'two ears', 'snoopy', 'furry animal', 'animal furry', 'four', 'coyote', 'protecting livestock', 'people', 'a desk', 'love its master', 'cur', 'scare away a bad guy', 'canines', 'circle sheep', 'course a hare', 'hound', 'bite', 'the porch', 'wet', 'car', 'guard', 'mans', 'kicked', 'fluffy', 'loyal animal', 'small fox', 'ruff', 'canine friend', 'spot movement', 'dog   ', 'cats', 'paws', 'guide the blind', 'ears', 'barking fetching', 'herd', 'faithful animal', 'four legs', 'jog', 'a dog', 'eat', 'act playful', 'canine animal', 'german shepard', 'tail ears', 'friendly mammal', 'a collie', 'owner', 'small animal', 'chasing cats', 'animal tail', 'sense fear', 'the table', 'max', 'groenendael', 'a loyal friend', 'tear a shirt', 'german sheperd', 'see in black and white', 'kaveri', 'companionship', 'a pet shop', 'good', 'your dog', 'a dog ', 'dig', 'cats enemy', 'legs tail', 'domestic pet', 'go to the vet', 'nose', 'lots of attention', 'barks when it hears steps', 'leonberg', 'like going for a walk', 'a pet store', 'taking a bath', 'kept in a kennel', 'it barks', 'large', 'cat again', 'legs', 'a house', 'cat', 'stand on two legs', 'a back yard', 'tracking an animal', \"eat cat food but probably shouldn't\", 'k', 'helping to control livestock', 'guide a blind woman', 'wolf family', 'feline', 'shake a slipper', 'legged', 'follow a scent', 'parent', 'guard a building', 'reward', 'appear tired', 'koira', 'outside', 'keep you watrm', 'man friend', 'larger than a cat', 'bow wow', 'feline animal', 'affection', 'dare', 'old', 'companion', 'understand simple commands', 'a lurcher', 'labrador retriever', 'companionship and protection', 'chief', 'hairy', 'become a pet', 'domesticated animal', 'tailed animal', \"eye a person's sandwich\", 'large puppy', 'put his paw on your knee', 'doghouse', 'stand on its hindlegs', 'goof', 'pets', 'bark bark', 'run', 'fetching', 'good pet', 'a thing', 'bone', 'terrier', 'faithful', 'a bath', 'chap', 'domestic animal', 'piss on the couch', 'pastor', 'sense danger', 'gos', 'pierun', 'a very faithful friend', 'frighten intruders', 'admiral', \"follow it's owner\", 'lupine', 'gray', 'providing friendship', \"mother it's young\", 'working dog', 'teeth', 'guard property', 'follow a person', 'wagging tail', 'happy when it wags its tail', 'pull a sleigh', 'remember basic commands', 'polish', 'computer', 'fun', 'smell scents', 'help his master', 'brains', 'raining cat', \"feed it's babies\", 'shake hands', 'be loved by his master', 'hear high pitches', 'god', 'father a puppy', 'walk a man', 'puppy', 'learn to do tricks', 'cane', 'domesticated', 'little', 'an irish setter', 'whistle', 'excuse', 'cause a rabbit to run away', 'circle a tree', 'reverse god', 'a good friend', 'meeting a friend', 'critter', 'house', 'mother a puppy', 'guarding a piece of property', 'furry creature', 'newfoundland', 'punishment', 'again', 'pig', 'guarding property', 'friendly', 'bark animal', 'minister', 'listen to his master', 'woof bark', 'homes', 'lick his privates', 'be following his owner', 'a kennel', 'wagging', 'nip', 'woofer', 'fox', 'toy dog', 'run after the mailman', 'et', 'leach', 'walking the dog', 'animal pet', 'one among many animals', 'bow bow', 'a pet', 'wiggle', 'great pyrenees', 'domesticated wolf', 'not eat a bone of contention', 'animal canine', 'tailed', 'smell the trace of another dog', 'enjoy food', 'shedding', 'wash', 'woof', 'houses', 'tail', 'come when you call its name', 'mark its territory with its urine', 'meat', 'loyal', 'follow its master', 'pet', 'rover', 'cão', 'the rug', 'common pet', 'canis familiaris', 'k nine', 'get a stick', 'turn over', 'the front door', 'pug', 'dig up bones', 'treat', 'beagle', 'hunt a cat', 'mark a tree', 'household animal', 'the animal kingdom', 'play with a bone', 'biscuit', 'learn how to beg', 'mexican hairless', 'loyal pet', 'per', 'hund', 'the backyard', 'wow', 'smell', 'think about food', 'playing', 'a shih tzu', 'tail barks', 'hound animal', 'canine pet', 'running in a dream', 'trip over a rope', 'obedience', 'hater', 'stupid', 'a penis', 'cat enemy', 'swim', 'go outside']\n",
            "716\n",
            "['dog can bark', 'A dog can guard your house', 'dog is related to pet', 'dog is related to animal', 'You are likely to find a dog in a kennel', 'flea is related to dog', 'dog is related to canine', 'A dog can be a pet', 'A dog is a loyal friend', 'a dog is for companionship', 'a dog is a type of pet', 'An activity a dog can do is run', '*Something you find under the table is the dog', 'a dog wants a bone', 'a dog is a kind of mammal', 'A dog has four legs', 'A dog can guide a blind person', 'a dog wants to be petted', 'puppy is a kind of dog', 'A dog is a canine', 'a dog wants to be petted', 'A poodle is a kind of dog', 'puppy is a kind of dog', 'dog is not cat', 'A dog can guard property', 'A dog can sense danger', 'You are likely to find a dog in a doghouse', 'a dog can drink water', 'dog is related to woof', 'my dog has fleas', 'You are likely to find a dog in a dog house', \"A dog doesn't want fleas\", 'dog is related to bark', 'dog is related to tail', 'dog is related to wolf', 'dog is the opposite of cat', 'dog is related to friend', 'dog is related to cat', 'an Irish Setter is a dog', 'Somewhere a dog can be is in the backyard', 'Dog can hear whistling', 'a dog can mark its territory', 'A dog can be kicked', 'a Cocker Spaniel is a type of dog', '*Something you find on the porch is dog', 'a dog is a good friend', 'Somewhere a dog can be is in the backyard', '*Something you find on a dog is fleas', 'a dog can smell drugs', 'a dog wants lots of attention', 'walking the dog requires a dog', 'dog is related to puppy', 'dog is related to barking', 'cat is not dog', 'animal is related to dog', 'bone is related to dog', 'dog is related to four', 'A dog has paws', 'The dog can dig up his bone', 'An activity a dog can do is chasing a ball', 'a dog is for a pet', 'a dog can fight a cat', 'a dog can dig up bones', 'A dog can learn to do tricks', 'A dog can corner a cat', 'a dog wants affection', 'A dog can mother a puppy', 'A dog has two ears', 'a dog is used for guarding property', 'An activity a dog can do is chasing a ball', 'You are likely to find a dog in a house', 'The dog can dig up his bone', 'A dog has paws', 'a Great Dane is a dog', '*Something you find on the rug is a dog', 'a dog can walk on a leash', 'my dog would make you want to play frisbee', 'a dog can guide the blind', 'dog is related to house', 'dog is related to legs', 'dog is related to best', 'dog is related to domestic', 'dog is related to woof woof', 'pet is related to dog', 'dog is related to pet animal', 'dog is related to canine animal', 'dog is related to four legs', 'god is related to dog', 'puppy is related to dog', 'pup is related to dog', 'dog is related to best friend', 'dog is related to mammal', 'dog is related to canine pet', 'Labrador Retriever is a kind of dog', 'a dog can trip over a rope', 'dog is a synonym of cad', 'my dog wants to go for a walk', 'Newfoundland is a type of dog', 'cane is a translation of dog', 'a dog can trip over a rope', 'Newfoundland is a type of dog', 'dog is a synonym of cad', 'my dog wants to go for a walk', '飼犬 is a translation of dog', 'Labrador Retriever is a kind of dog', 'A dog can frighten intruders', 'You can use a dog to guard a house', 'chien is a translation of dog', 'dog is a type of chap', '*Something you find in bed is your dog', 'gos domèstic is a translation of dog', 'A dog wants to be loved by his master', 'Canis familiaris is a synonym of dog', 'Joy is a dog', '飼犬 is a translation of dog', 'หมอ is a translation of dog', 'pierun is a translation of dog', '*Something you find in bed is your dog', 'Leonberg is a type of dog', 'dog is a type of chap', 'Canis familiaris is a synonym of dog', 'gos domèstic is a translation of dog', 'A dog wants to be loved by his master', 'dog is a synonym of frump', 'chien is a translation of dog', 'a dog is a curious observer of mankind', \"a dog doesn't want to be abandoned\", 'tipo is a translation of dog', 'a person wants a dog', 'chien is a translation of dog', 'dog is a type of chap', '*Something you find in bed is your dog', 'A dog wants to be loved by his master', 'Canis familiaris is a synonym of dog', 'a dog is a curious observer of mankind', 'working dog is a type of dog', 'tipo is a translation of dog', \"a dog doesn't want to be abandoned\", 'dog is a synonym of frump', 'Mexican hairless is a type of dog', 'a person wants a dog', 'toy dog is a type of dog', 'puppy is a type of dog', 'gos domèstic is a translation of dog', 'a person wants a dog', 'puppy is a type of dog', 'toy dog is a type of dog', 'Mexican hairless is a type of dog', 'A dog wants to be loved by his master', 'a dog can shake hands', 'koira is a translation of dog', 'pug is a type of dog', 'can is a translation of dog', 'Canis familiaris is a translation of dog', 'gos domèstic is a translation of dog', 'Somewhere a dog can be is on the couch', 'a dog is a mans best friend', 'Somewhere a dog can be is on a leash', 'vovhund is a translation of dog', 'hunting dog is a type of dog', 'puppy is a type of dog', 'Mexican hairless is a type of dog', 'a dog can shake hands', 'koira is a translation of dog', 'หมา is a translation of dog', 'Great Pyrenees is a type of dog', 'can is a translation of dog', 'can is a translation of dog', 'Somewhere a dog can be is on a leash', 'cão is a translation of dog', 'vovhund is a translation of dog', 'pug is a type of dog', 'イヌ is a translation of dog', 'hunting dog is a type of dog', 'ca is a translation of dog', 'Leonberg is a type of dog', 'bisk is a translation of dog', 'pooch is a type of dog', 'kaveri is a translation of dog', 'a dog can stay in place', 'a dog can shake hands', 'A dog has a nose', 'สุนัข is a translation of dog', 'Somewhere a dog can be is on a leash', 'ドッグ is a translation of dog', 'vovhund is a translation of dog', 'pug is a type of dog', 'hund is a translation of dog', 'koira is a translation of dog', 'Great Pyrenees is a type of dog', 'ca is a translation of dog', 'can is a translation of dog', 'a dog can mark a tree', 'hunting dog is a type of dog', 'kaveri is a translation of dog', 'bisk is a translation of dog', 'toy dog is a type of dog', 'a dog can stay in place', 'chien is a translation of dog', 'hunting dog is a type of dog', 'Mexican hairless is a type of dog', 'bisk is a translation of dog', 'pooch is a type of dog', 'kaveri is a translation of dog', 'Canis familiaris is a translation of dog', 'a dog can stay in place', 'pies is a translation of dog', 'cane is a translation of dog', 'a dog can win a blue ribbon', 'canis familiaris is a translation of dog', 'หมา is a translation of dog', 'a golden retriever is a type of dog', 'zakur is a translation of dog', 'كَلْب is a translation of dog', 'gos is a translation of dog', 'dog is related to household', 'dog is related to god', 'fox is related to dog', 'dog is related to furry', 'cat is the opposite of dog', 'dog is related to house pet', 'dog is related to barking animal', 'bark is related to dog', 'dog is related to barks', 'kennel is related to dog', 'dog is related to mans', 'dog is related to domestic animal', 'dog is related to household pet', 'dog is related to backwards', 'cat is related to dog', 'wolf is related to dog', 'dog is related to family', 'dog is related to fur', 'dog is related to god backwards', 'dog is related to family pet', 'swim is related to dog', 'dog is related to paws', 'dog is related to bow', 'dare is related to dog', 'dog is related to hound', 'a dog can cover a hole in the ground', 'A dog is for companionship and protection', 'a dog can follow a person', 'a dog can lead police to a dead body', 'A dog can wear a sweater', 'A dog can be kept in a kennel', 'a dog can listen to his master', 'a dog can listen to his master', 'a dog is for herding sheep', 'a dog is used for love', 'a dog can remember basic commands', 'A dog can follow its master', 'your dog would make you want to go for a walk', 'a dog is for company', 'A dog can bring his master a bone', 'A dog can smell its food', 'a dog is part of the animal kingdom', 'a dog is for helping to control livestock', 'a dog is for helping to control livestock', 'a dog can hear sub sonic sounds', 'a dog is for providing friendship', 'a dog is used for tracking an animal', 'Dog wants to eat', 'A dog is for playing', 'your dog would make you want to go for a walk', 'a dog can walk a man', 'a dog can course a hare', 'a dog can remember basic commands', 'My dog has a big heart', 'The dog was straining at its leash', 'A dog can pull a sleigh', 'a dog wants meat', 'A dog can guard the premises', 'taking a bath is for a dog', 'a dog is one among many animals', 'A lurcher is a kind of dog', 'a dog can get a stick', 'a dog can hear high pitches', 'a dog is generally larger than a cat', 'a dog can smell scents', 'Somewhere a dog can be is in a pound', 'An activity a dog can do is urinate', 'One of the things you do when you are a dog is bark', 'a dog wants attention', 'a dog can act playful', 'You are likely to find a dog in petshop.', 'dog is used for bird hunting', 'An activity a dog can do is piss on the couch', 'a dog  wants to dig', 'a dog is very common pet', 'A dog is worth much more than a dime', 'A dog is worth much more than a dime', 'A dog can think about food', 'a dog can tear the rug', 'a dog is used for sniffing out explosives', 'a dog is a thing', \"a dog can eye a person's sandwich\", 'You are likely to find a dog in outside.', 'a dog can lead police to a dead body', 'A dog can come when you call its name', 'a dog is alive', 'An activity a dog can do is urinate', 'a dog  wants to dig', 'A dog can be bought at a pet store', 'A dog can come when you call its name', 'A dog can think about food', 'An activity a dog can do is piss on the couch', 'A dog can put his paw on your knee', 'A dog is happy when it wags its tail', 'An activity a dog can do is wag its tail', 'a dog can not eat a bone of contention.', 'a dog is for helping to control livestock', \"Somewhere a dog can be is in it's kennel\", 'a dog is part of the animal kingdom', 'A dog is a domesticated canine', 'a dog can stay in its house', 'a dog can be following his owner', 'You can use a dog to give you comfort', 'a dog is used for tracking an animal', 'My dog is shedding', 'A dog is for playing', 'a dog is used for tracking a criminal', 'a dog can walk a man', \"A dog doesn't want to go to the vet\", 'a dog can become a pet', 'a dog is for guarding a piece of property', 'A dog can please its master', 'a dog can cause an accident', 'You can use a dog to scare away a bad guy', 'My dog has a big heart', 'A dog can shake a slipper', 'a dog is for fetching sticks', 'a dog can tear a shirt', 'a dog can tear a shirt', 'A dog can live in a dog house', 'You are likely to find a dog in a back yard', 'a dog can stand on two legs', 'a dog can stand on two legs', 'a dog wants to go outside', 'A dog can pull a sleigh', 'My dog is cuter than your kids', 'Brownie is a dog', 'a dog can stand on two legs', 'taking a bath is for a dog', 'A dog can father a puppy', 'a dog can find food to \\\\eat', 'a dog can hunt a cat', 'a dog is used for sniffing out drugs', 'a dog is used for guarding a home', 'a dog is for chasing cats', 'a dog is for fetching sticks', 'One mammal is the dog', 'a dog can enjoy to play in the lake', 'a dog can like going for a walk', '*dog has legs', 'You are likely to find a dog in a pet store', 'You are likely to find a dog in a pet shop', 'A dog can see in black and white', 'a dog is generally larger than a cat', 'An activity a dog can do is lick his privates', 'a dog can eye an icecream', 'a dog can spot movement', 'An activity a dog can do is fetch a ball', 'A gundog is a kind of dog', 'I dog can mark its territory with its urine', 'a dog can spot movement', '*Something you find under a desk is my dog', 'A dog can learn to fetch things', 'My dog is so big', 'a dog can love its master', 'meeting a friend requires a dog', \"a person doesn't want a dog\", 'A dog can turn over', 'You are likely to find a dog in a pet shop', 'An activity a dog can do is fetch a ball', 'A dog can follow a scent', 'A dog wants to be walked', 'a dog can stand on two legs', 'Groenendael is a dog', 'dog    is made of hair.', 'A dog can learn how to beg', \"a dog can eat cat food but probably shouldn't\", 'a dog is for protecting livestock', 'An activity a dog can do is urinate', \"a dog can mother it's young\", 'Dog wants to play', 'A dog can fight another dog', 'a dog can guide a blind woman', 'a dog can understand simple commands', \"a dog doesn't want to be left home alone\", 'The Labradoodle is a dog', 'A dog can be playing dead', 'a dog can circle a tree', 'a dog can place a bone in a hole', 'A dog has one mouth', 'You are likely to find fleas in or rather on a dog', 'A dog can be gray', 'You can use a dog to protect your belongings', 'dog is a kind of quadriped.', 'The dog is mean', 'german sheperd is a type of dog.', 'You can use a dog to keep you watrm', 'a dog is used for dog experiments', 'Dog  is a domestic animal', 'a dog is for guarding a junkyard', '*Something you find under a desk is my dog', 'I dog can mark its territory with its urine', 'A gundog is a kind of dog', 'A dog can see in black and white', 'A dog can learn to fetch things', 'My dog is so big', 'a dog can love its master', 'meeting a friend requires a dog', \"a person doesn't want a dog\", 'A dog can turn over', 'You are likely to find a dog in a pet shop', 'An activity a dog can do is fetch a ball', 'A dog can follow a scent', 'A dog wants to be walked', 'a dog can eye an icecream', 'dog    is made of hair.', 'A dog can learn how to beg', \"a dog can eat cat food but probably shouldn't\", 'a dog can guard a building', 'a dog is for protecting livestock', 'a dog can run after the mailman', 'A pitbull is a dog', \"a dog can follow it's owner\", 'Groenendael is a dog', '*Something you find at the front door is a dog', 'Something you find downstairs is a dog', 'A dog can enjoy food', 'The dog is brown', 'A dog has brains', 'An activity a dog can do is play frisbee', 'Fido is a dog', \"A dog doesn't want punishment\", 'a dog can play with a bone.', 'your dog would make you want to jog', 'a dog can appear tired', \"You are likely to find a dog in dog owner's home.\", 'a dog can dream that he caught a rabbit', 'a dog wants food', 'A dog can belong a human', 'A shih tzu is a kind of dog', 'a collie is a type of dog', 'a dog is used for comforting the elderly', 'a dog can open a door', \"a dog can feed it's babies\", 'A dog is usually about two feet tall', 'A dog can cause a rabbit to run away', 'A dog can guard a home', 'a dog can be running in a dream', 'a dog can bury a bone in the ground.', 'You can use a dog to watch the house', 'a dog can circle sheep', \"a dog doesn't want a bath\", 'A greyhound is a kind of dog', 'German Shepard is a type of dog.', 'You are likely to find a dog in a farmyard', 'a dog is used for breeding', 'a dog wants to eat a lot', 'A purebred is a dog', 'A dog has a penis', 'a dog can run fasr', 'A lhasa apso is a kind of dog', 'The dog was growling at the man', 'a dog is for biting the postman', 'A dog is a very faithful friend', 'a thinking dog is a dog', '*Something you find on the ground is a dog', 'a dog can guide a blind human', 'A dog can smell the trace of another dog', 'a dog can help his master', 'your dog would make you want to take a walk', 'A dog sometimes barks when it hears steps', 'A dog can stand on its hindlegs', 'A dog can hear a whistle', 'a dog can sense fear', 'dog is related to cats', 'dog is related to wow', 'dog is related to bow wow', 'dog is related to loyal', 'dog is related to beagle', 'dog is related to domestic pet', 'dog is related to collar', 'dog is related to animal pet', 'hound is related to dog', 'dog is related to mans friend', 'dog is related to domesticated', 'bulldog is related to dog', 'dog is related to big puppy', 'dog is related to big', 'dog is related to canine friend', 'dog is related to wagging tail', 'dog is related to wagging', 'owner is related to dog', 'dog is related to fleas', 'sheep is related to dog', 'dog is related to barking pet', 'come is related to dog', 'dog is related to common pet', 'dog is related to common', 'dog is related to teeth', 'dog is related to beagle hound', 'dog is related to enemy', 'tail is related to dog', 'dog is related to domesticated animal', 'dog is related to home', 'stay is related to dog', 'obedience is related to dog', 'dog is related to bark bark', 'dog is related to ears', 'dog is related to man', 'dog is related to man friend', 'reward is related to dog', 'dog is related to lassie', 'dog is related to four paws', 'dog is related to pe', 'dog is related to animal canine', 'dog is related to flea', 'dog is related to small', 'dog is related to mans best', 'dog is related to friendly', 'rap is related to dog', 'dog is related to wolf wolf', 'dog is related to large', 'dog is related to household animal', 'dog is related to grown puppy', 'dog is related to grown', 'dog is related to people', 'dog is related to furry animal', 'dog is related to puppies', 'dog is related to fox', 'stick is related to dog', 'dog is related to wolves', 'dog is related to faithful animal', 'dog is related to faithful', 'master is related to dog', 'dog is related to animal furry', 'dog is related to legged', 'dog is related to four legged', 'roll is related to dog', 'goof is related to dog', 'dog is related to horse', 'dog is related to hair', 'frank is related to dog', 'dog is related to animal barks', 'dog is related to pooch', 'dog is related to lupine', 'dog is related to cat enemy', 'kitten is the opposite of dog', 'dog is related to rover', 'dog is related to doghouse', 'dog is related to large cat', 'dog is the opposite of cat maybe', 'dog is the opposite of maybe', 'dog is related to mutt', 'dog is related to poodle', 'whistle is related to dog', 'dog is related to pet canine', 'dog is related to home animal', 'muzzle is related to dog', 'dog is related to chaser', 'dog is related to cat chaser', 'yelp is related to dog', 'treat is related to dog', 'spike is related to dog', 'biscuit is related to dog', 'collar is related to dog', 'dog is related to kennel', 'dog is related to hater', 'dog is related to cat hater', 'dog is related to muzzle', 'horse is related to dog', 'dog is related to per', 'dog is related to k nine', 'dog is related to k', 'dog is related to nine', 'dog is related to loyal animal', 'dog is related to fuzzy', 'dog is related to wet', 'dog is related to nose', 'dog is related to wet nose', 'ruff is related to dog', 'dog is related to cats enemy', 'nip is related to dog', 'dog is related to pets', 'dog is related to woof animal', 'dog is related to house animal', 'dog is related to pet barking', 'dog is related to hairy', 'dog is related to leash', 'dog is related to it barks', 'dog is related to coyote', 'dog is related to tics', 'chief is related to dog', 'dog is related to bark woof', 'spot is related to dog', 'dog is related to cat and', 'dog is related to good', 'dog is related to good pet', 'dog is related to reverse', 'dog is related to reverse god', 'dog is related to teeth tail', 'neuter is related to dog', 'dog is related to small horse', 'dog is the opposite of woof', 'dog is related to cute', 'courage is related to dog', 'dog is related to humans', 'dog is related to guard', 'dog is related to homes', 'dog is related to houses', 'dog is related to puppy parent', 'dog is related to typical', 'dog is related to parent', 'dog is related to schnauzer', 'dog is related to typical pet', 'dog is related to stupid', 'dog is related to sorry', 'dog is the opposite of again', 'dog is related to pet sorry', 'dog is the opposite of cat again', 'dog is related to pluto', 'dog is related to canine pooch', 'dog is related to creature', 'shepherd is related to dog', 'dog is related to furry creature', 'dog is related to snoopy', 'dog is related to bark bite', 'dog is related to bite', 'dog is related to cats and', 'dog is related to loyal pet', 'dog is related to furry pet', 'dog is related to pet woof', 'command is related to dog', 'dog is related to domestic wolf', 'chow is related to dog', 'shake is related to dog', 'stroke is related to dog', 'dog is related to companionship', 'dog is related to greyhound', 'excuse is related to dog', 'dog is related to cur', 'dog is related to fluffy', 'dog is related to hunting', 'dog is related to parks', 'dog is related to canines', 'feline is not dog', 'polish is related to dog', 'dog is related to woof bark', 'pastor is related to dog', 'dog is not cut', 'admiral is related to dog', 'dog is related to tail barks', 'dog is related to woofer', 'dog is related to tail ears', 'loyalty is related to dog', 'dog is related to leach', 'dog is related to max', 'dog is related to old', 'dog is related to old puppy', 'dog is related to legs tail', 'dog is related to little horse', 'dog is related to little', 'dog is related to loving', 'dog is related to pup', 'god is the opposite of dog', 'pig is related to dog', 'dog is related to small fox', 'mean is related to dog', 'dog is related to bow bow', 'minister is related to dog', 'wash is related to dog', 'dog is the opposite of car', 'dog is related to companion', 'dog is related to animal companion', 'wiggle is related to dog', 'dog is the opposite of computer', 'dog is related to feline', 'dog is related to feline animal', 'dog is related to fun', 'dog is related to general canine', 'dog is related to general', 'dog is related to et', 'dog is related to household et', 'dog is related to friendly mammal', 'dog is related to bark animal', 'dog is related to terrier', 'dog is related to critter', 'dog is related to tailed animal', 'dog is related to fetching', 'dog is related to animal tail', 'dog is related to tailed', 'dog is related to flea animal', 'dog is related to hound animal', 'dog is related to barking fetching', 'duck is related to dog', 'dog is related to labrador', 'attack is related to dog', 'pact is related to dog', 'dog is related to wolf family', 'dog is related to small animal', 'dog is related to domesticated wolf', 'dog is related to retriever', 'herd is related to dog', 'dog is related to best pet', 'dog is related to raining cat', 'dog is related to large puppy', 'dog is related to raining', 'chinchilla is related to dog', 'bite is related to dog', 'dog is related to pet puppy', 'smell is related to dog', 'reply is related to dog']\n"
          ],
          "name": "stdout"
        }
      ]
    },
    {
      "cell_type": "code",
      "metadata": {
        "id": "1VvX7FY51j6D"
      },
      "source": [
        "i can bark \n",
        "\"\"\"[('packs', 0.9776023626327515),\n",
        " ('horns', 0.9774454832077026),\n",
        " ('While', 0.9773589372634888),\n",
        " ('green', 0.9773371815681458),\n",
        " ('Birds', 0.9772366285324097),\n",
        " ('Insects', 0.9771460890769958),\n",
        " ('appearing', 0.9770932197570801),\n",
        " ('lower', 0.9770735502243042),\n",
        " ('compound', 0.9769407510757446),\n",
        " ('fruits', 0.9769216179847717)]\"\"\"\n",
        " pet \n",
        " \"\"\"[('subfamily', 0.9990271925926208),\n",
        " ('breeding', 0.9990164041519165),\n",
        " ('genus', 0.9989942312240601),\n",
        " ('A', 0.9989901781082153),\n",
        " ('other', 0.9989889860153198),\n",
        " ('commonly', 0.9989882707595825),\n",
        " ('families', 0.9989880919456482),\n",
        " ('food', 0.9989877343177795),\n",
        " ('not', 0.9989871382713318),\n",
        " ('Old', 0.9989856481552124)]\"\"\"\n",
        "#load topics file \n",
        "#copy unique topics into a list\n",
        "#for loop in topics\n",
        "#algorithm to retrieve triples , weights topic wise\n",
        "#write the topic , retrieived triples and weights to excel sheet\n",
        "#delete topic from the list\n",
        "#Handle exceptions and errors\n"
      ],
      "execution_count": null,
      "outputs": []
    },
    {
      "cell_type": "code",
      "metadata": {
        "id": "EVvumc4Skqe3"
      },
      "source": [
        "#load topics\n",
        "animals=pd.read_csv()\n",
        "topicList=animals.topic.unique()\n",
        "\n",
        "def retrieveTriples\n",
        "output - statement, weight, topic\n",
        "\n",
        "\n",
        "\n"
      ],
      "execution_count": null,
      "outputs": []
    },
    {
      "cell_type": "code",
      "metadata": {
        "id": "X2V0i9Vkkqdq"
      },
      "source": [],
      "execution_count": null,
      "outputs": []
    },
    {
      "cell_type": "code",
      "metadata": {
        "colab": {
          "base_uri": "https://localhost:8080/"
        },
        "id": "9AUX6nsGqITC",
        "outputId": "168dae7c-e7e9-41ff-cf5f-bda6065dc87a"
      },
      "source": [
        "import json\n",
        "import requests\n",
        "import re\n",
        "import string\n",
        "import time\n",
        "\n",
        "rel=['IsA','PartOf','HasA','UsedFor','CapableOf','AtLocation','Causes','Desires','RelatedTo','']\n",
        "#dict={'statement':[],'weight':[]}\n",
        "\"\"\"obj = requests.get('http://api.conceptnet.io/c/en/dog').json()\n",
        "for i in range(len(obj['edges'])):\n",
        "  if obj['edges'][i]['rel']['label'] in rel:\n",
        "      dict['statement'].append(obj['edges'][i]['surfaceText'].replace('[','').replace(']',''))\n",
        "      dict['weight'].append(obj['edges'][i]['weight'])\"\"\"\n",
        "\n",
        "#extract by filtering the rel and extract weights as well\n",
        "#rel=['IsA','PartOf','HasA','UsedFor','CapableOf','AtLocation','Causes','Desires','RelatedTo']\n",
        "url='http://api.conceptnet.io'\n",
        "def retrieveFilterTriples(orgReq,noOfIter,dict={'topic':[],'statement':[],'weight':[]}):\n",
        " for i in range(noOfIter):\n",
        "   time.sleep(0.05)\n",
        "   obj=requests.get(orgReq).json()\n",
        "   for i in range(len(obj['edges'])):\n",
        "     topic=obj['@id'].replace(\"/c/en/\",\"\")\n",
        "     if obj['edges'][i]['surfaceText'] != None :\n",
        "         if obj['edges'][i]['rel']['label'] in rel:\n",
        "             dict['statement'].append(obj['edges'][i]['surfaceText'].replace('[','').replace(']',''))\n",
        "             dict['weight'].append(round(obj['edges'][i]['weight'],2))\n",
        "             dict['topic'].append(topic)\n",
        "   if 'view' in obj.keys():\n",
        "      if 'nextPage' in obj['view'].keys():\n",
        "       #if obj['view']['nextPage'] is not null: #condition to check if nextPage attribute exists or not done\n",
        "          orgReq=url+obj['view']['nextPage']\n",
        "      else:\n",
        "          break\n",
        " return dict\n",
        "\n",
        "#dict=retrieveFilterTriples('http://api.conceptnet.io/c/en/aardvark',100)\n",
        "arr=['Mammal','Insect','Crustacean','Eukaryote','Plant','Species']\n",
        "#for topic in animals.topic.unique():\n",
        "for topic in arr:\n",
        "  obj=url+'/c/en/'+topic.lower()\n",
        "  print(obj)\n",
        "  dict=retrieveFilterTriples(obj,1000)\n",
        "  print(dict)"
      ],
      "execution_count": null,
      "outputs": [
        {
          "output_type": "stream",
          "text": [
            "http://api.conceptnet.io/c/en/mammal\n",
            "{'topic': ['mammal', 'mammal', 'mammal', 'mammal', 'mammal', 'mammal', 'mammal', 'mammal', 'mammal', 'mammal', 'mammal', 'mammal', 'mammal', 'mammal', 'mammal', 'mammal', 'mammal', 'mammal', 'mammal', 'mammal', 'mammal', 'mammal', 'mammal', 'mammal', 'mammal', 'mammal', 'mammal', 'mammal', 'mammal', 'mammal', 'mammal', 'mammal', 'mammal', 'mammal', 'mammal', 'mammal', 'mammal', 'mammal', 'mammal', 'mammal', 'mammal', 'mammal', 'mammal', 'mammal', 'mammal', 'mammal', 'mammal', 'mammal', 'mammal', 'mammal', 'mammal', 'mammal', 'mammal', 'mammal', 'mammal', 'mammal', 'mammal', 'mammal', 'mammal', 'mammal', 'mammal', 'mammal', 'mammal', 'mammal', 'mammal', 'mammal', 'mammal', 'mammal', 'mammal', 'mammal', 'mammal', 'mammal', 'mammal', 'mammal', 'mammal', 'mammal', 'mammal', 'mammal', 'mammal', 'mammal', 'mammal', 'mammal', 'mammal', 'mammal', 'mammal', 'mammal', 'mammal', 'mammal', 'mammal', 'mammal', 'mammal', 'mammal', 'mammal', 'mammal', 'mammal'], 'statement': ['squirrel is related to mammal', 'bat is related to mammal', 'a dog is a kind of mammal', 'A mouse is a type of mammal', 'bear is related to mammal', 'horse is related to mammal', 'sheep is related to mammal', 'A bear is a mammal', 'rabbit is related to mammal', 'A rabbit is a mammal', 'whale is a kind of mammal', 'mole is related to mammal', 'dog is related to mammal', 'cow is related to mammal', 'fossorial mammal is a type of mammal', 'hair is a part of mammal', 'prototherian is a type of mammal', 'prototherian is a type of mammal', 'metatherian is a type of mammal', 'hair is a part of mammal', 'prototherian is a type of mammal', 'The beaver is a mammal', 'mammal is a type of vertebrate', 'coat is a part of mammal', 'a badger is a kind of mammal.', 'fossorial mammal is a type of mammal', 'prototherian is a type of mammal', 'metatherian is a type of mammal', 'bird is related to mammal', 'whale is related to mammal', 'human is related to mammal', 'cat is related to mammal', 'a hedgehog is a mammal', 'a hedgehog is a mammal', 'a hedgehog is a mammal', 'An aardwolf is a type of mammal', 'a hedgehog is a mammal', 'The giraffe is a mammal', 'An aardwolf is a type of mammal', 'a tapir is a mammal', 'You are likely to find an artery in a mammal', 'You are likely to find an eye in a mammal', 'The giraffe is a mammal', 'An activity a mammal can do is play', 'a mammal can drink liquids', 'a rodent is a type of mammal', 'You are likely to find an eye in a mammal', 'An activity a mammal can do is mate', 'An aardwolf is a type of mammal', 'pig is related to mammal', 'animal is related to mammal', 'walrus is related to mammal', 'otter is related to mammal', 'mammal is related to animal', 'mammal is related to warm', 'mammal is related to warm blooded', 'mammal is related to blooded', 'elephant is related to mammal', 'chicken is related to mammal', 'fox is related to mammal', 'mammal is related to breasts', 'lion is related to mammal', 'mammal is related to air', 'mammal is related to breather', 'mammal is related to air breather', 'chipmunk is related to mammal', 'tortoise is related to mammal', 'skunk is related to mammal', 'milk is related to mammal', 'mammal is related to generic animal', 'mammal is related to generic', 'person is related to mammal', 'ox is related to mammal', 'moose is related to mammal', 'monkey is related to mammal', 'seal is related to mammal', 'mammal is related to animal hair', 'mammal is related to hair', 'mammal is related to animal kingdom', 'mammal is related to kingdom', 'mammal is related to furry animal', 'mammal is related to furry', 'mammal is related to lungs', 'people is related to mammal', 'mammal is related to dolphin', 'armadillo is related to mammal', 'mammal is related to monkey dolphin', 'mammal is related to general', 'mammal is related to monkey', 'mammal is related to animals', 'mammal is related to all animals', 'deer is related to mammal', 'mammal is related to feet', 'mammal is related to four feet', 'mammal is related to four'], 'weight': [5.69, 5.58, 5.29, 4.9, 4.52, 4.45, 4.2, 3.46, 3.04, 2.83, 2.83, 2.75, 2.04, 2.03, 2.0, 2.0, 2.0, 2.0, 2.0, 2.0, 2.0, 2.0, 2.0, 2.0, 2.0, 2.0, 2.0, 2.0, 1.54, 1.42, 1.13, 1.06, 1.0, 1.0, 1.0, 1.0, 1.0, 1.0, 1.0, 1.0, 1.0, 1.0, 1.0, 1.0, 1.0, 1.0, 1.0, 1.0, 1.0, 0.94, 0.87, 0.74, 0.67, 0.66, 0.53, 0.53, 0.53, 0.39, 0.34, 0.29, 0.27, 0.25, 0.23, 0.23, 0.23, 0.22, 0.22, 0.21, 0.21, 0.2, 0.2, 0.19, 0.17, 0.16, 0.16, 0.16, 0.15, 0.15, 0.15, 0.15, 0.15, 0.15, 0.14, 0.14, 0.13, 0.13, 0.13, 0.13, 0.13, 0.12, 0.12, 0.1, 0.1, 0.1, 0.1]}\n",
            "http://api.conceptnet.io/c/en/insect\n",
            "{'topic': ['mammal', 'mammal', 'mammal', 'mammal', 'mammal', 'mammal', 'mammal', 'mammal', 'mammal', 'mammal', 'mammal', 'mammal', 'mammal', 'mammal', 'mammal', 'mammal', 'mammal', 'mammal', 'mammal', 'mammal', 'mammal', 'mammal', 'mammal', 'mammal', 'mammal', 'mammal', 'mammal', 'mammal', 'mammal', 'mammal', 'mammal', 'mammal', 'mammal', 'mammal', 'mammal', 'mammal', 'mammal', 'mammal', 'mammal', 'mammal', 'mammal', 'mammal', 'mammal', 'mammal', 'mammal', 'mammal', 'mammal', 'mammal', 'mammal', 'mammal', 'mammal', 'mammal', 'mammal', 'mammal', 'mammal', 'mammal', 'mammal', 'mammal', 'mammal', 'mammal', 'mammal', 'mammal', 'mammal', 'mammal', 'mammal', 'mammal', 'mammal', 'mammal', 'mammal', 'mammal', 'mammal', 'mammal', 'mammal', 'mammal', 'mammal', 'mammal', 'mammal', 'mammal', 'mammal', 'mammal', 'mammal', 'mammal', 'mammal', 'mammal', 'mammal', 'mammal', 'mammal', 'mammal', 'mammal', 'mammal', 'mammal', 'mammal', 'mammal', 'mammal', 'mammal', 'insect', 'insect', 'insect', 'insect', 'insect', 'insect', 'insect', 'insect', 'insect', 'insect', 'insect', 'insect', 'insect', 'insect', 'insect', 'insect', 'insect', 'insect', 'insect', 'insect', 'insect', 'insect', 'insect', 'insect', 'insect', 'insect', 'insect', 'insect', 'insect', 'insect', 'insect', 'insect', 'insect', 'insect', 'insect', 'insect', 'insect', 'insect', 'insect', 'insect', 'insect', 'insect', 'insect', 'insect', 'insect', 'insect', 'insect', 'insect', 'insect', 'insect', 'insect', 'insect', 'insect', 'insect', 'insect', 'insect', 'insect', 'insect', 'insect', 'insect', 'insect', 'insect', 'insect', 'insect', 'insect', 'insect', 'insect', 'insect', 'insect', 'insect', 'insect', 'insect', 'insect', 'insect', 'insect', 'insect', 'insect', 'insect', 'insect', 'insect', 'insect', 'insect', 'insect', 'insect', 'insect', 'insect', 'insect', 'insect', 'insect', 'insect', 'insect', 'insect', 'insect', 'insect', 'insect', 'insect', 'insect', 'insect', 'insect', 'insect', 'insect', 'insect', 'insect', 'insect', 'insect', 'insect', 'insect', 'insect', 'insect', 'insect', 'insect', 'insect', 'insect', 'insect', 'insect', 'insect', 'insect', 'insect', 'insect', 'insect', 'insect', 'insect'], 'statement': ['squirrel is related to mammal', 'bat is related to mammal', 'a dog is a kind of mammal', 'A mouse is a type of mammal', 'bear is related to mammal', 'horse is related to mammal', 'sheep is related to mammal', 'A bear is a mammal', 'rabbit is related to mammal', 'A rabbit is a mammal', 'whale is a kind of mammal', 'mole is related to mammal', 'dog is related to mammal', 'cow is related to mammal', 'fossorial mammal is a type of mammal', 'hair is a part of mammal', 'prototherian is a type of mammal', 'prototherian is a type of mammal', 'metatherian is a type of mammal', 'hair is a part of mammal', 'prototherian is a type of mammal', 'The beaver is a mammal', 'mammal is a type of vertebrate', 'coat is a part of mammal', 'a badger is a kind of mammal.', 'fossorial mammal is a type of mammal', 'prototherian is a type of mammal', 'metatherian is a type of mammal', 'bird is related to mammal', 'whale is related to mammal', 'human is related to mammal', 'cat is related to mammal', 'a hedgehog is a mammal', 'a hedgehog is a mammal', 'a hedgehog is a mammal', 'An aardwolf is a type of mammal', 'a hedgehog is a mammal', 'The giraffe is a mammal', 'An aardwolf is a type of mammal', 'a tapir is a mammal', 'You are likely to find an artery in a mammal', 'You are likely to find an eye in a mammal', 'The giraffe is a mammal', 'An activity a mammal can do is play', 'a mammal can drink liquids', 'a rodent is a type of mammal', 'You are likely to find an eye in a mammal', 'An activity a mammal can do is mate', 'An aardwolf is a type of mammal', 'pig is related to mammal', 'animal is related to mammal', 'walrus is related to mammal', 'otter is related to mammal', 'mammal is related to animal', 'mammal is related to warm', 'mammal is related to warm blooded', 'mammal is related to blooded', 'elephant is related to mammal', 'chicken is related to mammal', 'fox is related to mammal', 'mammal is related to breasts', 'lion is related to mammal', 'mammal is related to air', 'mammal is related to breather', 'mammal is related to air breather', 'chipmunk is related to mammal', 'tortoise is related to mammal', 'skunk is related to mammal', 'milk is related to mammal', 'mammal is related to generic animal', 'mammal is related to generic', 'person is related to mammal', 'ox is related to mammal', 'moose is related to mammal', 'monkey is related to mammal', 'seal is related to mammal', 'mammal is related to animal hair', 'mammal is related to hair', 'mammal is related to animal kingdom', 'mammal is related to kingdom', 'mammal is related to furry animal', 'mammal is related to furry', 'mammal is related to lungs', 'people is related to mammal', 'mammal is related to dolphin', 'armadillo is related to mammal', 'mammal is related to monkey dolphin', 'mammal is related to general', 'mammal is related to monkey', 'mammal is related to animals', 'mammal is related to all animals', 'deer is related to mammal', 'mammal is related to feet', 'mammal is related to four feet', 'mammal is related to four', 'flea is related to insect', 'a fly is a insect', 'fly is related to insect', 'A butterfly is an insect', 'ant is a kind of insect', 'An earwig is an insect', 'mosquito is related to insect', 'insect is related to bug', 'stonefly is a type of insect', 'air sac is a part of insect', 'bug is a type of insect', 'phasmid is a type of insect', 'imago is a type of insect', 'ephemera is a type of insect', 'ephemerid is a type of insect', 'neuropteron is a type of insect', 'odonate is a type of insect', 'hemipterous insect is a type of insect', 'defoliator is a type of insect', 'queen is a type of insect', 'imago is a type of insect', 'stonefly is a type of insect', 'firefly is a kind of insect', 'phasmid is a type of insect', 'ephemera is a type of insect', 'ephemerid is a type of insect', 'leaf miner is a type of insect', 'neuropteron is a type of insect', 'heteropterous insect is a type of insect', 'hemipterous insect is a type of insect', 'lepidopterous insect is a type of insect', 'queen is a type of insect', 'dictyopterous insect is a type of insect', 'beetle is a type of insect', 'louse is a type of insect', 'imago is a type of insect', 'firefly is a kind of insect', 'phasmid is a type of insect', 'stonefly is a type of insect', 'bug is a type of insect', 'lepidopterous insect is a type of insect', 'An insect has 6 legs', 'dipterous insect is a type of insect', 'neuropteron is a type of insect', 'odonate is a type of insect', 'defoliator is a type of insect', 'flea is a type of insect', 'ala is a part of insect', 'proturan is a type of insect', 'wing is a part of insect', 'dictyopterous insect is a type of insect', 'thorax is a part of insect', 'bird louse is a type of insect', 'thysanuran insect is a type of insect', 'trichopterous insect is a type of insect', 'web spinner is a type of insect', 'A wasp is an insect', 'clypeus is a part of insect', 'bee is related to insect', 'butterfly is related to insect', 'insect is related to beetle', 'ant is related to insect', 'scorpion is related to insect', 'Somewhere an insect can be is on he ground', 'An ant lion is a type of insect', 'An ant lion is a type of insect', 'Somewhere an insect can be is on he ground', 'A mole cricket is an insect', 'a housefly is a insect', 'Japanese beetle is an insect', 'Japanese beetle is an insect', 'A roach is an insect', 'insect is a kind of arthropod', 'insect is a type of animal.', 'An abdomen is part of an insect', 'A mole cricket is an insect', 'A mole cricket is an insect', 'a housefly is a insect', 'Japanese beetle is an insect', 'A roach is an insect', 'A bee is an insect', 'insect is a kind of arthropod', 'insect is a type of animal.', 'An abdomen is part of an insect', 'be is related to insect', 'lice is related to insect', 'moth is related to insect', 'grasshopper is related to insect', 'pest is related to insect', 'insect is related to fly', 'gnat is related to insect', 'snail is related to insect', 'insect is related to animal', 'silk is related to insect', 'insect is related to six', 'insect is related to six legs', 'insect is related to legs', 'bat is related to insect', 'spider is related to insect', 'insect is related to mosquito', 'insect is related to bugs', 'earthworm is related to insect', 'cake is related to insect', 'insect is related to stinging fly', 'insect is related to stinging', 'insect is related to spider', 'insect is related to fly spider', 'caterpillar is related to insect', 'beehive is related to insect', 'insect is related to tiny', 'insect is related to tiny animal', 'nest is related to insect', 'insect is related to describing group', 'insect is related to describing', 'insect is related to group', 'jitterbug is related to insect', 'interest is related to insect', 'off is related to insect', 'insect is related to generic', 'worm is related to insect', 'insect is related to bug animal', 'creature is related to insect'], 'weight': [5.69, 5.58, 5.29, 4.9, 4.52, 4.45, 4.2, 3.46, 3.04, 2.83, 2.83, 2.75, 2.04, 2.03, 2.0, 2.0, 2.0, 2.0, 2.0, 2.0, 2.0, 2.0, 2.0, 2.0, 2.0, 2.0, 2.0, 2.0, 1.54, 1.42, 1.13, 1.06, 1.0, 1.0, 1.0, 1.0, 1.0, 1.0, 1.0, 1.0, 1.0, 1.0, 1.0, 1.0, 1.0, 1.0, 1.0, 1.0, 1.0, 0.94, 0.87, 0.74, 0.67, 0.66, 0.53, 0.53, 0.53, 0.39, 0.34, 0.29, 0.27, 0.25, 0.23, 0.23, 0.23, 0.22, 0.22, 0.21, 0.21, 0.2, 0.2, 0.19, 0.17, 0.16, 0.16, 0.16, 0.15, 0.15, 0.15, 0.15, 0.15, 0.15, 0.14, 0.14, 0.13, 0.13, 0.13, 0.13, 0.13, 0.12, 0.12, 0.1, 0.1, 0.1, 0.1, 8.5, 6.93, 4.96, 4.9, 2.83, 2.83, 2.57, 2.25, 2.0, 2.0, 2.0, 2.0, 2.0, 2.0, 2.0, 2.0, 2.0, 2.0, 2.0, 2.0, 2.0, 2.0, 2.0, 2.0, 2.0, 2.0, 2.0, 2.0, 2.0, 2.0, 2.0, 2.0, 2.0, 2.0, 2.0, 2.0, 2.0, 2.0, 2.0, 2.0, 2.0, 2.0, 2.0, 2.0, 2.0, 2.0, 2.0, 2.0, 2.0, 2.0, 2.0, 2.0, 2.0, 2.0, 2.0, 2.0, 2.0, 2.0, 1.84, 1.43, 1.34, 1.28, 1.09, 1.0, 1.0, 1.0, 1.0, 1.0, 1.0, 1.0, 1.0, 1.0, 1.0, 1.0, 1.0, 1.0, 1.0, 1.0, 1.0, 1.0, 1.0, 1.0, 1.0, 1.0, 0.97, 0.96, 0.95, 0.78, 0.66, 0.54, 0.46, 0.44, 0.42, 0.38, 0.36, 0.36, 0.36, 0.34, 0.29, 0.27, 0.23, 0.23, 0.18, 0.18, 0.18, 0.17, 0.17, 0.17, 0.17, 0.17, 0.17, 0.16, 0.15, 0.15, 0.15, 0.15, 0.13, 0.12, 0.11, 0.11, 0.1, 0.1]}\n",
            "http://api.conceptnet.io/c/en/crustacean\n",
            "{'topic': ['mammal', 'mammal', 'mammal', 'mammal', 'mammal', 'mammal', 'mammal', 'mammal', 'mammal', 'mammal', 'mammal', 'mammal', 'mammal', 'mammal', 'mammal', 'mammal', 'mammal', 'mammal', 'mammal', 'mammal', 'mammal', 'mammal', 'mammal', 'mammal', 'mammal', 'mammal', 'mammal', 'mammal', 'mammal', 'mammal', 'mammal', 'mammal', 'mammal', 'mammal', 'mammal', 'mammal', 'mammal', 'mammal', 'mammal', 'mammal', 'mammal', 'mammal', 'mammal', 'mammal', 'mammal', 'mammal', 'mammal', 'mammal', 'mammal', 'mammal', 'mammal', 'mammal', 'mammal', 'mammal', 'mammal', 'mammal', 'mammal', 'mammal', 'mammal', 'mammal', 'mammal', 'mammal', 'mammal', 'mammal', 'mammal', 'mammal', 'mammal', 'mammal', 'mammal', 'mammal', 'mammal', 'mammal', 'mammal', 'mammal', 'mammal', 'mammal', 'mammal', 'mammal', 'mammal', 'mammal', 'mammal', 'mammal', 'mammal', 'mammal', 'mammal', 'mammal', 'mammal', 'mammal', 'mammal', 'mammal', 'mammal', 'mammal', 'mammal', 'mammal', 'mammal', 'insect', 'insect', 'insect', 'insect', 'insect', 'insect', 'insect', 'insect', 'insect', 'insect', 'insect', 'insect', 'insect', 'insect', 'insect', 'insect', 'insect', 'insect', 'insect', 'insect', 'insect', 'insect', 'insect', 'insect', 'insect', 'insect', 'insect', 'insect', 'insect', 'insect', 'insect', 'insect', 'insect', 'insect', 'insect', 'insect', 'insect', 'insect', 'insect', 'insect', 'insect', 'insect', 'insect', 'insect', 'insect', 'insect', 'insect', 'insect', 'insect', 'insect', 'insect', 'insect', 'insect', 'insect', 'insect', 'insect', 'insect', 'insect', 'insect', 'insect', 'insect', 'insect', 'insect', 'insect', 'insect', 'insect', 'insect', 'insect', 'insect', 'insect', 'insect', 'insect', 'insect', 'insect', 'insect', 'insect', 'insect', 'insect', 'insect', 'insect', 'insect', 'insect', 'insect', 'insect', 'insect', 'insect', 'insect', 'insect', 'insect', 'insect', 'insect', 'insect', 'insect', 'insect', 'insect', 'insect', 'insect', 'insect', 'insect', 'insect', 'insect', 'insect', 'insect', 'insect', 'insect', 'insect', 'insect', 'insect', 'insect', 'insect', 'insect', 'insect', 'insect', 'insect', 'insect', 'insect', 'insect', 'insect', 'insect', 'insect', 'insect', 'insect', 'crustacean', 'crustacean', 'crustacean', 'crustacean', 'crustacean', 'crustacean', 'crustacean', 'crustacean', 'crustacean', 'crustacean', 'crustacean', 'crustacean', 'crustacean', 'crustacean', 'crustacean', 'crustacean', 'crustacean', 'crustacean', 'crustacean', 'crustacean'], 'statement': ['squirrel is related to mammal', 'bat is related to mammal', 'a dog is a kind of mammal', 'A mouse is a type of mammal', 'bear is related to mammal', 'horse is related to mammal', 'sheep is related to mammal', 'A bear is a mammal', 'rabbit is related to mammal', 'A rabbit is a mammal', 'whale is a kind of mammal', 'mole is related to mammal', 'dog is related to mammal', 'cow is related to mammal', 'fossorial mammal is a type of mammal', 'hair is a part of mammal', 'prototherian is a type of mammal', 'prototherian is a type of mammal', 'metatherian is a type of mammal', 'hair is a part of mammal', 'prototherian is a type of mammal', 'The beaver is a mammal', 'mammal is a type of vertebrate', 'coat is a part of mammal', 'a badger is a kind of mammal.', 'fossorial mammal is a type of mammal', 'prototherian is a type of mammal', 'metatherian is a type of mammal', 'bird is related to mammal', 'whale is related to mammal', 'human is related to mammal', 'cat is related to mammal', 'a hedgehog is a mammal', 'a hedgehog is a mammal', 'a hedgehog is a mammal', 'An aardwolf is a type of mammal', 'a hedgehog is a mammal', 'The giraffe is a mammal', 'An aardwolf is a type of mammal', 'a tapir is a mammal', 'You are likely to find an artery in a mammal', 'You are likely to find an eye in a mammal', 'The giraffe is a mammal', 'An activity a mammal can do is play', 'a mammal can drink liquids', 'a rodent is a type of mammal', 'You are likely to find an eye in a mammal', 'An activity a mammal can do is mate', 'An aardwolf is a type of mammal', 'pig is related to mammal', 'animal is related to mammal', 'walrus is related to mammal', 'otter is related to mammal', 'mammal is related to animal', 'mammal is related to warm', 'mammal is related to warm blooded', 'mammal is related to blooded', 'elephant is related to mammal', 'chicken is related to mammal', 'fox is related to mammal', 'mammal is related to breasts', 'lion is related to mammal', 'mammal is related to air', 'mammal is related to breather', 'mammal is related to air breather', 'chipmunk is related to mammal', 'tortoise is related to mammal', 'skunk is related to mammal', 'milk is related to mammal', 'mammal is related to generic animal', 'mammal is related to generic', 'person is related to mammal', 'ox is related to mammal', 'moose is related to mammal', 'monkey is related to mammal', 'seal is related to mammal', 'mammal is related to animal hair', 'mammal is related to hair', 'mammal is related to animal kingdom', 'mammal is related to kingdom', 'mammal is related to furry animal', 'mammal is related to furry', 'mammal is related to lungs', 'people is related to mammal', 'mammal is related to dolphin', 'armadillo is related to mammal', 'mammal is related to monkey dolphin', 'mammal is related to general', 'mammal is related to monkey', 'mammal is related to animals', 'mammal is related to all animals', 'deer is related to mammal', 'mammal is related to feet', 'mammal is related to four feet', 'mammal is related to four', 'flea is related to insect', 'a fly is a insect', 'fly is related to insect', 'A butterfly is an insect', 'ant is a kind of insect', 'An earwig is an insect', 'mosquito is related to insect', 'insect is related to bug', 'stonefly is a type of insect', 'air sac is a part of insect', 'bug is a type of insect', 'phasmid is a type of insect', 'imago is a type of insect', 'ephemera is a type of insect', 'ephemerid is a type of insect', 'neuropteron is a type of insect', 'odonate is a type of insect', 'hemipterous insect is a type of insect', 'defoliator is a type of insect', 'queen is a type of insect', 'imago is a type of insect', 'stonefly is a type of insect', 'firefly is a kind of insect', 'phasmid is a type of insect', 'ephemera is a type of insect', 'ephemerid is a type of insect', 'leaf miner is a type of insect', 'neuropteron is a type of insect', 'heteropterous insect is a type of insect', 'hemipterous insect is a type of insect', 'lepidopterous insect is a type of insect', 'queen is a type of insect', 'dictyopterous insect is a type of insect', 'beetle is a type of insect', 'louse is a type of insect', 'imago is a type of insect', 'firefly is a kind of insect', 'phasmid is a type of insect', 'stonefly is a type of insect', 'bug is a type of insect', 'lepidopterous insect is a type of insect', 'An insect has 6 legs', 'dipterous insect is a type of insect', 'neuropteron is a type of insect', 'odonate is a type of insect', 'defoliator is a type of insect', 'flea is a type of insect', 'ala is a part of insect', 'proturan is a type of insect', 'wing is a part of insect', 'dictyopterous insect is a type of insect', 'thorax is a part of insect', 'bird louse is a type of insect', 'thysanuran insect is a type of insect', 'trichopterous insect is a type of insect', 'web spinner is a type of insect', 'A wasp is an insect', 'clypeus is a part of insect', 'bee is related to insect', 'butterfly is related to insect', 'insect is related to beetle', 'ant is related to insect', 'scorpion is related to insect', 'Somewhere an insect can be is on he ground', 'An ant lion is a type of insect', 'An ant lion is a type of insect', 'Somewhere an insect can be is on he ground', 'A mole cricket is an insect', 'a housefly is a insect', 'Japanese beetle is an insect', 'Japanese beetle is an insect', 'A roach is an insect', 'insect is a kind of arthropod', 'insect is a type of animal.', 'An abdomen is part of an insect', 'A mole cricket is an insect', 'A mole cricket is an insect', 'a housefly is a insect', 'Japanese beetle is an insect', 'A roach is an insect', 'A bee is an insect', 'insect is a kind of arthropod', 'insect is a type of animal.', 'An abdomen is part of an insect', 'be is related to insect', 'lice is related to insect', 'moth is related to insect', 'grasshopper is related to insect', 'pest is related to insect', 'insect is related to fly', 'gnat is related to insect', 'snail is related to insect', 'insect is related to animal', 'silk is related to insect', 'insect is related to six', 'insect is related to six legs', 'insect is related to legs', 'bat is related to insect', 'spider is related to insect', 'insect is related to mosquito', 'insect is related to bugs', 'earthworm is related to insect', 'cake is related to insect', 'insect is related to stinging fly', 'insect is related to stinging', 'insect is related to spider', 'insect is related to fly spider', 'caterpillar is related to insect', 'beehive is related to insect', 'insect is related to tiny', 'insect is related to tiny animal', 'nest is related to insect', 'insect is related to describing group', 'insect is related to describing', 'insect is related to group', 'jitterbug is related to insect', 'interest is related to insect', 'off is related to insect', 'insect is related to generic', 'worm is related to insect', 'insect is related to bug animal', 'creature is related to insect', 'brachyuran is a type of crustacean', 'barnacle is a kind of crustacean', 'crustacean is a animal', 'copepod is a type of crustacean', 'barnacle is a type of crustacean', 'malacostracan crustacean is a type of crustacean', 'green gland is a part of crustacean', 'branchiopod crustacean is a type of crustacean', 'stomatopod is a type of crustacean', 'claw is a part of crustacean', 'crustacean is a type of arthropod', 'malacostracan crustacean is a type of crustacean', 'crayfish is a kind of crustacean', 'shrimp is a kind of crustacean', 'crayfish is a kind of crustacean', 'shrimp is a kind of crustacean', 'isopod is a type of crustacean.', 'a crustacean is a kind of arthropod', 'lobster is related to crustacean', 'barnacle is related to crustacean'], 'weight': [5.69, 5.58, 5.29, 4.9, 4.52, 4.45, 4.2, 3.46, 3.04, 2.83, 2.83, 2.75, 2.04, 2.03, 2.0, 2.0, 2.0, 2.0, 2.0, 2.0, 2.0, 2.0, 2.0, 2.0, 2.0, 2.0, 2.0, 2.0, 1.54, 1.42, 1.13, 1.06, 1.0, 1.0, 1.0, 1.0, 1.0, 1.0, 1.0, 1.0, 1.0, 1.0, 1.0, 1.0, 1.0, 1.0, 1.0, 1.0, 1.0, 0.94, 0.87, 0.74, 0.67, 0.66, 0.53, 0.53, 0.53, 0.39, 0.34, 0.29, 0.27, 0.25, 0.23, 0.23, 0.23, 0.22, 0.22, 0.21, 0.21, 0.2, 0.2, 0.19, 0.17, 0.16, 0.16, 0.16, 0.15, 0.15, 0.15, 0.15, 0.15, 0.15, 0.14, 0.14, 0.13, 0.13, 0.13, 0.13, 0.13, 0.12, 0.12, 0.1, 0.1, 0.1, 0.1, 8.5, 6.93, 4.96, 4.9, 2.83, 2.83, 2.57, 2.25, 2.0, 2.0, 2.0, 2.0, 2.0, 2.0, 2.0, 2.0, 2.0, 2.0, 2.0, 2.0, 2.0, 2.0, 2.0, 2.0, 2.0, 2.0, 2.0, 2.0, 2.0, 2.0, 2.0, 2.0, 2.0, 2.0, 2.0, 2.0, 2.0, 2.0, 2.0, 2.0, 2.0, 2.0, 2.0, 2.0, 2.0, 2.0, 2.0, 2.0, 2.0, 2.0, 2.0, 2.0, 2.0, 2.0, 2.0, 2.0, 2.0, 2.0, 1.84, 1.43, 1.34, 1.28, 1.09, 1.0, 1.0, 1.0, 1.0, 1.0, 1.0, 1.0, 1.0, 1.0, 1.0, 1.0, 1.0, 1.0, 1.0, 1.0, 1.0, 1.0, 1.0, 1.0, 1.0, 1.0, 0.97, 0.96, 0.95, 0.78, 0.66, 0.54, 0.46, 0.44, 0.42, 0.38, 0.36, 0.36, 0.36, 0.34, 0.29, 0.27, 0.23, 0.23, 0.18, 0.18, 0.18, 0.17, 0.17, 0.17, 0.17, 0.17, 0.17, 0.16, 0.15, 0.15, 0.15, 0.15, 0.13, 0.12, 0.11, 0.11, 0.1, 0.1, 2.0, 2.0, 2.0, 2.0, 2.0, 2.0, 2.0, 2.0, 2.0, 2.0, 2.0, 2.0, 1.0, 1.0, 1.0, 1.0, 1.0, 1.0, 0.56, 0.22]}\n",
            "http://api.conceptnet.io/c/en/eukaryote\n",
            "{'topic': ['mammal', 'mammal', 'mammal', 'mammal', 'mammal', 'mammal', 'mammal', 'mammal', 'mammal', 'mammal', 'mammal', 'mammal', 'mammal', 'mammal', 'mammal', 'mammal', 'mammal', 'mammal', 'mammal', 'mammal', 'mammal', 'mammal', 'mammal', 'mammal', 'mammal', 'mammal', 'mammal', 'mammal', 'mammal', 'mammal', 'mammal', 'mammal', 'mammal', 'mammal', 'mammal', 'mammal', 'mammal', 'mammal', 'mammal', 'mammal', 'mammal', 'mammal', 'mammal', 'mammal', 'mammal', 'mammal', 'mammal', 'mammal', 'mammal', 'mammal', 'mammal', 'mammal', 'mammal', 'mammal', 'mammal', 'mammal', 'mammal', 'mammal', 'mammal', 'mammal', 'mammal', 'mammal', 'mammal', 'mammal', 'mammal', 'mammal', 'mammal', 'mammal', 'mammal', 'mammal', 'mammal', 'mammal', 'mammal', 'mammal', 'mammal', 'mammal', 'mammal', 'mammal', 'mammal', 'mammal', 'mammal', 'mammal', 'mammal', 'mammal', 'mammal', 'mammal', 'mammal', 'mammal', 'mammal', 'mammal', 'mammal', 'mammal', 'mammal', 'mammal', 'mammal', 'insect', 'insect', 'insect', 'insect', 'insect', 'insect', 'insect', 'insect', 'insect', 'insect', 'insect', 'insect', 'insect', 'insect', 'insect', 'insect', 'insect', 'insect', 'insect', 'insect', 'insect', 'insect', 'insect', 'insect', 'insect', 'insect', 'insect', 'insect', 'insect', 'insect', 'insect', 'insect', 'insect', 'insect', 'insect', 'insect', 'insect', 'insect', 'insect', 'insect', 'insect', 'insect', 'insect', 'insect', 'insect', 'insect', 'insect', 'insect', 'insect', 'insect', 'insect', 'insect', 'insect', 'insect', 'insect', 'insect', 'insect', 'insect', 'insect', 'insect', 'insect', 'insect', 'insect', 'insect', 'insect', 'insect', 'insect', 'insect', 'insect', 'insect', 'insect', 'insect', 'insect', 'insect', 'insect', 'insect', 'insect', 'insect', 'insect', 'insect', 'insect', 'insect', 'insect', 'insect', 'insect', 'insect', 'insect', 'insect', 'insect', 'insect', 'insect', 'insect', 'insect', 'insect', 'insect', 'insect', 'insect', 'insect', 'insect', 'insect', 'insect', 'insect', 'insect', 'insect', 'insect', 'insect', 'insect', 'insect', 'insect', 'insect', 'insect', 'insect', 'insect', 'insect', 'insect', 'insect', 'insect', 'insect', 'insect', 'insect', 'insect', 'insect', 'crustacean', 'crustacean', 'crustacean', 'crustacean', 'crustacean', 'crustacean', 'crustacean', 'crustacean', 'crustacean', 'crustacean', 'crustacean', 'crustacean', 'crustacean', 'crustacean', 'crustacean', 'crustacean', 'crustacean', 'crustacean', 'crustacean', 'crustacean', 'eukaryote', 'eukaryote'], 'statement': ['squirrel is related to mammal', 'bat is related to mammal', 'a dog is a kind of mammal', 'A mouse is a type of mammal', 'bear is related to mammal', 'horse is related to mammal', 'sheep is related to mammal', 'A bear is a mammal', 'rabbit is related to mammal', 'A rabbit is a mammal', 'whale is a kind of mammal', 'mole is related to mammal', 'dog is related to mammal', 'cow is related to mammal', 'fossorial mammal is a type of mammal', 'hair is a part of mammal', 'prototherian is a type of mammal', 'prototherian is a type of mammal', 'metatherian is a type of mammal', 'hair is a part of mammal', 'prototherian is a type of mammal', 'The beaver is a mammal', 'mammal is a type of vertebrate', 'coat is a part of mammal', 'a badger is a kind of mammal.', 'fossorial mammal is a type of mammal', 'prototherian is a type of mammal', 'metatherian is a type of mammal', 'bird is related to mammal', 'whale is related to mammal', 'human is related to mammal', 'cat is related to mammal', 'a hedgehog is a mammal', 'a hedgehog is a mammal', 'a hedgehog is a mammal', 'An aardwolf is a type of mammal', 'a hedgehog is a mammal', 'The giraffe is a mammal', 'An aardwolf is a type of mammal', 'a tapir is a mammal', 'You are likely to find an artery in a mammal', 'You are likely to find an eye in a mammal', 'The giraffe is a mammal', 'An activity a mammal can do is play', 'a mammal can drink liquids', 'a rodent is a type of mammal', 'You are likely to find an eye in a mammal', 'An activity a mammal can do is mate', 'An aardwolf is a type of mammal', 'pig is related to mammal', 'animal is related to mammal', 'walrus is related to mammal', 'otter is related to mammal', 'mammal is related to animal', 'mammal is related to warm', 'mammal is related to warm blooded', 'mammal is related to blooded', 'elephant is related to mammal', 'chicken is related to mammal', 'fox is related to mammal', 'mammal is related to breasts', 'lion is related to mammal', 'mammal is related to air', 'mammal is related to breather', 'mammal is related to air breather', 'chipmunk is related to mammal', 'tortoise is related to mammal', 'skunk is related to mammal', 'milk is related to mammal', 'mammal is related to generic animal', 'mammal is related to generic', 'person is related to mammal', 'ox is related to mammal', 'moose is related to mammal', 'monkey is related to mammal', 'seal is related to mammal', 'mammal is related to animal hair', 'mammal is related to hair', 'mammal is related to animal kingdom', 'mammal is related to kingdom', 'mammal is related to furry animal', 'mammal is related to furry', 'mammal is related to lungs', 'people is related to mammal', 'mammal is related to dolphin', 'armadillo is related to mammal', 'mammal is related to monkey dolphin', 'mammal is related to general', 'mammal is related to monkey', 'mammal is related to animals', 'mammal is related to all animals', 'deer is related to mammal', 'mammal is related to feet', 'mammal is related to four feet', 'mammal is related to four', 'flea is related to insect', 'a fly is a insect', 'fly is related to insect', 'A butterfly is an insect', 'ant is a kind of insect', 'An earwig is an insect', 'mosquito is related to insect', 'insect is related to bug', 'stonefly is a type of insect', 'air sac is a part of insect', 'bug is a type of insect', 'phasmid is a type of insect', 'imago is a type of insect', 'ephemera is a type of insect', 'ephemerid is a type of insect', 'neuropteron is a type of insect', 'odonate is a type of insect', 'hemipterous insect is a type of insect', 'defoliator is a type of insect', 'queen is a type of insect', 'imago is a type of insect', 'stonefly is a type of insect', 'firefly is a kind of insect', 'phasmid is a type of insect', 'ephemera is a type of insect', 'ephemerid is a type of insect', 'leaf miner is a type of insect', 'neuropteron is a type of insect', 'heteropterous insect is a type of insect', 'hemipterous insect is a type of insect', 'lepidopterous insect is a type of insect', 'queen is a type of insect', 'dictyopterous insect is a type of insect', 'beetle is a type of insect', 'louse is a type of insect', 'imago is a type of insect', 'firefly is a kind of insect', 'phasmid is a type of insect', 'stonefly is a type of insect', 'bug is a type of insect', 'lepidopterous insect is a type of insect', 'An insect has 6 legs', 'dipterous insect is a type of insect', 'neuropteron is a type of insect', 'odonate is a type of insect', 'defoliator is a type of insect', 'flea is a type of insect', 'ala is a part of insect', 'proturan is a type of insect', 'wing is a part of insect', 'dictyopterous insect is a type of insect', 'thorax is a part of insect', 'bird louse is a type of insect', 'thysanuran insect is a type of insect', 'trichopterous insect is a type of insect', 'web spinner is a type of insect', 'A wasp is an insect', 'clypeus is a part of insect', 'bee is related to insect', 'butterfly is related to insect', 'insect is related to beetle', 'ant is related to insect', 'scorpion is related to insect', 'Somewhere an insect can be is on he ground', 'An ant lion is a type of insect', 'An ant lion is a type of insect', 'Somewhere an insect can be is on he ground', 'A mole cricket is an insect', 'a housefly is a insect', 'Japanese beetle is an insect', 'Japanese beetle is an insect', 'A roach is an insect', 'insect is a kind of arthropod', 'insect is a type of animal.', 'An abdomen is part of an insect', 'A mole cricket is an insect', 'A mole cricket is an insect', 'a housefly is a insect', 'Japanese beetle is an insect', 'A roach is an insect', 'A bee is an insect', 'insect is a kind of arthropod', 'insect is a type of animal.', 'An abdomen is part of an insect', 'be is related to insect', 'lice is related to insect', 'moth is related to insect', 'grasshopper is related to insect', 'pest is related to insect', 'insect is related to fly', 'gnat is related to insect', 'snail is related to insect', 'insect is related to animal', 'silk is related to insect', 'insect is related to six', 'insect is related to six legs', 'insect is related to legs', 'bat is related to insect', 'spider is related to insect', 'insect is related to mosquito', 'insect is related to bugs', 'earthworm is related to insect', 'cake is related to insect', 'insect is related to stinging fly', 'insect is related to stinging', 'insect is related to spider', 'insect is related to fly spider', 'caterpillar is related to insect', 'beehive is related to insect', 'insect is related to tiny', 'insect is related to tiny animal', 'nest is related to insect', 'insect is related to describing group', 'insect is related to describing', 'insect is related to group', 'jitterbug is related to insect', 'interest is related to insect', 'off is related to insect', 'insect is related to generic', 'worm is related to insect', 'insect is related to bug animal', 'creature is related to insect', 'brachyuran is a type of crustacean', 'barnacle is a kind of crustacean', 'crustacean is a animal', 'copepod is a type of crustacean', 'barnacle is a type of crustacean', 'malacostracan crustacean is a type of crustacean', 'green gland is a part of crustacean', 'branchiopod crustacean is a type of crustacean', 'stomatopod is a type of crustacean', 'claw is a part of crustacean', 'crustacean is a type of arthropod', 'malacostracan crustacean is a type of crustacean', 'crayfish is a kind of crustacean', 'shrimp is a kind of crustacean', 'crayfish is a kind of crustacean', 'shrimp is a kind of crustacean', 'isopod is a type of crustacean.', 'a crustacean is a kind of arthropod', 'lobster is related to crustacean', 'barnacle is related to crustacean', 'eukaryote is a type of organism', 'a eukaryote is a organism'], 'weight': [5.69, 5.58, 5.29, 4.9, 4.52, 4.45, 4.2, 3.46, 3.04, 2.83, 2.83, 2.75, 2.04, 2.03, 2.0, 2.0, 2.0, 2.0, 2.0, 2.0, 2.0, 2.0, 2.0, 2.0, 2.0, 2.0, 2.0, 2.0, 1.54, 1.42, 1.13, 1.06, 1.0, 1.0, 1.0, 1.0, 1.0, 1.0, 1.0, 1.0, 1.0, 1.0, 1.0, 1.0, 1.0, 1.0, 1.0, 1.0, 1.0, 0.94, 0.87, 0.74, 0.67, 0.66, 0.53, 0.53, 0.53, 0.39, 0.34, 0.29, 0.27, 0.25, 0.23, 0.23, 0.23, 0.22, 0.22, 0.21, 0.21, 0.2, 0.2, 0.19, 0.17, 0.16, 0.16, 0.16, 0.15, 0.15, 0.15, 0.15, 0.15, 0.15, 0.14, 0.14, 0.13, 0.13, 0.13, 0.13, 0.13, 0.12, 0.12, 0.1, 0.1, 0.1, 0.1, 8.5, 6.93, 4.96, 4.9, 2.83, 2.83, 2.57, 2.25, 2.0, 2.0, 2.0, 2.0, 2.0, 2.0, 2.0, 2.0, 2.0, 2.0, 2.0, 2.0, 2.0, 2.0, 2.0, 2.0, 2.0, 2.0, 2.0, 2.0, 2.0, 2.0, 2.0, 2.0, 2.0, 2.0, 2.0, 2.0, 2.0, 2.0, 2.0, 2.0, 2.0, 2.0, 2.0, 2.0, 2.0, 2.0, 2.0, 2.0, 2.0, 2.0, 2.0, 2.0, 2.0, 2.0, 2.0, 2.0, 2.0, 2.0, 1.84, 1.43, 1.34, 1.28, 1.09, 1.0, 1.0, 1.0, 1.0, 1.0, 1.0, 1.0, 1.0, 1.0, 1.0, 1.0, 1.0, 1.0, 1.0, 1.0, 1.0, 1.0, 1.0, 1.0, 1.0, 1.0, 0.97, 0.96, 0.95, 0.78, 0.66, 0.54, 0.46, 0.44, 0.42, 0.38, 0.36, 0.36, 0.36, 0.34, 0.29, 0.27, 0.23, 0.23, 0.18, 0.18, 0.18, 0.17, 0.17, 0.17, 0.17, 0.17, 0.17, 0.16, 0.15, 0.15, 0.15, 0.15, 0.13, 0.12, 0.11, 0.11, 0.1, 0.1, 2.0, 2.0, 2.0, 2.0, 2.0, 2.0, 2.0, 2.0, 2.0, 2.0, 2.0, 2.0, 1.0, 1.0, 1.0, 1.0, 1.0, 1.0, 0.56, 0.22, 2.0, 1.0]}\n",
            "http://api.conceptnet.io/c/en/plant\n",
            "{'topic': ['mammal', 'mammal', 'mammal', 'mammal', 'mammal', 'mammal', 'mammal', 'mammal', 'mammal', 'mammal', 'mammal', 'mammal', 'mammal', 'mammal', 'mammal', 'mammal', 'mammal', 'mammal', 'mammal', 'mammal', 'mammal', 'mammal', 'mammal', 'mammal', 'mammal', 'mammal', 'mammal', 'mammal', 'mammal', 'mammal', 'mammal', 'mammal', 'mammal', 'mammal', 'mammal', 'mammal', 'mammal', 'mammal', 'mammal', 'mammal', 'mammal', 'mammal', 'mammal', 'mammal', 'mammal', 'mammal', 'mammal', 'mammal', 'mammal', 'mammal', 'mammal', 'mammal', 'mammal', 'mammal', 'mammal', 'mammal', 'mammal', 'mammal', 'mammal', 'mammal', 'mammal', 'mammal', 'mammal', 'mammal', 'mammal', 'mammal', 'mammal', 'mammal', 'mammal', 'mammal', 'mammal', 'mammal', 'mammal', 'mammal', 'mammal', 'mammal', 'mammal', 'mammal', 'mammal', 'mammal', 'mammal', 'mammal', 'mammal', 'mammal', 'mammal', 'mammal', 'mammal', 'mammal', 'mammal', 'mammal', 'mammal', 'mammal', 'mammal', 'mammal', 'mammal', 'insect', 'insect', 'insect', 'insect', 'insect', 'insect', 'insect', 'insect', 'insect', 'insect', 'insect', 'insect', 'insect', 'insect', 'insect', 'insect', 'insect', 'insect', 'insect', 'insect', 'insect', 'insect', 'insect', 'insect', 'insect', 'insect', 'insect', 'insect', 'insect', 'insect', 'insect', 'insect', 'insect', 'insect', 'insect', 'insect', 'insect', 'insect', 'insect', 'insect', 'insect', 'insect', 'insect', 'insect', 'insect', 'insect', 'insect', 'insect', 'insect', 'insect', 'insect', 'insect', 'insect', 'insect', 'insect', 'insect', 'insect', 'insect', 'insect', 'insect', 'insect', 'insect', 'insect', 'insect', 'insect', 'insect', 'insect', 'insect', 'insect', 'insect', 'insect', 'insect', 'insect', 'insect', 'insect', 'insect', 'insect', 'insect', 'insect', 'insect', 'insect', 'insect', 'insect', 'insect', 'insect', 'insect', 'insect', 'insect', 'insect', 'insect', 'insect', 'insect', 'insect', 'insect', 'insect', 'insect', 'insect', 'insect', 'insect', 'insect', 'insect', 'insect', 'insect', 'insect', 'insect', 'insect', 'insect', 'insect', 'insect', 'insect', 'insect', 'insect', 'insect', 'insect', 'insect', 'insect', 'insect', 'insect', 'insect', 'insect', 'insect', 'insect', 'crustacean', 'crustacean', 'crustacean', 'crustacean', 'crustacean', 'crustacean', 'crustacean', 'crustacean', 'crustacean', 'crustacean', 'crustacean', 'crustacean', 'crustacean', 'crustacean', 'crustacean', 'crustacean', 'crustacean', 'crustacean', 'crustacean', 'crustacean', 'eukaryote', 'eukaryote', 'plant', 'plant', 'plant', 'plant', 'plant', 'plant', 'plant', 'plant', 'plant', 'plant', 'plant', 'plant', 'plant', 'plant', 'plant', 'plant', 'plant', 'plant', 'plant', 'plant', 'plant', 'plant', 'plant', 'plant', 'plant', 'plant', 'plant', 'plant', 'plant', 'plant', 'plant', 'plant', 'plant', 'plant', 'plant', 'plant', 'plant', 'plant', 'plant', 'plant', 'plant', 'plant', 'plant', 'plant', 'plant', 'plant', 'plant', 'plant', 'plant', 'plant', 'plant', 'plant', 'plant', 'plant', 'plant', 'plant', 'plant', 'plant', 'plant', 'plant', 'plant', 'plant', 'plant', 'plant', 'plant', 'plant', 'plant', 'plant', 'plant', 'plant', 'plant', 'plant', 'plant', 'plant', 'plant', 'plant', 'plant', 'plant', 'plant', 'plant', 'plant', 'plant', 'plant', 'plant', 'plant', 'plant', 'plant', 'plant', 'plant', 'plant', 'plant', 'plant', 'plant', 'plant', 'plant', 'plant', 'plant', 'plant', 'plant', 'plant', 'plant', 'plant', 'plant', 'plant', 'plant', 'plant', 'plant', 'plant', 'plant', 'plant', 'plant', 'plant', 'plant', 'plant', 'plant', 'plant', 'plant', 'plant', 'plant', 'plant', 'plant', 'plant', 'plant', 'plant', 'plant', 'plant', 'plant', 'plant', 'plant', 'plant', 'plant', 'plant', 'plant', 'plant', 'plant', 'plant', 'plant', 'plant', 'plant', 'plant', 'plant', 'plant', 'plant', 'plant', 'plant', 'plant', 'plant', 'plant', 'plant', 'plant', 'plant', 'plant', 'plant', 'plant', 'plant', 'plant', 'plant', 'plant', 'plant', 'plant', 'plant', 'plant', 'plant', 'plant', 'plant', 'plant', 'plant', 'plant', 'plant', 'plant', 'plant', 'plant', 'plant', 'plant', 'plant', 'plant', 'plant', 'plant', 'plant', 'plant', 'plant', 'plant', 'plant', 'plant', 'plant', 'plant', 'plant', 'plant', 'plant', 'plant', 'plant', 'plant', 'plant', 'plant', 'plant', 'plant', 'plant', 'plant', 'plant', 'plant', 'plant', 'plant', 'plant', 'plant', 'plant', 'plant', 'plant', 'plant', 'plant', 'plant', 'plant', 'plant', 'plant', 'plant', 'plant', 'plant', 'plant', 'plant', 'plant', 'plant', 'plant', 'plant', 'plant', 'plant', 'plant', 'plant', 'plant', 'plant', 'plant', 'plant', 'plant', 'plant', 'plant', 'plant', 'plant', 'plant', 'plant', 'plant', 'plant', 'plant', 'plant', 'plant', 'plant', 'plant', 'plant', 'plant', 'plant', 'plant', 'plant', 'plant', 'plant', 'plant', 'plant', 'plant', 'plant', 'plant', 'plant', 'plant', 'plant', 'plant', 'plant', 'plant', 'plant', 'plant', 'plant', 'plant', 'plant', 'plant', 'plant', 'plant', 'plant', 'plant', 'plant', 'plant', 'plant', 'plant', 'plant', 'plant', 'plant', 'plant', 'plant', 'plant', 'plant', 'plant', 'plant', 'plant', 'plant', 'plant', 'plant', 'plant', 'plant', 'plant', 'plant', 'plant', 'plant', 'plant', 'plant', 'plant', 'plant', 'plant', 'plant', 'plant', 'plant', 'plant', 'plant', 'plant', 'plant', 'plant', 'plant', 'plant', 'plant', 'plant', 'plant', 'plant', 'plant', 'plant', 'plant', 'plant', 'plant', 'plant', 'plant', 'plant', 'plant', 'plant', 'plant', 'plant', 'plant', 'plant', 'plant', 'plant', 'plant', 'plant', 'plant', 'plant', 'plant', 'plant', 'plant', 'plant', 'plant', 'plant', 'plant', 'plant', 'plant', 'plant', 'plant', 'plant', 'plant', 'plant', 'plant', 'plant', 'plant', 'plant', 'plant', 'plant', 'plant', 'plant', 'plant', 'plant', 'plant', 'plant', 'plant', 'plant', 'plant', 'plant', 'plant', 'plant', 'plant', 'plant', 'plant', 'plant', 'plant', 'plant', 'plant', 'plant', 'plant', 'plant', 'plant', 'plant', 'plant', 'plant', 'plant', 'plant', 'plant', 'plant', 'plant', 'plant', 'plant', 'plant', 'plant', 'plant', 'plant', 'plant', 'plant', 'plant', 'plant', 'plant', 'plant', 'plant', 'plant', 'plant', 'plant', 'plant', 'plant', 'plant', 'plant', 'plant', 'plant', 'plant', 'plant', 'plant', 'plant', 'plant', 'plant', 'plant', 'plant', 'plant', 'plant', 'plant', 'plant', 'plant', 'plant', 'plant', 'plant', 'plant', 'plant', 'plant', 'plant', 'plant', 'plant', 'plant', 'plant', 'plant', 'plant', 'plant', 'plant', 'plant', 'plant', 'plant', 'plant', 'plant', 'plant', 'plant', 'plant', 'plant', 'plant', 'plant', 'plant', 'plant', 'plant', 'plant', 'plant', 'plant', 'plant', 'plant', 'plant', 'plant', 'plant', 'plant', 'plant', 'plant', 'plant', 'plant', 'plant', 'plant', 'plant', 'plant', 'plant', 'plant', 'plant', 'plant', 'plant', 'plant', 'plant', 'plant', 'plant', 'plant', 'plant', 'plant', 'plant', 'plant', 'plant', 'plant', 'plant', 'plant', 'plant', 'plant', 'plant', 'plant', 'plant', 'plant', 'plant', 'plant', 'plant', 'plant', 'plant', 'plant', 'plant', 'plant', 'plant', 'plant', 'plant', 'plant', 'plant', 'plant', 'plant', 'plant', 'plant', 'plant', 'plant', 'plant', 'plant', 'plant', 'plant', 'plant', 'plant', 'plant', 'plant', 'plant', 'plant', 'plant', 'plant', 'plant', 'plant', 'plant', 'plant', 'plant', 'plant', 'plant', 'plant'], 'statement': ['squirrel is related to mammal', 'bat is related to mammal', 'a dog is a kind of mammal', 'A mouse is a type of mammal', 'bear is related to mammal', 'horse is related to mammal', 'sheep is related to mammal', 'A bear is a mammal', 'rabbit is related to mammal', 'A rabbit is a mammal', 'whale is a kind of mammal', 'mole is related to mammal', 'dog is related to mammal', 'cow is related to mammal', 'fossorial mammal is a type of mammal', 'hair is a part of mammal', 'prototherian is a type of mammal', 'prototherian is a type of mammal', 'metatherian is a type of mammal', 'hair is a part of mammal', 'prototherian is a type of mammal', 'The beaver is a mammal', 'mammal is a type of vertebrate', 'coat is a part of mammal', 'a badger is a kind of mammal.', 'fossorial mammal is a type of mammal', 'prototherian is a type of mammal', 'metatherian is a type of mammal', 'bird is related to mammal', 'whale is related to mammal', 'human is related to mammal', 'cat is related to mammal', 'a hedgehog is a mammal', 'a hedgehog is a mammal', 'a hedgehog is a mammal', 'An aardwolf is a type of mammal', 'a hedgehog is a mammal', 'The giraffe is a mammal', 'An aardwolf is a type of mammal', 'a tapir is a mammal', 'You are likely to find an artery in a mammal', 'You are likely to find an eye in a mammal', 'The giraffe is a mammal', 'An activity a mammal can do is play', 'a mammal can drink liquids', 'a rodent is a type of mammal', 'You are likely to find an eye in a mammal', 'An activity a mammal can do is mate', 'An aardwolf is a type of mammal', 'pig is related to mammal', 'animal is related to mammal', 'walrus is related to mammal', 'otter is related to mammal', 'mammal is related to animal', 'mammal is related to warm', 'mammal is related to warm blooded', 'mammal is related to blooded', 'elephant is related to mammal', 'chicken is related to mammal', 'fox is related to mammal', 'mammal is related to breasts', 'lion is related to mammal', 'mammal is related to air', 'mammal is related to breather', 'mammal is related to air breather', 'chipmunk is related to mammal', 'tortoise is related to mammal', 'skunk is related to mammal', 'milk is related to mammal', 'mammal is related to generic animal', 'mammal is related to generic', 'person is related to mammal', 'ox is related to mammal', 'moose is related to mammal', 'monkey is related to mammal', 'seal is related to mammal', 'mammal is related to animal hair', 'mammal is related to hair', 'mammal is related to animal kingdom', 'mammal is related to kingdom', 'mammal is related to furry animal', 'mammal is related to furry', 'mammal is related to lungs', 'people is related to mammal', 'mammal is related to dolphin', 'armadillo is related to mammal', 'mammal is related to monkey dolphin', 'mammal is related to general', 'mammal is related to monkey', 'mammal is related to animals', 'mammal is related to all animals', 'deer is related to mammal', 'mammal is related to feet', 'mammal is related to four feet', 'mammal is related to four', 'flea is related to insect', 'a fly is a insect', 'fly is related to insect', 'A butterfly is an insect', 'ant is a kind of insect', 'An earwig is an insect', 'mosquito is related to insect', 'insect is related to bug', 'stonefly is a type of insect', 'air sac is a part of insect', 'bug is a type of insect', 'phasmid is a type of insect', 'imago is a type of insect', 'ephemera is a type of insect', 'ephemerid is a type of insect', 'neuropteron is a type of insect', 'odonate is a type of insect', 'hemipterous insect is a type of insect', 'defoliator is a type of insect', 'queen is a type of insect', 'imago is a type of insect', 'stonefly is a type of insect', 'firefly is a kind of insect', 'phasmid is a type of insect', 'ephemera is a type of insect', 'ephemerid is a type of insect', 'leaf miner is a type of insect', 'neuropteron is a type of insect', 'heteropterous insect is a type of insect', 'hemipterous insect is a type of insect', 'lepidopterous insect is a type of insect', 'queen is a type of insect', 'dictyopterous insect is a type of insect', 'beetle is a type of insect', 'louse is a type of insect', 'imago is a type of insect', 'firefly is a kind of insect', 'phasmid is a type of insect', 'stonefly is a type of insect', 'bug is a type of insect', 'lepidopterous insect is a type of insect', 'An insect has 6 legs', 'dipterous insect is a type of insect', 'neuropteron is a type of insect', 'odonate is a type of insect', 'defoliator is a type of insect', 'flea is a type of insect', 'ala is a part of insect', 'proturan is a type of insect', 'wing is a part of insect', 'dictyopterous insect is a type of insect', 'thorax is a part of insect', 'bird louse is a type of insect', 'thysanuran insect is a type of insect', 'trichopterous insect is a type of insect', 'web spinner is a type of insect', 'A wasp is an insect', 'clypeus is a part of insect', 'bee is related to insect', 'butterfly is related to insect', 'insect is related to beetle', 'ant is related to insect', 'scorpion is related to insect', 'Somewhere an insect can be is on he ground', 'An ant lion is a type of insect', 'An ant lion is a type of insect', 'Somewhere an insect can be is on he ground', 'A mole cricket is an insect', 'a housefly is a insect', 'Japanese beetle is an insect', 'Japanese beetle is an insect', 'A roach is an insect', 'insect is a kind of arthropod', 'insect is a type of animal.', 'An abdomen is part of an insect', 'A mole cricket is an insect', 'A mole cricket is an insect', 'a housefly is a insect', 'Japanese beetle is an insect', 'A roach is an insect', 'A bee is an insect', 'insect is a kind of arthropod', 'insect is a type of animal.', 'An abdomen is part of an insect', 'be is related to insect', 'lice is related to insect', 'moth is related to insect', 'grasshopper is related to insect', 'pest is related to insect', 'insect is related to fly', 'gnat is related to insect', 'snail is related to insect', 'insect is related to animal', 'silk is related to insect', 'insect is related to six', 'insect is related to six legs', 'insect is related to legs', 'bat is related to insect', 'spider is related to insect', 'insect is related to mosquito', 'insect is related to bugs', 'earthworm is related to insect', 'cake is related to insect', 'insect is related to stinging fly', 'insect is related to stinging', 'insect is related to spider', 'insect is related to fly spider', 'caterpillar is related to insect', 'beehive is related to insect', 'insect is related to tiny', 'insect is related to tiny animal', 'nest is related to insect', 'insect is related to describing group', 'insect is related to describing', 'insect is related to group', 'jitterbug is related to insect', 'interest is related to insect', 'off is related to insect', 'insect is related to generic', 'worm is related to insect', 'insect is related to bug animal', 'creature is related to insect', 'brachyuran is a type of crustacean', 'barnacle is a kind of crustacean', 'crustacean is a animal', 'copepod is a type of crustacean', 'barnacle is a type of crustacean', 'malacostracan crustacean is a type of crustacean', 'green gland is a part of crustacean', 'branchiopod crustacean is a type of crustacean', 'stomatopod is a type of crustacean', 'claw is a part of crustacean', 'crustacean is a type of arthropod', 'malacostracan crustacean is a type of crustacean', 'crayfish is a kind of crustacean', 'shrimp is a kind of crustacean', 'crayfish is a kind of crustacean', 'shrimp is a kind of crustacean', 'isopod is a type of crustacean.', 'a crustacean is a kind of arthropod', 'lobster is related to crustacean', 'barnacle is related to crustacean', 'eukaryote is a type of organism', 'a eukaryote is a organism', 'seed is related to plant', 'tree is related to plant', 'flower is related to plant', 'plant is related to green', 'cotton is related to plant', 'plant is related to leaves', '*Something you find on the windowsill is a plant', 'grass is related to plant', 'A plant can grow in a garden', 'plant is related to flower', 'plant is related to growing', 'crop is related to plant', 'Cabbage is a plant', 'plant is related to tree', 'garden is related to plant', 'Cotton is a plant', 'poison ivy is a plant', 'Somewhere a plant can be is in a pot', 'corn is related to plant', 'plant is related to flowers', 'plant is related to vegetation', 'plant is related to living', 'leaf is related to plant', 'plant is related to garden', 'peppermint is a plant', 'plant is a kind of organism', 'Seaweed is a plant', 'a plant can flower in spring', 'colorado blue spruce is a plant', 'Verbena is a plant', 'pine is a plant', 'grass is a kind of plant.', 'tree is a kind of plant', 'plant is related to vegetable', 'seaweed is related to plant', 'plant is related to life', 'plant is related to small', 'plant is related to living thing', 'holophyte is a type of plant', 'embryo is a type of plant', 'plant can bloom', 'ornamental is a type of plant', 'phytoplankton is a type of plant', 'bottling plant is a type of plant', 'smelter is a type of plant', 'mint is a type of plant', 'embryo is a type of plant', 'holophyte is a type of plant', 'smelter is a type of plant', 'mint is a type of plant', 'distillery is a type of plant', 'bottling plant is a type of plant', 'plant can bloom', 'phytoplankton is a type of plant', 'distillery is a type of plant', 'plant can bloom', 'mint is a type of plant', 'smelter is a type of plant', 'holophyte is a type of plant', 'phytoplankton is a type of plant', 'phytoplankton is a type of plant', 'ornamental is a type of plant', 'plant is a type of building complex', 'bottling plant is a type of plant', 'distillery is a type of plant', 'plant can bloom', 'phytoplankton is a type of plant', 'bottling plant is a type of plant', 'distillery is a type of plant', 'smelter is a type of plant', 'blue tip juniper is a plant', 'plant is a type of building complex', 'A plant can be suffering dehydration', 'phytoplankton is a type of plant', 'canadian hemlock is a plant', 'A vine is a plant', 'packinghouse is a type of plant', 'phytoplankton is a type of plant', 'Little Gem Arborvitae is a plant', 'a venus flytrap is a plant', 'ornamental is a type of plant', 'crop is a type of plant', 'escape is a type of plant', 'phytoplankton is a type of plant', 'plant can bloom', 'hygrophyte is a type of plant', 'saltworks is a type of plant', 'cryptogam is a type of plant', 'gametophyte is a type of plant', 'phytoplankton is a type of plant', 'cannabis is a type of plant.', 'distillery is a type of plant', 'smelter is a type of plant', 'phytoplankton is a type of plant', 'mint is a type of plant', 'holophyte is a type of plant', 'blue tip juniper is a plant', 'A plant can be suffering dehydration', 'phytoplankton is a type of plant', 'refinery is a type of plant', 'A vine is a plant', 'phytoplankton is a type of plant', 'poisonous plant is a type of plant', 'a venus flytrap is a plant', 'bed is related to plant', 'acrogen is a type of plant', 'escape is a type of plant', 'phytoplankton is a type of plant', 'bottling plant is a type of plant', 'A plant can be suffering dehydration', 'hygrophyte is a type of plant', 'saltworks is a type of plant', 'gametophyte is a type of plant', 'densiformis gem yew is a plant', '*A plant has a transport system', 'air plant is a type of plant', 'gold thread falsecypress is a plant', 'phytoplankton is a type of plant', 'microflora is a type of plant', 'autophyte is a type of plant', 'aquatic is a type of plant', 'plant is related to growing thing', 'factory is related to plant', 'plant is related to trees', 'plant is related to flora', 'plant is related to bush', 'plant is related to roots', 'plant is related to organism', 'plant is related to stem', 'plant is related to ground', 'grow is related to plant', 'tobacco is related to plant', 'plant is related to green growing', 'plant is related to greenery', 'plant is related to small tree', 'plant is related to gardens', 'plant is related to green thing', 'plant is related to has', 'plant is related to green leaves', 'plant is related to seeds', 'plant is related to growth', 'plant is related to leafy', 'Helichrysum is a plant', 'You are likely to find a plant in your house.', 'Ginseng is a plant', 'a plant can bottle drinks', 'a plant can bottle drinks', 'Osteospermum is a plant', 'Diascia is a plant', 'hughes juniper is a plant', 'Northern lights azalea is a plant', 'Osteospermum is a plant', 'dwarf alberta spruce is a plant', 'Diascia is a plant', 'runyan yew is a plant', 'a plant can bottle drinks', 'hicksi yew is a plant', 'dark green pyramidal yew is a plant', 'Somewhere a plant can be is outside', 'Ginseng is a plant', 'You are likely to find a plant in your house.', 'techny arborvitae is a plant', 'rhododendron is a plant', 'wardi yew is a plant', 'moonglow juniper is a plant', 'Leaf is part of a plant.', '*Something you find on a table is a plant', 'white spruce is a plant', 'spicy lights azalea is a plant', 'a plant is part of nature', 'a plant is part of nature', 'moonglow juniper is a plant', 'bar harbor juniper is a plant', 'capitata yew is a plant', 'andorra juniper is a plant', 'rhododendron is a plant', 'wardi yew is a plant', 'Ginseng is a plant', 'Leaf is part of a plant.', 'nigra dark green arborvitae is a plant', 'juniper is a plant', 'Northern lights azalea is a plant', 'pfitzer blue juniper is a plant', 'capitata yew is a plant', 'Brachycome is a plant', 'green sargent juniper is a plant', '*Something you find on the porch is a plant', 'runyan yew is a plant', 'a plant can bottle drinks', 'hicksi yew is a plant', 'dark green pyramidal yew is a plant', 'black hills spruce is a plant', 'bar harbor juniper is a plant', 'white lights azalea is a plant', 'austrian pine is a plant', 'andorra juniper is a plant', 'rhododendron is a plant', 'A plant is part of an ecosystem', 'Argyranthemum is a plant', 'a potato is part of a plant', 'wardi yew is a plant', 'orchid lights azalea is a plant', 'techny arborvitae is a plant', 'You are likely to find a plant in your house.', 'Ginseng is a plant', 'A sunn is a plant', 'Cuphea is a plant', 'A plant can have roots', 'evergreen azalea is a plant', 'tamariscifolia juniper is a plant', 'Cotton is a fibrous substance that is part of a plant', 'northern hi-lights azalea is a plant', 'berkman golden arborvitae is a plant', 'plant is related to term', 'falsecypress is a plant', 'browni yew is a plant', 'Leaf is part of a plant.', 'sea green juniper is a plant', 'Nemesia is a plant', 'Somewhere a plant can be is in a garden', 'Carnivorous plant is a kind of plant.', 'nigra dark green arborvitae is a plant', '*Something you find on a shelf is a plant', 'cattail is a kind of plant.', 'Bacopa is a plant', 'wichita blue juniper is a plant', 'densiformis yew is a plant', 'broadmoor juniper is a plant', 'nest spruce is a plant', 'mugho pine is a plant', 'lettuce is a kind of plant.', 'juniper is a plant', 'Silphium was a plant', 'An iris is a kind of plant.', 'bobbink yew is a plant', 'woodward arborvitae is a plant', 'Northern lights azalea is a plant', 'Osteospermum is a plant', 'yew is a plant', 'dwarf alberta spruce is a plant', 'pfitzer blue juniper is a plant', 'rosy lights azalea is a plant', 'leyland cypress is a plant', 'a rose is a plant', 'A plant can grow', 'bamboo is a plant', 'Calibrachoa is a plant', 'capitata yew is a plant', 'Something you find outside is a plant', 'Brachycome is a plant', 'A plant can flower in spring time', 'Diascia is a plant', 'Stem is part of a plant.', 'a plant can flower petals', 'Scavola is a plant', 'hughes juniper is a plant', 'cypress is a plant', 'spartan juniper is a plant', 'People commonly mow grass, which is a plant', 'golden lights azalea is a plant', 'green sargent juniper is a plant', 'A suture is part of a plant', '*Something you find on the porch is a plant', 'runyan yew is a plant', 'a plant can bottle drinks', 'hicksi yew is a plant', 'dark green pyramidal yew is a plant', 'Helichrysum is a plant', 'Somewhere a plant can be is outside', 'plant is related to foliage', 'branch is related to plant', 'ivy is related to plant', 'stem is related to plant', 'plant is related to generic', 'plant is related to has leaves', 'plant is related to shrub', 'plant is related to general', 'wood is related to plant', 'plant is related to potted', 'algae is related to plant', 'plant is related to grows', 'weed is related to plant', 'plant is related to alive', 'plant is related to photosynthesis', 'plant is related to leaves flowers', 'plant is related to general term', 'plant is related to flower tree', 'plant is related to sow', 'plant is related to green life', 'plant is related to house', 'botany is related to plant', 'plant is related to leaf', 'plant is related to pot', 'plant is related to crop', 'plant is related to stems', 'plant is related to organic', 'plant is related to coke', 'plant is related to green leafy', 'plant is related to green growth', 'earth is related to plant', 'plant is related to leaves stem', 'plant is related to matter', 'plant is related to sow seeds', 'plant is related to seed', 'farmer is related to plant', 'plant is related to grass', 'shrub is related to plant', 'plant is related to tree flower', 'green is related to plant', 'plant is related to small bush', 'root is related to plant', 'plant is related to grown', 'plant is related to weed', 'plant is related to green vegetation', 'plant is related to trees flowers', 'plant is related to chlorophyll', 'plant is related to life form', 'plant is related to form', 'plant is related to vegetative', 'plant is related to in garden', 'plant is related to herbal', 'nursery is related to plant', 'plant is related to flower bush', 'plant is related to nature', 'plant is related to dirt', 'plant is related to generic term', 'plant is related to green foliage', 'plant is related to often', 'moss is related to plant', 'plant is related to often green', 'thorn is related to plant', 'herb is related to plant', 'plant is related to green organism', 'plant is related to growing green', 'plant is related to water', 'plant is related to soil', 'plant is related to kingdom', 'plant is related to growing greenery', 'plant is related to in ground', 'cell is related to plant', 'rice is related to plant', 'grain is related to plant', 'plant is related to earth', 'plant is related to sew', 'plant is related to factory', 'plant is related to house grower', 'plant is related to grower', 'plant is related to crops', 'plant is related to gardening', 'plant is related to stem leaves', 'plant is related to like', 'hedge is related to plant', 'plant is related to vegetables', 'plant is related to fern', 'plant is related to potted flower', 'plant is related to stems leaves', 'plant is related to leaves stems', 'plant is related to growing vegetable', 'plant is related to vegetable matter', 'reed is related to plant', 'plant is related to roots flowers', 'plant is related to herbal growth', 'plant is related to water it', 'plant is related to any flower', 'plant is related to any', 'plant is related to salads', 'plant is related to thing', 'plant is related to animal', 'plant is related to growing vegetation', 'plant is related to leaves roots', 'plant is related to vegetable growth', 'plant is related to farmers', 'plant is related to vegetative matter', 'plant is related to farmers crop', 'rubber is related to plant', 'plant is related to product', 'plant is related to seed product', 'board is related to plant', 'plant is related to green organic', 'vine is related to plant', 'plant is related to leafy thing', 'plant is related to belching smoke', 'plant is related to belching', 'plant is related to smoke', 'plant is related to biological', 'plant is related to greenhouses', 'plant is related to roots stem', 'plant is related to petals', 'plant is related to bury', 'petal is related to plant', 'plant is related to biology', 'plant is related to in biology', 'plant is related to vegetables trees', 'plant is related to daffodil', 'plant is related to taxonomical', 'plant is related to taxonomical kingdom', 'plant is related to generalization', 'plant is related to mini', 'plant is related to mini tree', 'plant is related to tree generalization', 'plant is related to grass trees', 'plant is related to vegetarian food', 'plant is related to flowerless', 'plant is related to food', 'plant is related to vegetarian', 'plant is related to flowerless growing', 'plant is related to from seed', 'plant is related to outside', 'leek is related to plant', 'plant is related to veggie', 'plant is related to general vegetable', 'plant is related to flowery', 'plant is related to grow', 'plant is related to ground pot', 'plant is related to seeds grow', 'plant is related to house weed', 'sow is related to plant', 'plant is related to smaller', 'plant is related to shrubs', 'flax is related to plant', 'plant is related to seedling', 'plant is related to green garden', 'plant is related to grown soil', 'plant is related to green crop', 'plant is related to herbal thing', 'flourish is related to plant', 'plant is related to pots', 'plant is related to tulip', 'plant is related to action', 'plant is related to living things', 'plant is related to it grows', 'plant is related to has flowers', 'lily is related to plant', 'plant is related to living green', 'plant is related to living thin', 'plant is related to thin', 'plant is related to green living', 'plant is related to green leaf', 'plant is related to like flower', 'plant is related to green flower', 'plant is related to underground', 'plant is related to put', 'plant is related to put underground', 'plant is related to green alive', 'plant is related to green flora', 'plant is related to in gardens', 'plant is related to leafy green', 'plant is related to has roots', 'plant is related to fauna', 'plant is related to potted thing', 'plant is related to botany', 'plant is related to its', 'plant is related to its green', 'plant is related to stem leaf', 'plant is related to flower or', 'plant is related to leafs', 'manufacture is related to plant', 'plant is related to generic fern', 'plant is related to sometimes', 'plant is related to leaves sometimes', 'plant is related to green chlorophyll', 'plant is related to forest', 'plant is related to gardens yards', 'plant is related to yards', 'squirrel is related to plant', 'plant is related to flower fern', 'plant is related to tree vegetable', 'plant is related to generic bush', 'creeper is related to plant', 'plant is related to trees grass', 'plant is related to crops flowers', 'growth is related to plant', 'power is related to plant', 'plant is related to with chlorophyll', 'plant is related to dig', 'plant is related to dig dirt', 'plant is related to bush flower', 'plant is related to all flora', 'plant is related to xylem', 'plant is related to flower leaves', 'plant is related to like flowers', 'plant is related to being', 'plant is related to living being', 'plant is related to vegetable flower', 'leave is related to plant', 'energy is related to plant', 'plant is related to broader', 'plant is related to forests', 'plant is related to free', 'stalk is related to plant', 'plant is related to everywhere', 'ground is related to plant', 'plant is related to veg', 'plant is related to vegetable description', 'bud is related to plant', 'plant is related to manufacturing facility', 'plant is related to description', 'plant is related to manufacturing', 'plant is related to facility', 'plant is related to in greenhouses', 'plant is related to undergrowth', 'plant is related to snowdrop', 'plant is related to biological term', 'plant is related to starting', 'plant is related to starting vegetables', 'plant is related to herb', 'plant is related to bury seeds', 'plant is related to chlorophyl', 'dandelion is related to plant', 'plant is related to cellulose', 'flora is related to plant', 'sage is related to plant', 'soil is related to plant', 'plant is related to vegetable tree', 'sap is related to plant', 'plant is related to living chlorophyl', 'plant is related to green vegetable', 'plant is related to vegetable creator', 'plant is related to creator', 'plant is related to indoor vegetation', 'plant is related to indoor', 'plant is related to vegetative growth', 'plant is related to vegetable species', 'plant is related to species', 'plant is related to vegetable organism', 'ginger is related to plant', 'plant is related to starter', 'plant is related to has seeds', 'plant is related to seed starter'], 'weight': [5.69, 5.58, 5.29, 4.9, 4.52, 4.45, 4.2, 3.46, 3.04, 2.83, 2.83, 2.75, 2.04, 2.03, 2.0, 2.0, 2.0, 2.0, 2.0, 2.0, 2.0, 2.0, 2.0, 2.0, 2.0, 2.0, 2.0, 2.0, 1.54, 1.42, 1.13, 1.06, 1.0, 1.0, 1.0, 1.0, 1.0, 1.0, 1.0, 1.0, 1.0, 1.0, 1.0, 1.0, 1.0, 1.0, 1.0, 1.0, 1.0, 0.94, 0.87, 0.74, 0.67, 0.66, 0.53, 0.53, 0.53, 0.39, 0.34, 0.29, 0.27, 0.25, 0.23, 0.23, 0.23, 0.22, 0.22, 0.21, 0.21, 0.2, 0.2, 0.19, 0.17, 0.16, 0.16, 0.16, 0.15, 0.15, 0.15, 0.15, 0.15, 0.15, 0.14, 0.14, 0.13, 0.13, 0.13, 0.13, 0.13, 0.12, 0.12, 0.1, 0.1, 0.1, 0.1, 8.5, 6.93, 4.96, 4.9, 2.83, 2.83, 2.57, 2.25, 2.0, 2.0, 2.0, 2.0, 2.0, 2.0, 2.0, 2.0, 2.0, 2.0, 2.0, 2.0, 2.0, 2.0, 2.0, 2.0, 2.0, 2.0, 2.0, 2.0, 2.0, 2.0, 2.0, 2.0, 2.0, 2.0, 2.0, 2.0, 2.0, 2.0, 2.0, 2.0, 2.0, 2.0, 2.0, 2.0, 2.0, 2.0, 2.0, 2.0, 2.0, 2.0, 2.0, 2.0, 2.0, 2.0, 2.0, 2.0, 2.0, 2.0, 1.84, 1.43, 1.34, 1.28, 1.09, 1.0, 1.0, 1.0, 1.0, 1.0, 1.0, 1.0, 1.0, 1.0, 1.0, 1.0, 1.0, 1.0, 1.0, 1.0, 1.0, 1.0, 1.0, 1.0, 1.0, 1.0, 0.97, 0.96, 0.95, 0.78, 0.66, 0.54, 0.46, 0.44, 0.42, 0.38, 0.36, 0.36, 0.36, 0.34, 0.29, 0.27, 0.23, 0.23, 0.18, 0.18, 0.18, 0.17, 0.17, 0.17, 0.17, 0.17, 0.17, 0.16, 0.15, 0.15, 0.15, 0.15, 0.13, 0.12, 0.11, 0.11, 0.1, 0.1, 2.0, 2.0, 2.0, 2.0, 2.0, 2.0, 2.0, 2.0, 2.0, 2.0, 2.0, 2.0, 1.0, 1.0, 1.0, 1.0, 1.0, 1.0, 0.56, 0.22, 2.0, 1.0, 8.78, 8.2, 7.68, 6.53, 6.47, 5.41, 5.29, 4.92, 4.9, 4.27, 4.16, 4.04, 4.0, 3.78, 3.7, 3.46, 3.46, 3.46, 3.44, 3.13, 3.05, 3.02, 3.01, 2.94, 2.83, 2.83, 2.83, 2.83, 2.83, 2.83, 2.83, 2.83, 2.83, 2.76, 2.25, 2.2, 2.03, 2.0, 2.0, 2.0, 2.0, 2.0, 2.0, 2.0, 2.0, 2.0, 2.0, 2.0, 2.0, 2.0, 2.0, 2.0, 2.0, 2.0, 2.0, 2.0, 2.0, 2.0, 2.0, 2.0, 2.0, 2.0, 2.0, 2.0, 2.0, 2.0, 2.0, 2.0, 2.0, 2.0, 2.0, 2.0, 2.0, 2.0, 2.0, 2.0, 2.0, 2.0, 2.0, 2.0, 2.0, 2.0, 2.0, 2.0, 2.0, 2.0, 2.0, 2.0, 2.0, 2.0, 2.0, 2.0, 2.0, 2.0, 2.0, 2.0, 2.0, 2.0, 2.0, 2.0, 2.0, 2.0, 2.0, 2.0, 2.0, 2.0, 2.0, 2.0, 2.0, 2.0, 2.0, 2.0, 2.0, 2.0, 2.0, 2.0, 2.0, 2.0, 2.0, 2.0, 2.0, 1.94, 1.87, 1.86, 1.86, 1.81, 1.69, 1.69, 1.67, 1.67, 1.61, 1.6, 1.52, 1.51, 1.44, 1.35, 1.35, 1.31, 1.29, 1.11, 1.11, 1.07, 1.0, 1.0, 1.0, 1.0, 1.0, 1.0, 1.0, 1.0, 1.0, 1.0, 1.0, 1.0, 1.0, 1.0, 1.0, 1.0, 1.0, 1.0, 1.0, 1.0, 1.0, 1.0, 1.0, 1.0, 1.0, 1.0, 1.0, 1.0, 1.0, 1.0, 1.0, 1.0, 1.0, 1.0, 1.0, 1.0, 1.0, 1.0, 1.0, 1.0, 1.0, 1.0, 1.0, 1.0, 1.0, 1.0, 1.0, 1.0, 1.0, 1.0, 1.0, 1.0, 1.0, 1.0, 1.0, 1.0, 1.0, 1.0, 1.0, 1.0, 1.0, 1.0, 1.0, 1.0, 1.0, 1.0, 1.0, 1.0, 1.0, 1.0, 1.0, 1.0, 1.0, 1.0, 1.0, 1.0, 1.0, 1.0, 1.0, 1.0, 1.0, 1.0, 1.0, 1.0, 1.0, 1.0, 1.0, 1.0, 1.0, 1.0, 1.0, 1.0, 1.0, 1.0, 1.0, 1.0, 1.0, 1.0, 1.0, 1.0, 1.0, 1.0, 1.0, 1.0, 1.0, 1.0, 1.0, 1.0, 1.0, 1.0, 1.0, 1.0, 1.0, 1.0, 1.0, 1.0, 1.0, 1.0, 1.0, 1.0, 1.0, 1.0, 1.0, 1.0, 1.0, 1.0, 1.0, 0.99, 0.97, 0.93, 0.92, 0.91, 0.88, 0.87, 0.85, 0.82, 0.77, 0.74, 0.72, 0.71, 0.71, 0.68, 0.68, 0.68, 0.67, 0.61, 0.61, 0.6, 0.59, 0.58, 0.58, 0.57, 0.56, 0.53, 0.53, 0.52, 0.52, 0.52, 0.51, 0.5, 0.5, 0.5, 0.49, 0.49, 0.49, 0.48, 0.48, 0.47, 0.47, 0.46, 0.46, 0.44, 0.44, 0.44, 0.44, 0.44, 0.43, 0.43, 0.43, 0.42, 0.42, 0.42, 0.42, 0.42, 0.42, 0.42, 0.42, 0.42, 0.41, 0.41, 0.4, 0.39, 0.39, 0.39, 0.38, 0.38, 0.38, 0.38, 0.35, 0.34, 0.34, 0.34, 0.33, 0.31, 0.31, 0.31, 0.31, 0.31, 0.3, 0.3, 0.3, 0.29, 0.28, 0.28, 0.28, 0.28, 0.28, 0.27, 0.27, 0.26, 0.25, 0.25, 0.25, 0.24, 0.23, 0.23, 0.23, 0.23, 0.23, 0.23, 0.23, 0.23, 0.22, 0.22, 0.22, 0.21, 0.21, 0.21, 0.21, 0.21, 0.21, 0.21, 0.21, 0.21, 0.21, 0.21, 0.21, 0.2, 0.2, 0.2, 0.19, 0.19, 0.18, 0.18, 0.18, 0.18, 0.18, 0.18, 0.18, 0.18, 0.18, 0.18, 0.18, 0.18, 0.18, 0.18, 0.18, 0.18, 0.18, 0.18, 0.18, 0.18, 0.18, 0.18, 0.17, 0.17, 0.17, 0.17, 0.17, 0.17, 0.17, 0.17, 0.17, 0.17, 0.17, 0.17, 0.17, 0.17, 0.17, 0.17, 0.17, 0.17, 0.17, 0.17, 0.17, 0.17, 0.17, 0.17, 0.17, 0.17, 0.17, 0.17, 0.17, 0.17, 0.17, 0.17, 0.16, 0.16, 0.16, 0.16, 0.16, 0.16, 0.15, 0.15, 0.15, 0.15, 0.15, 0.15, 0.15, 0.15, 0.15, 0.15, 0.15, 0.15, 0.15, 0.15, 0.15, 0.14, 0.14, 0.14, 0.14, 0.14, 0.14, 0.14, 0.14, 0.14, 0.14, 0.14, 0.14, 0.14, 0.14, 0.13, 0.13, 0.13, 0.13, 0.13, 0.13, 0.12, 0.12, 0.12, 0.11, 0.11, 0.11, 0.11, 0.11, 0.11, 0.11, 0.1, 0.1, 0.1, 0.1, 0.1, 0.1, 0.1, 0.1, 0.1, 0.1, 0.1, 0.1, 0.1, 0.1, 0.1, 0.1, 0.1, 0.1, 0.1, 0.1, 0.1, 0.1, 0.1, 0.1, 0.1, 0.1, 0.1, 0.1, 0.1, 0.1]}\n",
            "http://api.conceptnet.io/c/en/species\n",
            "{'topic': ['mammal', 'mammal', 'mammal', 'mammal', 'mammal', 'mammal', 'mammal', 'mammal', 'mammal', 'mammal', 'mammal', 'mammal', 'mammal', 'mammal', 'mammal', 'mammal', 'mammal', 'mammal', 'mammal', 'mammal', 'mammal', 'mammal', 'mammal', 'mammal', 'mammal', 'mammal', 'mammal', 'mammal', 'mammal', 'mammal', 'mammal', 'mammal', 'mammal', 'mammal', 'mammal', 'mammal', 'mammal', 'mammal', 'mammal', 'mammal', 'mammal', 'mammal', 'mammal', 'mammal', 'mammal', 'mammal', 'mammal', 'mammal', 'mammal', 'mammal', 'mammal', 'mammal', 'mammal', 'mammal', 'mammal', 'mammal', 'mammal', 'mammal', 'mammal', 'mammal', 'mammal', 'mammal', 'mammal', 'mammal', 'mammal', 'mammal', 'mammal', 'mammal', 'mammal', 'mammal', 'mammal', 'mammal', 'mammal', 'mammal', 'mammal', 'mammal', 'mammal', 'mammal', 'mammal', 'mammal', 'mammal', 'mammal', 'mammal', 'mammal', 'mammal', 'mammal', 'mammal', 'mammal', 'mammal', 'mammal', 'mammal', 'mammal', 'mammal', 'mammal', 'mammal', 'insect', 'insect', 'insect', 'insect', 'insect', 'insect', 'insect', 'insect', 'insect', 'insect', 'insect', 'insect', 'insect', 'insect', 'insect', 'insect', 'insect', 'insect', 'insect', 'insect', 'insect', 'insect', 'insect', 'insect', 'insect', 'insect', 'insect', 'insect', 'insect', 'insect', 'insect', 'insect', 'insect', 'insect', 'insect', 'insect', 'insect', 'insect', 'insect', 'insect', 'insect', 'insect', 'insect', 'insect', 'insect', 'insect', 'insect', 'insect', 'insect', 'insect', 'insect', 'insect', 'insect', 'insect', 'insect', 'insect', 'insect', 'insect', 'insect', 'insect', 'insect', 'insect', 'insect', 'insect', 'insect', 'insect', 'insect', 'insect', 'insect', 'insect', 'insect', 'insect', 'insect', 'insect', 'insect', 'insect', 'insect', 'insect', 'insect', 'insect', 'insect', 'insect', 'insect', 'insect', 'insect', 'insect', 'insect', 'insect', 'insect', 'insect', 'insect', 'insect', 'insect', 'insect', 'insect', 'insect', 'insect', 'insect', 'insect', 'insect', 'insect', 'insect', 'insect', 'insect', 'insect', 'insect', 'insect', 'insect', 'insect', 'insect', 'insect', 'insect', 'insect', 'insect', 'insect', 'insect', 'insect', 'insect', 'insect', 'insect', 'insect', 'insect', 'crustacean', 'crustacean', 'crustacean', 'crustacean', 'crustacean', 'crustacean', 'crustacean', 'crustacean', 'crustacean', 'crustacean', 'crustacean', 'crustacean', 'crustacean', 'crustacean', 'crustacean', 'crustacean', 'crustacean', 'crustacean', 'crustacean', 'crustacean', 'eukaryote', 'eukaryote', 'plant', 'plant', 'plant', 'plant', 'plant', 'plant', 'plant', 'plant', 'plant', 'plant', 'plant', 'plant', 'plant', 'plant', 'plant', 'plant', 'plant', 'plant', 'plant', 'plant', 'plant', 'plant', 'plant', 'plant', 'plant', 'plant', 'plant', 'plant', 'plant', 'plant', 'plant', 'plant', 'plant', 'plant', 'plant', 'plant', 'plant', 'plant', 'plant', 'plant', 'plant', 'plant', 'plant', 'plant', 'plant', 'plant', 'plant', 'plant', 'plant', 'plant', 'plant', 'plant', 'plant', 'plant', 'plant', 'plant', 'plant', 'plant', 'plant', 'plant', 'plant', 'plant', 'plant', 'plant', 'plant', 'plant', 'plant', 'plant', 'plant', 'plant', 'plant', 'plant', 'plant', 'plant', 'plant', 'plant', 'plant', 'plant', 'plant', 'plant', 'plant', 'plant', 'plant', 'plant', 'plant', 'plant', 'plant', 'plant', 'plant', 'plant', 'plant', 'plant', 'plant', 'plant', 'plant', 'plant', 'plant', 'plant', 'plant', 'plant', 'plant', 'plant', 'plant', 'plant', 'plant', 'plant', 'plant', 'plant', 'plant', 'plant', 'plant', 'plant', 'plant', 'plant', 'plant', 'plant', 'plant', 'plant', 'plant', 'plant', 'plant', 'plant', 'plant', 'plant', 'plant', 'plant', 'plant', 'plant', 'plant', 'plant', 'plant', 'plant', 'plant', 'plant', 'plant', 'plant', 'plant', 'plant', 'plant', 'plant', 'plant', 'plant', 'plant', 'plant', 'plant', 'plant', 'plant', 'plant', 'plant', 'plant', 'plant', 'plant', 'plant', 'plant', 'plant', 'plant', 'plant', 'plant', 'plant', 'plant', 'plant', 'plant', 'plant', 'plant', 'plant', 'plant', 'plant', 'plant', 'plant', 'plant', 'plant', 'plant', 'plant', 'plant', 'plant', 'plant', 'plant', 'plant', 'plant', 'plant', 'plant', 'plant', 'plant', 'plant', 'plant', 'plant', 'plant', 'plant', 'plant', 'plant', 'plant', 'plant', 'plant', 'plant', 'plant', 'plant', 'plant', 'plant', 'plant', 'plant', 'plant', 'plant', 'plant', 'plant', 'plant', 'plant', 'plant', 'plant', 'plant', 'plant', 'plant', 'plant', 'plant', 'plant', 'plant', 'plant', 'plant', 'plant', 'plant', 'plant', 'plant', 'plant', 'plant', 'plant', 'plant', 'plant', 'plant', 'plant', 'plant', 'plant', 'plant', 'plant', 'plant', 'plant', 'plant', 'plant', 'plant', 'plant', 'plant', 'plant', 'plant', 'plant', 'plant', 'plant', 'plant', 'plant', 'plant', 'plant', 'plant', 'plant', 'plant', 'plant', 'plant', 'plant', 'plant', 'plant', 'plant', 'plant', 'plant', 'plant', 'plant', 'plant', 'plant', 'plant', 'plant', 'plant', 'plant', 'plant', 'plant', 'plant', 'plant', 'plant', 'plant', 'plant', 'plant', 'plant', 'plant', 'plant', 'plant', 'plant', 'plant', 'plant', 'plant', 'plant', 'plant', 'plant', 'plant', 'plant', 'plant', 'plant', 'plant', 'plant', 'plant', 'plant', 'plant', 'plant', 'plant', 'plant', 'plant', 'plant', 'plant', 'plant', 'plant', 'plant', 'plant', 'plant', 'plant', 'plant', 'plant', 'plant', 'plant', 'plant', 'plant', 'plant', 'plant', 'plant', 'plant', 'plant', 'plant', 'plant', 'plant', 'plant', 'plant', 'plant', 'plant', 'plant', 'plant', 'plant', 'plant', 'plant', 'plant', 'plant', 'plant', 'plant', 'plant', 'plant', 'plant', 'plant', 'plant', 'plant', 'plant', 'plant', 'plant', 'plant', 'plant', 'plant', 'plant', 'plant', 'plant', 'plant', 'plant', 'plant', 'plant', 'plant', 'plant', 'plant', 'plant', 'plant', 'plant', 'plant', 'plant', 'plant', 'plant', 'plant', 'plant', 'plant', 'plant', 'plant', 'plant', 'plant', 'plant', 'plant', 'plant', 'plant', 'plant', 'plant', 'plant', 'plant', 'plant', 'plant', 'plant', 'plant', 'plant', 'plant', 'plant', 'plant', 'plant', 'plant', 'plant', 'plant', 'plant', 'plant', 'plant', 'plant', 'plant', 'plant', 'plant', 'plant', 'plant', 'plant', 'plant', 'plant', 'plant', 'plant', 'plant', 'plant', 'plant', 'plant', 'plant', 'plant', 'plant', 'plant', 'plant', 'plant', 'plant', 'plant', 'plant', 'plant', 'plant', 'plant', 'plant', 'plant', 'plant', 'plant', 'plant', 'plant', 'plant', 'plant', 'plant', 'plant', 'plant', 'plant', 'plant', 'plant', 'plant', 'plant', 'plant', 'plant', 'plant', 'plant', 'plant', 'plant', 'plant', 'plant', 'plant', 'plant', 'plant', 'plant', 'plant', 'plant', 'plant', 'plant', 'plant', 'plant', 'plant', 'plant', 'plant', 'plant', 'plant', 'plant', 'plant', 'plant', 'plant', 'plant', 'plant', 'plant', 'plant', 'plant', 'plant', 'plant', 'plant', 'plant', 'plant', 'plant', 'plant', 'plant', 'plant', 'plant', 'plant', 'plant', 'plant', 'plant', 'plant', 'plant', 'plant', 'plant', 'plant', 'plant', 'plant', 'plant', 'plant', 'plant', 'plant', 'plant', 'plant', 'plant', 'plant', 'plant', 'plant', 'plant', 'plant', 'plant', 'plant', 'plant', 'plant', 'plant', 'plant', 'plant', 'plant', 'plant', 'plant', 'plant', 'plant', 'plant', 'plant', 'plant', 'plant', 'plant', 'plant', 'plant', 'plant', 'plant', 'plant', 'plant', 'plant', 'plant', 'plant', 'plant', 'plant', 'species', 'species', 'species', 'species', 'species', 'species', 'species', 'species', 'species', 'species', 'species', 'species', 'species', 'species', 'species', 'species', 'species', 'species', 'species', 'species', 'species', 'species', 'species', 'species'], 'statement': ['squirrel is related to mammal', 'bat is related to mammal', 'a dog is a kind of mammal', 'A mouse is a type of mammal', 'bear is related to mammal', 'horse is related to mammal', 'sheep is related to mammal', 'A bear is a mammal', 'rabbit is related to mammal', 'A rabbit is a mammal', 'whale is a kind of mammal', 'mole is related to mammal', 'dog is related to mammal', 'cow is related to mammal', 'fossorial mammal is a type of mammal', 'hair is a part of mammal', 'prototherian is a type of mammal', 'prototherian is a type of mammal', 'metatherian is a type of mammal', 'hair is a part of mammal', 'prototherian is a type of mammal', 'The beaver is a mammal', 'mammal is a type of vertebrate', 'coat is a part of mammal', 'a badger is a kind of mammal.', 'fossorial mammal is a type of mammal', 'prototherian is a type of mammal', 'metatherian is a type of mammal', 'bird is related to mammal', 'whale is related to mammal', 'human is related to mammal', 'cat is related to mammal', 'a hedgehog is a mammal', 'a hedgehog is a mammal', 'a hedgehog is a mammal', 'An aardwolf is a type of mammal', 'a hedgehog is a mammal', 'The giraffe is a mammal', 'An aardwolf is a type of mammal', 'a tapir is a mammal', 'You are likely to find an artery in a mammal', 'You are likely to find an eye in a mammal', 'The giraffe is a mammal', 'An activity a mammal can do is play', 'a mammal can drink liquids', 'a rodent is a type of mammal', 'You are likely to find an eye in a mammal', 'An activity a mammal can do is mate', 'An aardwolf is a type of mammal', 'pig is related to mammal', 'animal is related to mammal', 'walrus is related to mammal', 'otter is related to mammal', 'mammal is related to animal', 'mammal is related to warm', 'mammal is related to warm blooded', 'mammal is related to blooded', 'elephant is related to mammal', 'chicken is related to mammal', 'fox is related to mammal', 'mammal is related to breasts', 'lion is related to mammal', 'mammal is related to air', 'mammal is related to breather', 'mammal is related to air breather', 'chipmunk is related to mammal', 'tortoise is related to mammal', 'skunk is related to mammal', 'milk is related to mammal', 'mammal is related to generic animal', 'mammal is related to generic', 'person is related to mammal', 'ox is related to mammal', 'moose is related to mammal', 'monkey is related to mammal', 'seal is related to mammal', 'mammal is related to animal hair', 'mammal is related to hair', 'mammal is related to animal kingdom', 'mammal is related to kingdom', 'mammal is related to furry animal', 'mammal is related to furry', 'mammal is related to lungs', 'people is related to mammal', 'mammal is related to dolphin', 'armadillo is related to mammal', 'mammal is related to monkey dolphin', 'mammal is related to general', 'mammal is related to monkey', 'mammal is related to animals', 'mammal is related to all animals', 'deer is related to mammal', 'mammal is related to feet', 'mammal is related to four feet', 'mammal is related to four', 'flea is related to insect', 'a fly is a insect', 'fly is related to insect', 'A butterfly is an insect', 'ant is a kind of insect', 'An earwig is an insect', 'mosquito is related to insect', 'insect is related to bug', 'stonefly is a type of insect', 'air sac is a part of insect', 'bug is a type of insect', 'phasmid is a type of insect', 'imago is a type of insect', 'ephemera is a type of insect', 'ephemerid is a type of insect', 'neuropteron is a type of insect', 'odonate is a type of insect', 'hemipterous insect is a type of insect', 'defoliator is a type of insect', 'queen is a type of insect', 'imago is a type of insect', 'stonefly is a type of insect', 'firefly is a kind of insect', 'phasmid is a type of insect', 'ephemera is a type of insect', 'ephemerid is a type of insect', 'leaf miner is a type of insect', 'neuropteron is a type of insect', 'heteropterous insect is a type of insect', 'hemipterous insect is a type of insect', 'lepidopterous insect is a type of insect', 'queen is a type of insect', 'dictyopterous insect is a type of insect', 'beetle is a type of insect', 'louse is a type of insect', 'imago is a type of insect', 'firefly is a kind of insect', 'phasmid is a type of insect', 'stonefly is a type of insect', 'bug is a type of insect', 'lepidopterous insect is a type of insect', 'An insect has 6 legs', 'dipterous insect is a type of insect', 'neuropteron is a type of insect', 'odonate is a type of insect', 'defoliator is a type of insect', 'flea is a type of insect', 'ala is a part of insect', 'proturan is a type of insect', 'wing is a part of insect', 'dictyopterous insect is a type of insect', 'thorax is a part of insect', 'bird louse is a type of insect', 'thysanuran insect is a type of insect', 'trichopterous insect is a type of insect', 'web spinner is a type of insect', 'A wasp is an insect', 'clypeus is a part of insect', 'bee is related to insect', 'butterfly is related to insect', 'insect is related to beetle', 'ant is related to insect', 'scorpion is related to insect', 'Somewhere an insect can be is on he ground', 'An ant lion is a type of insect', 'An ant lion is a type of insect', 'Somewhere an insect can be is on he ground', 'A mole cricket is an insect', 'a housefly is a insect', 'Japanese beetle is an insect', 'Japanese beetle is an insect', 'A roach is an insect', 'insect is a kind of arthropod', 'insect is a type of animal.', 'An abdomen is part of an insect', 'A mole cricket is an insect', 'A mole cricket is an insect', 'a housefly is a insect', 'Japanese beetle is an insect', 'A roach is an insect', 'A bee is an insect', 'insect is a kind of arthropod', 'insect is a type of animal.', 'An abdomen is part of an insect', 'be is related to insect', 'lice is related to insect', 'moth is related to insect', 'grasshopper is related to insect', 'pest is related to insect', 'insect is related to fly', 'gnat is related to insect', 'snail is related to insect', 'insect is related to animal', 'silk is related to insect', 'insect is related to six', 'insect is related to six legs', 'insect is related to legs', 'bat is related to insect', 'spider is related to insect', 'insect is related to mosquito', 'insect is related to bugs', 'earthworm is related to insect', 'cake is related to insect', 'insect is related to stinging fly', 'insect is related to stinging', 'insect is related to spider', 'insect is related to fly spider', 'caterpillar is related to insect', 'beehive is related to insect', 'insect is related to tiny', 'insect is related to tiny animal', 'nest is related to insect', 'insect is related to describing group', 'insect is related to describing', 'insect is related to group', 'jitterbug is related to insect', 'interest is related to insect', 'off is related to insect', 'insect is related to generic', 'worm is related to insect', 'insect is related to bug animal', 'creature is related to insect', 'brachyuran is a type of crustacean', 'barnacle is a kind of crustacean', 'crustacean is a animal', 'copepod is a type of crustacean', 'barnacle is a type of crustacean', 'malacostracan crustacean is a type of crustacean', 'green gland is a part of crustacean', 'branchiopod crustacean is a type of crustacean', 'stomatopod is a type of crustacean', 'claw is a part of crustacean', 'crustacean is a type of arthropod', 'malacostracan crustacean is a type of crustacean', 'crayfish is a kind of crustacean', 'shrimp is a kind of crustacean', 'crayfish is a kind of crustacean', 'shrimp is a kind of crustacean', 'isopod is a type of crustacean.', 'a crustacean is a kind of arthropod', 'lobster is related to crustacean', 'barnacle is related to crustacean', 'eukaryote is a type of organism', 'a eukaryote is a organism', 'seed is related to plant', 'tree is related to plant', 'flower is related to plant', 'plant is related to green', 'cotton is related to plant', 'plant is related to leaves', '*Something you find on the windowsill is a plant', 'grass is related to plant', 'A plant can grow in a garden', 'plant is related to flower', 'plant is related to growing', 'crop is related to plant', 'Cabbage is a plant', 'plant is related to tree', 'garden is related to plant', 'Cotton is a plant', 'poison ivy is a plant', 'Somewhere a plant can be is in a pot', 'corn is related to plant', 'plant is related to flowers', 'plant is related to vegetation', 'plant is related to living', 'leaf is related to plant', 'plant is related to garden', 'peppermint is a plant', 'plant is a kind of organism', 'Seaweed is a plant', 'a plant can flower in spring', 'colorado blue spruce is a plant', 'Verbena is a plant', 'pine is a plant', 'grass is a kind of plant.', 'tree is a kind of plant', 'plant is related to vegetable', 'seaweed is related to plant', 'plant is related to life', 'plant is related to small', 'plant is related to living thing', 'holophyte is a type of plant', 'embryo is a type of plant', 'plant can bloom', 'ornamental is a type of plant', 'phytoplankton is a type of plant', 'bottling plant is a type of plant', 'smelter is a type of plant', 'mint is a type of plant', 'embryo is a type of plant', 'holophyte is a type of plant', 'smelter is a type of plant', 'mint is a type of plant', 'distillery is a type of plant', 'bottling plant is a type of plant', 'plant can bloom', 'phytoplankton is a type of plant', 'distillery is a type of plant', 'plant can bloom', 'mint is a type of plant', 'smelter is a type of plant', 'holophyte is a type of plant', 'phytoplankton is a type of plant', 'phytoplankton is a type of plant', 'ornamental is a type of plant', 'plant is a type of building complex', 'bottling plant is a type of plant', 'distillery is a type of plant', 'plant can bloom', 'phytoplankton is a type of plant', 'bottling plant is a type of plant', 'distillery is a type of plant', 'smelter is a type of plant', 'blue tip juniper is a plant', 'plant is a type of building complex', 'A plant can be suffering dehydration', 'phytoplankton is a type of plant', 'canadian hemlock is a plant', 'A vine is a plant', 'packinghouse is a type of plant', 'phytoplankton is a type of plant', 'Little Gem Arborvitae is a plant', 'a venus flytrap is a plant', 'ornamental is a type of plant', 'crop is a type of plant', 'escape is a type of plant', 'phytoplankton is a type of plant', 'plant can bloom', 'hygrophyte is a type of plant', 'saltworks is a type of plant', 'cryptogam is a type of plant', 'gametophyte is a type of plant', 'phytoplankton is a type of plant', 'cannabis is a type of plant.', 'distillery is a type of plant', 'smelter is a type of plant', 'phytoplankton is a type of plant', 'mint is a type of plant', 'holophyte is a type of plant', 'blue tip juniper is a plant', 'A plant can be suffering dehydration', 'phytoplankton is a type of plant', 'refinery is a type of plant', 'A vine is a plant', 'phytoplankton is a type of plant', 'poisonous plant is a type of plant', 'a venus flytrap is a plant', 'bed is related to plant', 'acrogen is a type of plant', 'escape is a type of plant', 'phytoplankton is a type of plant', 'bottling plant is a type of plant', 'A plant can be suffering dehydration', 'hygrophyte is a type of plant', 'saltworks is a type of plant', 'gametophyte is a type of plant', 'densiformis gem yew is a plant', '*A plant has a transport system', 'air plant is a type of plant', 'gold thread falsecypress is a plant', 'phytoplankton is a type of plant', 'microflora is a type of plant', 'autophyte is a type of plant', 'aquatic is a type of plant', 'plant is related to growing thing', 'factory is related to plant', 'plant is related to trees', 'plant is related to flora', 'plant is related to bush', 'plant is related to roots', 'plant is related to organism', 'plant is related to stem', 'plant is related to ground', 'grow is related to plant', 'tobacco is related to plant', 'plant is related to green growing', 'plant is related to greenery', 'plant is related to small tree', 'plant is related to gardens', 'plant is related to green thing', 'plant is related to has', 'plant is related to green leaves', 'plant is related to seeds', 'plant is related to growth', 'plant is related to leafy', 'Helichrysum is a plant', 'You are likely to find a plant in your house.', 'Ginseng is a plant', 'a plant can bottle drinks', 'a plant can bottle drinks', 'Osteospermum is a plant', 'Diascia is a plant', 'hughes juniper is a plant', 'Northern lights azalea is a plant', 'Osteospermum is a plant', 'dwarf alberta spruce is a plant', 'Diascia is a plant', 'runyan yew is a plant', 'a plant can bottle drinks', 'hicksi yew is a plant', 'dark green pyramidal yew is a plant', 'Somewhere a plant can be is outside', 'Ginseng is a plant', 'You are likely to find a plant in your house.', 'techny arborvitae is a plant', 'rhododendron is a plant', 'wardi yew is a plant', 'moonglow juniper is a plant', 'Leaf is part of a plant.', '*Something you find on a table is a plant', 'white spruce is a plant', 'spicy lights azalea is a plant', 'a plant is part of nature', 'a plant is part of nature', 'moonglow juniper is a plant', 'bar harbor juniper is a plant', 'capitata yew is a plant', 'andorra juniper is a plant', 'rhododendron is a plant', 'wardi yew is a plant', 'Ginseng is a plant', 'Leaf is part of a plant.', 'nigra dark green arborvitae is a plant', 'juniper is a plant', 'Northern lights azalea is a plant', 'pfitzer blue juniper is a plant', 'capitata yew is a plant', 'Brachycome is a plant', 'green sargent juniper is a plant', '*Something you find on the porch is a plant', 'runyan yew is a plant', 'a plant can bottle drinks', 'hicksi yew is a plant', 'dark green pyramidal yew is a plant', 'black hills spruce is a plant', 'bar harbor juniper is a plant', 'white lights azalea is a plant', 'austrian pine is a plant', 'andorra juniper is a plant', 'rhododendron is a plant', 'A plant is part of an ecosystem', 'Argyranthemum is a plant', 'a potato is part of a plant', 'wardi yew is a plant', 'orchid lights azalea is a plant', 'techny arborvitae is a plant', 'You are likely to find a plant in your house.', 'Ginseng is a plant', 'A sunn is a plant', 'Cuphea is a plant', 'A plant can have roots', 'evergreen azalea is a plant', 'tamariscifolia juniper is a plant', 'Cotton is a fibrous substance that is part of a plant', 'northern hi-lights azalea is a plant', 'berkman golden arborvitae is a plant', 'plant is related to term', 'falsecypress is a plant', 'browni yew is a plant', 'Leaf is part of a plant.', 'sea green juniper is a plant', 'Nemesia is a plant', 'Somewhere a plant can be is in a garden', 'Carnivorous plant is a kind of plant.', 'nigra dark green arborvitae is a plant', '*Something you find on a shelf is a plant', 'cattail is a kind of plant.', 'Bacopa is a plant', 'wichita blue juniper is a plant', 'densiformis yew is a plant', 'broadmoor juniper is a plant', 'nest spruce is a plant', 'mugho pine is a plant', 'lettuce is a kind of plant.', 'juniper is a plant', 'Silphium was a plant', 'An iris is a kind of plant.', 'bobbink yew is a plant', 'woodward arborvitae is a plant', 'Northern lights azalea is a plant', 'Osteospermum is a plant', 'yew is a plant', 'dwarf alberta spruce is a plant', 'pfitzer blue juniper is a plant', 'rosy lights azalea is a plant', 'leyland cypress is a plant', 'a rose is a plant', 'A plant can grow', 'bamboo is a plant', 'Calibrachoa is a plant', 'capitata yew is a plant', 'Something you find outside is a plant', 'Brachycome is a plant', 'A plant can flower in spring time', 'Diascia is a plant', 'Stem is part of a plant.', 'a plant can flower petals', 'Scavola is a plant', 'hughes juniper is a plant', 'cypress is a plant', 'spartan juniper is a plant', 'People commonly mow grass, which is a plant', 'golden lights azalea is a plant', 'green sargent juniper is a plant', 'A suture is part of a plant', '*Something you find on the porch is a plant', 'runyan yew is a plant', 'a plant can bottle drinks', 'hicksi yew is a plant', 'dark green pyramidal yew is a plant', 'Helichrysum is a plant', 'Somewhere a plant can be is outside', 'plant is related to foliage', 'branch is related to plant', 'ivy is related to plant', 'stem is related to plant', 'plant is related to generic', 'plant is related to has leaves', 'plant is related to shrub', 'plant is related to general', 'wood is related to plant', 'plant is related to potted', 'algae is related to plant', 'plant is related to grows', 'weed is related to plant', 'plant is related to alive', 'plant is related to photosynthesis', 'plant is related to leaves flowers', 'plant is related to general term', 'plant is related to flower tree', 'plant is related to sow', 'plant is related to green life', 'plant is related to house', 'botany is related to plant', 'plant is related to leaf', 'plant is related to pot', 'plant is related to crop', 'plant is related to stems', 'plant is related to organic', 'plant is related to coke', 'plant is related to green leafy', 'plant is related to green growth', 'earth is related to plant', 'plant is related to leaves stem', 'plant is related to matter', 'plant is related to sow seeds', 'plant is related to seed', 'farmer is related to plant', 'plant is related to grass', 'shrub is related to plant', 'plant is related to tree flower', 'green is related to plant', 'plant is related to small bush', 'root is related to plant', 'plant is related to grown', 'plant is related to weed', 'plant is related to green vegetation', 'plant is related to trees flowers', 'plant is related to chlorophyll', 'plant is related to life form', 'plant is related to form', 'plant is related to vegetative', 'plant is related to in garden', 'plant is related to herbal', 'nursery is related to plant', 'plant is related to flower bush', 'plant is related to nature', 'plant is related to dirt', 'plant is related to generic term', 'plant is related to green foliage', 'plant is related to often', 'moss is related to plant', 'plant is related to often green', 'thorn is related to plant', 'herb is related to plant', 'plant is related to green organism', 'plant is related to growing green', 'plant is related to water', 'plant is related to soil', 'plant is related to kingdom', 'plant is related to growing greenery', 'plant is related to in ground', 'cell is related to plant', 'rice is related to plant', 'grain is related to plant', 'plant is related to earth', 'plant is related to sew', 'plant is related to factory', 'plant is related to house grower', 'plant is related to grower', 'plant is related to crops', 'plant is related to gardening', 'plant is related to stem leaves', 'plant is related to like', 'hedge is related to plant', 'plant is related to vegetables', 'plant is related to fern', 'plant is related to potted flower', 'plant is related to stems leaves', 'plant is related to leaves stems', 'plant is related to growing vegetable', 'plant is related to vegetable matter', 'reed is related to plant', 'plant is related to roots flowers', 'plant is related to herbal growth', 'plant is related to water it', 'plant is related to any flower', 'plant is related to any', 'plant is related to salads', 'plant is related to thing', 'plant is related to animal', 'plant is related to growing vegetation', 'plant is related to leaves roots', 'plant is related to vegetable growth', 'plant is related to farmers', 'plant is related to vegetative matter', 'plant is related to farmers crop', 'rubber is related to plant', 'plant is related to product', 'plant is related to seed product', 'board is related to plant', 'plant is related to green organic', 'vine is related to plant', 'plant is related to leafy thing', 'plant is related to belching smoke', 'plant is related to belching', 'plant is related to smoke', 'plant is related to biological', 'plant is related to greenhouses', 'plant is related to roots stem', 'plant is related to petals', 'plant is related to bury', 'petal is related to plant', 'plant is related to biology', 'plant is related to in biology', 'plant is related to vegetables trees', 'plant is related to daffodil', 'plant is related to taxonomical', 'plant is related to taxonomical kingdom', 'plant is related to generalization', 'plant is related to mini', 'plant is related to mini tree', 'plant is related to tree generalization', 'plant is related to grass trees', 'plant is related to vegetarian food', 'plant is related to flowerless', 'plant is related to food', 'plant is related to vegetarian', 'plant is related to flowerless growing', 'plant is related to from seed', 'plant is related to outside', 'leek is related to plant', 'plant is related to veggie', 'plant is related to general vegetable', 'plant is related to flowery', 'plant is related to grow', 'plant is related to ground pot', 'plant is related to seeds grow', 'plant is related to house weed', 'sow is related to plant', 'plant is related to smaller', 'plant is related to shrubs', 'flax is related to plant', 'plant is related to seedling', 'plant is related to green garden', 'plant is related to grown soil', 'plant is related to green crop', 'plant is related to herbal thing', 'flourish is related to plant', 'plant is related to pots', 'plant is related to tulip', 'plant is related to action', 'plant is related to living things', 'plant is related to it grows', 'plant is related to has flowers', 'lily is related to plant', 'plant is related to living green', 'plant is related to living thin', 'plant is related to thin', 'plant is related to green living', 'plant is related to green leaf', 'plant is related to like flower', 'plant is related to green flower', 'plant is related to underground', 'plant is related to put', 'plant is related to put underground', 'plant is related to green alive', 'plant is related to green flora', 'plant is related to in gardens', 'plant is related to leafy green', 'plant is related to has roots', 'plant is related to fauna', 'plant is related to potted thing', 'plant is related to botany', 'plant is related to its', 'plant is related to its green', 'plant is related to stem leaf', 'plant is related to flower or', 'plant is related to leafs', 'manufacture is related to plant', 'plant is related to generic fern', 'plant is related to sometimes', 'plant is related to leaves sometimes', 'plant is related to green chlorophyll', 'plant is related to forest', 'plant is related to gardens yards', 'plant is related to yards', 'squirrel is related to plant', 'plant is related to flower fern', 'plant is related to tree vegetable', 'plant is related to generic bush', 'creeper is related to plant', 'plant is related to trees grass', 'plant is related to crops flowers', 'growth is related to plant', 'power is related to plant', 'plant is related to with chlorophyll', 'plant is related to dig', 'plant is related to dig dirt', 'plant is related to bush flower', 'plant is related to all flora', 'plant is related to xylem', 'plant is related to flower leaves', 'plant is related to like flowers', 'plant is related to being', 'plant is related to living being', 'plant is related to vegetable flower', 'leave is related to plant', 'energy is related to plant', 'plant is related to broader', 'plant is related to forests', 'plant is related to free', 'stalk is related to plant', 'plant is related to everywhere', 'ground is related to plant', 'plant is related to veg', 'plant is related to vegetable description', 'bud is related to plant', 'plant is related to manufacturing facility', 'plant is related to description', 'plant is related to manufacturing', 'plant is related to facility', 'plant is related to in greenhouses', 'plant is related to undergrowth', 'plant is related to snowdrop', 'plant is related to biological term', 'plant is related to starting', 'plant is related to starting vegetables', 'plant is related to herb', 'plant is related to bury seeds', 'plant is related to chlorophyl', 'dandelion is related to plant', 'plant is related to cellulose', 'flora is related to plant', 'sage is related to plant', 'soil is related to plant', 'plant is related to vegetable tree', 'sap is related to plant', 'plant is related to living chlorophyl', 'plant is related to green vegetable', 'plant is related to vegetable creator', 'plant is related to creator', 'plant is related to indoor vegetation', 'plant is related to indoor', 'plant is related to vegetative growth', 'plant is related to vegetable species', 'plant is related to species', 'plant is related to vegetable organism', 'ginger is related to plant', 'plant is related to starter', 'plant is related to has seeds', 'plant is related to seed starter', 'walnut is a species', 'endangered species is a type of species', 'oak is a species', 'endangered species is a type of species', 'endangered species is a type of species', 'human is related to species', 'A species is a collection of similar beings', 'Some species are easier to clone than others', 'A species has a common set of ancestors', 'A species has a common set of ancestors', 'A species is a type of living thing', 'a species is part of a genus.', 'A species is a collection of similar biological beings', 'animal is related to species', 'feline is related to species', 'fish is related to species', 'chicken is related to species', 'alien is related to species', 'lady is related to species', 'origin is related to species', 'class is related to species', 'man is related to species', 'boy is related to species', 'plant is related to species'], 'weight': [5.69, 5.58, 5.29, 4.9, 4.52, 4.45, 4.2, 3.46, 3.04, 2.83, 2.83, 2.75, 2.04, 2.03, 2.0, 2.0, 2.0, 2.0, 2.0, 2.0, 2.0, 2.0, 2.0, 2.0, 2.0, 2.0, 2.0, 2.0, 1.54, 1.42, 1.13, 1.06, 1.0, 1.0, 1.0, 1.0, 1.0, 1.0, 1.0, 1.0, 1.0, 1.0, 1.0, 1.0, 1.0, 1.0, 1.0, 1.0, 1.0, 0.94, 0.87, 0.74, 0.67, 0.66, 0.53, 0.53, 0.53, 0.39, 0.34, 0.29, 0.27, 0.25, 0.23, 0.23, 0.23, 0.22, 0.22, 0.21, 0.21, 0.2, 0.2, 0.19, 0.17, 0.16, 0.16, 0.16, 0.15, 0.15, 0.15, 0.15, 0.15, 0.15, 0.14, 0.14, 0.13, 0.13, 0.13, 0.13, 0.13, 0.12, 0.12, 0.1, 0.1, 0.1, 0.1, 8.5, 6.93, 4.96, 4.9, 2.83, 2.83, 2.57, 2.25, 2.0, 2.0, 2.0, 2.0, 2.0, 2.0, 2.0, 2.0, 2.0, 2.0, 2.0, 2.0, 2.0, 2.0, 2.0, 2.0, 2.0, 2.0, 2.0, 2.0, 2.0, 2.0, 2.0, 2.0, 2.0, 2.0, 2.0, 2.0, 2.0, 2.0, 2.0, 2.0, 2.0, 2.0, 2.0, 2.0, 2.0, 2.0, 2.0, 2.0, 2.0, 2.0, 2.0, 2.0, 2.0, 2.0, 2.0, 2.0, 2.0, 2.0, 1.84, 1.43, 1.34, 1.28, 1.09, 1.0, 1.0, 1.0, 1.0, 1.0, 1.0, 1.0, 1.0, 1.0, 1.0, 1.0, 1.0, 1.0, 1.0, 1.0, 1.0, 1.0, 1.0, 1.0, 1.0, 1.0, 0.97, 0.96, 0.95, 0.78, 0.66, 0.54, 0.46, 0.44, 0.42, 0.38, 0.36, 0.36, 0.36, 0.34, 0.29, 0.27, 0.23, 0.23, 0.18, 0.18, 0.18, 0.17, 0.17, 0.17, 0.17, 0.17, 0.17, 0.16, 0.15, 0.15, 0.15, 0.15, 0.13, 0.12, 0.11, 0.11, 0.1, 0.1, 2.0, 2.0, 2.0, 2.0, 2.0, 2.0, 2.0, 2.0, 2.0, 2.0, 2.0, 2.0, 1.0, 1.0, 1.0, 1.0, 1.0, 1.0, 0.56, 0.22, 2.0, 1.0, 8.78, 8.2, 7.68, 6.53, 6.47, 5.41, 5.29, 4.92, 4.9, 4.27, 4.16, 4.04, 4.0, 3.78, 3.7, 3.46, 3.46, 3.46, 3.44, 3.13, 3.05, 3.02, 3.01, 2.94, 2.83, 2.83, 2.83, 2.83, 2.83, 2.83, 2.83, 2.83, 2.83, 2.76, 2.25, 2.2, 2.03, 2.0, 2.0, 2.0, 2.0, 2.0, 2.0, 2.0, 2.0, 2.0, 2.0, 2.0, 2.0, 2.0, 2.0, 2.0, 2.0, 2.0, 2.0, 2.0, 2.0, 2.0, 2.0, 2.0, 2.0, 2.0, 2.0, 2.0, 2.0, 2.0, 2.0, 2.0, 2.0, 2.0, 2.0, 2.0, 2.0, 2.0, 2.0, 2.0, 2.0, 2.0, 2.0, 2.0, 2.0, 2.0, 2.0, 2.0, 2.0, 2.0, 2.0, 2.0, 2.0, 2.0, 2.0, 2.0, 2.0, 2.0, 2.0, 2.0, 2.0, 2.0, 2.0, 2.0, 2.0, 2.0, 2.0, 2.0, 2.0, 2.0, 2.0, 2.0, 2.0, 2.0, 2.0, 2.0, 2.0, 2.0, 2.0, 2.0, 2.0, 2.0, 2.0, 2.0, 2.0, 1.94, 1.87, 1.86, 1.86, 1.81, 1.69, 1.69, 1.67, 1.67, 1.61, 1.6, 1.52, 1.51, 1.44, 1.35, 1.35, 1.31, 1.29, 1.11, 1.11, 1.07, 1.0, 1.0, 1.0, 1.0, 1.0, 1.0, 1.0, 1.0, 1.0, 1.0, 1.0, 1.0, 1.0, 1.0, 1.0, 1.0, 1.0, 1.0, 1.0, 1.0, 1.0, 1.0, 1.0, 1.0, 1.0, 1.0, 1.0, 1.0, 1.0, 1.0, 1.0, 1.0, 1.0, 1.0, 1.0, 1.0, 1.0, 1.0, 1.0, 1.0, 1.0, 1.0, 1.0, 1.0, 1.0, 1.0, 1.0, 1.0, 1.0, 1.0, 1.0, 1.0, 1.0, 1.0, 1.0, 1.0, 1.0, 1.0, 1.0, 1.0, 1.0, 1.0, 1.0, 1.0, 1.0, 1.0, 1.0, 1.0, 1.0, 1.0, 1.0, 1.0, 1.0, 1.0, 1.0, 1.0, 1.0, 1.0, 1.0, 1.0, 1.0, 1.0, 1.0, 1.0, 1.0, 1.0, 1.0, 1.0, 1.0, 1.0, 1.0, 1.0, 1.0, 1.0, 1.0, 1.0, 1.0, 1.0, 1.0, 1.0, 1.0, 1.0, 1.0, 1.0, 1.0, 1.0, 1.0, 1.0, 1.0, 1.0, 1.0, 1.0, 1.0, 1.0, 1.0, 1.0, 1.0, 1.0, 1.0, 1.0, 1.0, 1.0, 1.0, 1.0, 1.0, 1.0, 1.0, 0.99, 0.97, 0.93, 0.92, 0.91, 0.88, 0.87, 0.85, 0.82, 0.77, 0.74, 0.72, 0.71, 0.71, 0.68, 0.68, 0.68, 0.67, 0.61, 0.61, 0.6, 0.59, 0.58, 0.58, 0.57, 0.56, 0.53, 0.53, 0.52, 0.52, 0.52, 0.51, 0.5, 0.5, 0.5, 0.49, 0.49, 0.49, 0.48, 0.48, 0.47, 0.47, 0.46, 0.46, 0.44, 0.44, 0.44, 0.44, 0.44, 0.43, 0.43, 0.43, 0.42, 0.42, 0.42, 0.42, 0.42, 0.42, 0.42, 0.42, 0.42, 0.41, 0.41, 0.4, 0.39, 0.39, 0.39, 0.38, 0.38, 0.38, 0.38, 0.35, 0.34, 0.34, 0.34, 0.33, 0.31, 0.31, 0.31, 0.31, 0.31, 0.3, 0.3, 0.3, 0.29, 0.28, 0.28, 0.28, 0.28, 0.28, 0.27, 0.27, 0.26, 0.25, 0.25, 0.25, 0.24, 0.23, 0.23, 0.23, 0.23, 0.23, 0.23, 0.23, 0.23, 0.22, 0.22, 0.22, 0.21, 0.21, 0.21, 0.21, 0.21, 0.21, 0.21, 0.21, 0.21, 0.21, 0.21, 0.21, 0.2, 0.2, 0.2, 0.19, 0.19, 0.18, 0.18, 0.18, 0.18, 0.18, 0.18, 0.18, 0.18, 0.18, 0.18, 0.18, 0.18, 0.18, 0.18, 0.18, 0.18, 0.18, 0.18, 0.18, 0.18, 0.18, 0.18, 0.17, 0.17, 0.17, 0.17, 0.17, 0.17, 0.17, 0.17, 0.17, 0.17, 0.17, 0.17, 0.17, 0.17, 0.17, 0.17, 0.17, 0.17, 0.17, 0.17, 0.17, 0.17, 0.17, 0.17, 0.17, 0.17, 0.17, 0.17, 0.17, 0.17, 0.17, 0.17, 0.16, 0.16, 0.16, 0.16, 0.16, 0.16, 0.15, 0.15, 0.15, 0.15, 0.15, 0.15, 0.15, 0.15, 0.15, 0.15, 0.15, 0.15, 0.15, 0.15, 0.15, 0.14, 0.14, 0.14, 0.14, 0.14, 0.14, 0.14, 0.14, 0.14, 0.14, 0.14, 0.14, 0.14, 0.14, 0.13, 0.13, 0.13, 0.13, 0.13, 0.13, 0.12, 0.12, 0.12, 0.11, 0.11, 0.11, 0.11, 0.11, 0.11, 0.11, 0.1, 0.1, 0.1, 0.1, 0.1, 0.1, 0.1, 0.1, 0.1, 0.1, 0.1, 0.1, 0.1, 0.1, 0.1, 0.1, 0.1, 0.1, 0.1, 0.1, 0.1, 0.1, 0.1, 0.1, 0.1, 0.1, 0.1, 0.1, 0.1, 0.1, 2.0, 2.0, 2.0, 2.0, 2.0, 1.7, 1.0, 1.0, 1.0, 1.0, 1.0, 1.0, 1.0, 0.75, 0.34, 0.31, 0.29, 0.25, 0.2, 0.17, 0.14, 0.11, 0.11, 0.1]}\n"
          ],
          "name": "stdout"
        }
      ]
    },
    {
      "cell_type": "code",
      "metadata": {
        "id": "8xPMqggBx4_5"
      },
      "source": [
        "import pandas as pd\n",
        "\n",
        "df2=pd.DataFrame.from_dict(dict)\n",
        "#cnTriples.to_csv('/content/drive/MyDrive/Renarration/cnTriples.csv')\n",
        "df1=pd.read_csv('/content/drive/MyDrive/Renarration/cnTriples.csv')\n",
        "mainDF=pd.concat([df2,df1],axis=0)\n",
        "mainDF.to_csv('/content/drive/MyDrive/Renarration/cnTriples_full.csv')\n"
      ],
      "execution_count": null,
      "outputs": []
    },
    {
      "cell_type": "code",
      "metadata": {
        "colab": {
          "base_uri": "https://localhost:8080/"
        },
        "id": "PDO1PcXW1QKZ",
        "outputId": "68deefd1-3a18-4eca-af82-f8134923b7ae"
      },
      "source": [
        "import pandas as pd\n",
        "from sklearn.preprocessing import MinMaxScaler\n",
        "import numpy as np\n",
        "\"\"\"ndict={}\n",
        "for index,value in enumerate(dict['weight']):\n",
        "  if value >5:\n",
        "    key=dict['statement'][index]\n",
        "    ndict[key]=value\n",
        "\n",
        "print(ndict)\n",
        "print(len(ndict))\"\"\"\n",
        "df=pd.DataFrame.from_dict(dict)\n",
        "#tmdf=df[df['weight']>10]\n",
        "rdf=df[df['weight']>5]\n",
        "#print(rdf)\n",
        "#print(normalize(ndict))\n",
        "#df=pd.DataFrame.from_dict(dict)\n",
        "#rdf=df[df['weight']>5]\n",
        "#print(rdf)\n",
        "#x = rdf['weight'].values #returns a numpy array\n",
        "#rdf['weight'] = (rdf['weight'] - rdf['weight'].min()) / (rdf['weight'].max() - rdf['weight'].min())  -- min max scaling\n",
        "rdf['norm_weight'] = round(rdf['weight'] /rdf['weight'].abs().max(),2) #--good results -- max absolute scaling\n",
        "#rdf['weight'] = (rdf['weight'] - rdf['weight'].mean()) / rdf['weight'].std()  -- z scaling -- (negative values) \n",
        "#rdf['weight'] = MinMaxScaler().fit_transform(np.array(rdf['weight']).reshape(-1,1)) -- same as min max scaling results\n",
        "#drop redundant sentences\n",
        "rdf=rdf.drop([df.index[7],df.index[10]])\n",
        "rdf=rdf.reset_index(drop=True)\n",
        "print(rdf)"
      ],
      "execution_count": null,
      "outputs": [
        {
          "output_type": "stream",
          "text": [
            "                                         statement  weight  norm_weight\n",
            "0                                     dog can bark   16.00         1.00\n",
            "1                       A dog can guard your house   10.39         0.65\n",
            "2                            dog is related to pet    9.83         0.61\n",
            "3                         dog is related to animal    9.41         0.59\n",
            "4         You are likely to find a dog in a kennel    9.38         0.59\n",
            "5                           flea is related to dog    9.02         0.56\n",
            "6                         dog is related to canine    7.63         0.48\n",
            "7                          A dog is a loyal friend    6.63         0.41\n",
            "8                       a dog is for companionship    6.32         0.40\n",
            "9                  An activity a dog can do is run    6.00         0.38\n",
            "10  *Something you find under the table is the dog    5.66         0.35\n",
            "11                              a dog wants a bone    5.29         0.33\n",
            "12                       a dog is a kind of mammal    5.29         0.33\n",
            "13                             A dog has four legs    5.29         0.33\n",
            "14                  A dog can guide a blind person    5.29         0.33\n"
          ],
          "name": "stdout"
        },
        {
          "output_type": "stream",
          "text": [
            "/usr/local/lib/python3.7/dist-packages/ipykernel_launcher.py:22: SettingWithCopyWarning: \n",
            "A value is trying to be set on a copy of a slice from a DataFrame.\n",
            "Try using .loc[row_indexer,col_indexer] = value instead\n",
            "\n",
            "See the caveats in the documentation: https://pandas.pydata.org/pandas-docs/stable/user_guide/indexing.html#returning-a-view-versus-a-copy\n"
          ],
          "name": "stderr"
        }
      ]
    },
    {
      "cell_type": "code",
      "metadata": {
        "colab": {
          "base_uri": "https://localhost:8080/"
        },
        "id": "xlamqPhVFPW-",
        "outputId": "ed379f83-b55d-40b4-953f-cca878150f46"
      },
      "source": [
        "!pip install gingerit"
      ],
      "execution_count": null,
      "outputs": [
        {
          "output_type": "stream",
          "text": [
            "Collecting gingerit\n",
            "  Downloading https://files.pythonhosted.org/packages/bd/ef/f66880c65391a0630bdd4ffc742c4e97c59146abf251bd764042ad1db049/gingerit-0.8.1-py3-none-any.whl\n",
            "Requirement already satisfied: requests<3.0,>=2.22 in /usr/local/lib/python3.7/dist-packages (from gingerit) (2.23.0)\n",
            "Requirement already satisfied: certifi>=2017.4.17 in /usr/local/lib/python3.7/dist-packages (from requests<3.0,>=2.22->gingerit) (2020.12.5)\n",
            "Requirement already satisfied: urllib3!=1.25.0,!=1.25.1,<1.26,>=1.21.1 in /usr/local/lib/python3.7/dist-packages (from requests<3.0,>=2.22->gingerit) (1.24.3)\n",
            "Requirement already satisfied: idna<3,>=2.5 in /usr/local/lib/python3.7/dist-packages (from requests<3.0,>=2.22->gingerit) (2.10)\n",
            "Requirement already satisfied: chardet<4,>=3.0.2 in /usr/local/lib/python3.7/dist-packages (from requests<3.0,>=2.22->gingerit) (3.0.4)\n",
            "Installing collected packages: gingerit\n",
            "Successfully installed gingerit-0.8.1\n"
          ],
          "name": "stdout"
        }
      ]
    },
    {
      "cell_type": "code",
      "metadata": {
        "id": "J4S927oQX3fq"
      },
      "source": [],
      "execution_count": null,
      "outputs": []
    },
    {
      "cell_type": "code",
      "metadata": {
        "colab": {
          "base_uri": "https://localhost:8080/"
        },
        "id": "usaWgbEklKMd",
        "outputId": "180cbbfe-adc4-4630-a01f-cb073b84cf19"
      },
      "source": [
        "from gingerit.gingerit import GingerIt\n",
        "tr_sent=[]\n",
        "parser = GingerIt()\n",
        "sub=['a dog','the dog','dog']\n",
        "for sent in rdf['statement']:\n",
        "  for i in range(len(sub)):\n",
        "    if sub[i] in sent.lower():\n",
        "      sent=re.sub(sub[i],'I',sent.lower())\n",
        "      op=parser.parse(sent)\n",
        "      tr_sent.append(op['result']+\" . \")\n",
        "\n",
        "print(tr_sent)\n",
        "rdf['tr_statement']=tr_sent\n",
        "print(rdf)"
      ],
      "execution_count": null,
      "outputs": [
        {
          "output_type": "stream",
          "text": [
            "['I can bark . ', 'I can guard your house . ', 'I am related to pets . ', 'I am related to animals . ', 'You are likely to find me in a kennel . ', 'Flea is related to me . ', 'I am related to canine . ', 'I am a loyal friend . ', 'I am for companionship . ', 'An activity I can do is run . ', '*something you find under the table is I . ', 'I want a bone . ', 'I am a kind of mammal . ', 'I have four legs . ', 'I can guide a blind person . ']\n",
            "                                         statement  ...                                 tr_statement\n",
            "0                                     dog can bark  ...                                I can bark . \n",
            "1                       A dog can guard your house  ...                    I can guard your house . \n",
            "2                            dog is related to pet  ...                      I am related to pets . \n",
            "3                         dog is related to animal  ...                   I am related to animals . \n",
            "4         You are likely to find a dog in a kennel  ...     You are likely to find me in a kennel . \n",
            "5                           flea is related to dog  ...                     Flea is related to me . \n",
            "6                         dog is related to canine  ...                    I am related to canine . \n",
            "7                          A dog is a loyal friend  ...                       I am a loyal friend . \n",
            "8                       a dog is for companionship  ...                    I am for companionship . \n",
            "9                  An activity a dog can do is run  ...               An activity I can do is run . \n",
            "10  *Something you find under the table is the dog  ...  *something you find under the table is I . \n",
            "11                              a dog wants a bone  ...                             I want a bone . \n",
            "12                       a dog is a kind of mammal  ...                     I am a kind of mammal . \n",
            "13                             A dog has four legs  ...                          I have four legs . \n",
            "14                  A dog can guide a blind person  ...                I can guide a blind person . \n",
            "\n",
            "[15 rows x 4 columns]\n"
          ],
          "name": "stdout"
        }
      ]
    },
    {
      "cell_type": "code",
      "metadata": {
        "colab": {
          "base_uri": "https://localhost:8080/"
        },
        "id": "6wvOA42YJ6O6",
        "outputId": "f43b2904-b94c-4b3a-a6d9-7e325b0cd963"
      },
      "source": [
        "arr1=[1.0,0.65,0.61,0.59,0.59,0.56,0.48,0.47,0.41,0.40,0.38,0.38,0.35,0.33,0.33,0.33,0.33]\n",
        "\n",
        "final_arr=[]\n",
        "#step 1 : consider each value in linear fashion untill the sum is 1\n",
        "\"\"\"for i in range(len(arr)):\n",
        "  sum=1\n",
        "  if sum==arr[i]:\n",
        "    return final_arr.append([i])\n",
        "  elif:\n",
        "\"\"\"\n",
        "#function to check sum =1\n",
        "def sum_validation(sum):\n",
        "  if round(sum,0)==1:\n",
        "    return 'valid'\n",
        "  else:\n",
        "    return 'not valid'\n",
        "\n",
        "#score\n",
        "dum=[]\n",
        "#arr1=[0.9,0.1,0.8,0.2,0.7,0.6,0.3,0.5]\n",
        "for i in range(len(arr1)):\n",
        "  x=arr1[i]\n",
        "  if sum_validation(x)=='valid':\n",
        "    print(x)\n",
        "  elif i<len(arr1):\n",
        "    for i in range(i+1,len(arr1)):\n",
        "      if sum_validation(x+arr1[i])=='valid':\n",
        "         print(x,arr1[i])\n",
        "      else:\n",
        "        for i in range(i+1,len(arr1)):\n",
        "            #print(i,i+1)\n",
        "            if i+1<len(arr1) and sum_validation(x+arr1[i]+arr1[i+1])=='valid':\n",
        "                print(x,arr1[i],arr1[i+1])\n"
      ],
      "execution_count": null,
      "outputs": [
        {
          "output_type": "stream",
          "text": [
            "1.0\n",
            "0.65\n",
            "0.61\n",
            "0.59\n",
            "0.59\n",
            "0.56\n",
            "0.48 0.47\n",
            "0.48 0.41\n",
            "0.48 0.4\n",
            "0.48 0.38\n",
            "0.48 0.38\n",
            "0.48 0.35\n",
            "0.48 0.33\n",
            "0.48 0.33\n",
            "0.48 0.33\n",
            "0.48 0.33\n",
            "0.47 0.41\n",
            "0.47 0.4\n",
            "0.47 0.38\n",
            "0.47 0.38\n",
            "0.47 0.35\n",
            "0.47 0.33\n",
            "0.47 0.33\n",
            "0.47 0.33\n",
            "0.47 0.33\n",
            "0.41 0.4\n",
            "0.41 0.38\n",
            "0.41 0.38\n",
            "0.41 0.35\n",
            "0.41 0.33\n",
            "0.41 0.33\n",
            "0.41 0.33\n",
            "0.41 0.33\n",
            "0.4 0.38\n",
            "0.4 0.38\n",
            "0.4 0.35\n",
            "0.4 0.33\n",
            "0.4 0.33\n",
            "0.4 0.33\n",
            "0.4 0.33\n",
            "0.38 0.38\n",
            "0.38 0.35\n",
            "0.38 0.33\n",
            "0.38 0.33\n",
            "0.38 0.33\n",
            "0.38 0.33\n",
            "0.38 0.35\n",
            "0.38 0.33\n",
            "0.38 0.33\n",
            "0.38 0.33\n",
            "0.38 0.33\n",
            "0.35 0.33\n",
            "0.35 0.33\n",
            "0.35 0.33\n",
            "0.35 0.33\n",
            "0.33 0.33\n",
            "0.33 0.33\n",
            "0.33 0.33\n",
            "0.33 0.33\n",
            "0.33 0.33\n",
            "0.33 0.33\n"
          ],
          "name": "stdout"
        }
      ]
    },
    {
      "cell_type": "code",
      "metadata": {
        "colab": {
          "base_uri": "https://localhost:8080/"
        },
        "id": "yDzFJiqH4J7D",
        "outputId": "1a2f0141-4cb7-43f8-de08-a8cdf1d3b519"
      },
      "source": [
        "# Weight greater than 10 -- topical markers\n",
        "tmdf=df[df['weight']>10]\n",
        "print(tmdf)\n"
      ],
      "execution_count": null,
      "outputs": [
        {
          "output_type": "stream",
          "text": [
            "                    statement  weight\n",
            "0                dog can bark   16.00\n",
            "1  A dog can guard your house   10.39\n"
          ],
          "name": "stdout"
        }
      ]
    },
    {
      "cell_type": "code",
      "metadata": {
        "colab": {
          "base_uri": "https://localhost:8080/"
        },
        "id": "iZK3WDFX4opB",
        "outputId": "8ad76e45-2236-4c50-ff98-8b68ef19f34d"
      },
      "source": [
        "dict={'word':['x','y','z'],'score':[0.4,0.6,1.0]}\n",
        "def sum_validation(sum):\n",
        "  if round(sum,0)==2:\n",
        "    return 'valid'\n",
        "  else:\n",
        "    return 'not valid'\n",
        "dum=[]\n",
        "#arr1=[0.9,0.1,0.8,0.2,0.7,0.6,0.3,0.5]\n",
        "opdict={'info':[],'scores':[]}\n",
        "for i in range(len(rdf['weight'])):\n",
        "  x=rdf['weight'][i]\n",
        "  y=rdf['tr_statement'][i]\n",
        "  if sum_validation(x)=='valid':\n",
        "    print(x,y)\n",
        "    opdict['info'].append([y+\".\"+\"Who am I ?\"])\n",
        "    opdict['scores'].append([x])\n",
        "  elif i<len(rdf['weight']):\n",
        "    for i in range(i+1,len(rdf['weight'])):\n",
        "      if sum_validation(x+rdf['weight'][i])=='valid':\n",
        "         print(x,rdf['weight'][i])\n",
        "         opdict['scores'].append([x,rdf['weight'][i]])\n",
        "         print(y,rdf['tr_statement'][i])\n",
        "         opdict['info'].append([y,rdf['tr_statement'][i]+\"Who am I ?\"])\n",
        "      else:\n",
        "        for i in range(i+1,len(rdf['weight'])):\n",
        "            #print(i,i+1)\n",
        "            if i+1<len(rdf['weight']) and sum_validation(x+rdf['weight'][i]+rdf['weight'][i+1])=='valid':\n",
        "                print(x,rdf['weight'][i],rdf['weight'][i+1])\n",
        "                opdict['scores'].append([x,rdf['weight'][i],rdf['weight'][i+1]])\n",
        "                print(y,rdf['tr_statement'][i],rdf['tr_statement'][i+1])\n",
        "                opdict['info'].append([y,rdf['tr_statement'][i],rdf['tr_statement'][i+1]+\"Who am I ?\"])\n",
        "print(opdict)   \n",
        "df2=pd.DataFrame.from_dict(opdict)    \n",
        "print(df2)  "
      ],
      "execution_count": null,
      "outputs": [
        {
          "output_type": "stream",
          "text": [
            "1.0 0.65\n",
            "I can bark .  I can guard your house . \n",
            "1.0 0.61\n",
            "I can bark .  I am related to pets . \n",
            "1.0 0.59\n",
            "I can bark .  I am related to animals . \n",
            "1.0 0.59\n",
            "I can bark .  You are likely to find me in a kennel . \n",
            "1.0 0.56\n",
            "I can bark .  Flea is related to me . \n",
            "1.0 0.41 0.4\n",
            "I can bark .  I am a loyal friend .  I am for companionship . \n",
            "1.0 0.4 0.38\n",
            "I can bark .  I am for companionship .  An activity I can do is run . \n",
            "1.0 0.38 0.35\n",
            "I can bark .  An activity I can do is run .  *something you find under the table is I . \n",
            "1.0 0.35 0.33\n",
            "I can bark .  *something you find under the table is I .  I want a bone . \n",
            "1.0 0.33 0.33\n",
            "I can bark .  I want a bone .  I am a kind of mammal . \n",
            "1.0 0.33 0.33\n",
            "I can bark .  I am a kind of mammal .  I have four legs . \n",
            "1.0 0.33 0.33\n",
            "I can bark .  I have four legs .  I can guide a blind person . \n",
            "1.0 0.4 0.38\n",
            "I can bark .  I am for companionship .  An activity I can do is run . \n",
            "1.0 0.38 0.35\n",
            "I can bark .  An activity I can do is run .  *something you find under the table is I . \n",
            "1.0 0.35 0.33\n",
            "I can bark .  *something you find under the table is I .  I want a bone . \n",
            "1.0 0.33 0.33\n",
            "I can bark .  I want a bone .  I am a kind of mammal . \n",
            "1.0 0.33 0.33\n",
            "I can bark .  I am a kind of mammal .  I have four legs . \n",
            "1.0 0.33 0.33\n",
            "I can bark .  I have four legs .  I can guide a blind person . \n",
            "1.0 0.38 0.35\n",
            "I can bark .  An activity I can do is run .  *something you find under the table is I . \n",
            "1.0 0.35 0.33\n",
            "I can bark .  *something you find under the table is I .  I want a bone . \n",
            "1.0 0.33 0.33\n",
            "I can bark .  I want a bone .  I am a kind of mammal . \n",
            "1.0 0.33 0.33\n",
            "I can bark .  I am a kind of mammal .  I have four legs . \n",
            "1.0 0.33 0.33\n",
            "I can bark .  I have four legs .  I can guide a blind person . \n",
            "1.0 0.35 0.33\n",
            "I can bark .  *something you find under the table is I .  I want a bone . \n",
            "1.0 0.33 0.33\n",
            "I can bark .  I want a bone .  I am a kind of mammal . \n",
            "1.0 0.33 0.33\n",
            "I can bark .  I am a kind of mammal .  I have four legs . \n",
            "1.0 0.33 0.33\n",
            "I can bark .  I have four legs .  I can guide a blind person . \n",
            "1.0 0.33 0.33\n",
            "I can bark .  I want a bone .  I am a kind of mammal . \n",
            "1.0 0.33 0.33\n",
            "I can bark .  I am a kind of mammal .  I have four legs . \n",
            "1.0 0.33 0.33\n",
            "I can bark .  I have four legs .  I can guide a blind person . \n",
            "1.0 0.33 0.33\n",
            "I can bark .  I am a kind of mammal .  I have four legs . \n",
            "1.0 0.33 0.33\n",
            "I can bark .  I have four legs .  I can guide a blind person . \n",
            "1.0 0.33 0.33\n",
            "I can bark .  I have four legs .  I can guide a blind person . \n",
            "0.65 0.59 0.59\n",
            "I can guard your house .  I am related to animals .  You are likely to find me in a kennel . \n",
            "0.65 0.59 0.56\n",
            "I can guard your house .  You are likely to find me in a kennel .  Flea is related to me . \n",
            "0.65 0.56 0.48\n",
            "I can guard your house .  Flea is related to me .  I am related to canine . \n",
            "0.65 0.48 0.41\n",
            "I can guard your house .  I am related to canine .  I am a loyal friend . \n",
            "0.65 0.59 0.56\n",
            "I can guard your house .  You are likely to find me in a kennel .  Flea is related to me . \n",
            "0.65 0.56 0.48\n",
            "I can guard your house .  Flea is related to me .  I am related to canine . \n",
            "0.65 0.48 0.41\n",
            "I can guard your house .  I am related to canine .  I am a loyal friend . \n",
            "0.65 0.56 0.48\n",
            "I can guard your house .  Flea is related to me .  I am related to canine . \n",
            "0.65 0.48 0.41\n",
            "I can guard your house .  I am related to canine .  I am a loyal friend . \n",
            "0.65 0.48 0.41\n",
            "I can guard your house .  I am related to canine .  I am a loyal friend . \n",
            "0.61 0.59 0.56\n",
            "I am related to pets .  You are likely to find me in a kennel .  Flea is related to me . \n",
            "0.61 0.56 0.48\n",
            "I am related to pets .  Flea is related to me .  I am related to canine . \n",
            "0.61 0.56 0.48\n",
            "I am related to pets .  Flea is related to me .  I am related to canine . \n",
            "0.59 0.56 0.48\n",
            "I am related to animals .  Flea is related to me .  I am related to canine . \n",
            "{'info': [['I can bark . ', 'I can guard your house . Who am I ?'], ['I can bark . ', 'I am related to pets . Who am I ?'], ['I can bark . ', 'I am related to animals . Who am I ?'], ['I can bark . ', 'You are likely to find me in a kennel . Who am I ?'], ['I can bark . ', 'Flea is related to me . Who am I ?'], ['I can bark . ', 'I am a loyal friend . ', 'I am for companionship . Who am I ?'], ['I can bark . ', 'I am for companionship . ', 'An activity I can do is run . Who am I ?'], ['I can bark . ', 'An activity I can do is run . ', '*something you find under the table is I . Who am I ?'], ['I can bark . ', '*something you find under the table is I . ', 'I want a bone . Who am I ?'], ['I can bark . ', 'I want a bone . ', 'I am a kind of mammal . Who am I ?'], ['I can bark . ', 'I am a kind of mammal . ', 'I have four legs . Who am I ?'], ['I can bark . ', 'I have four legs . ', 'I can guide a blind person . Who am I ?'], ['I can bark . ', 'I am for companionship . ', 'An activity I can do is run . Who am I ?'], ['I can bark . ', 'An activity I can do is run . ', '*something you find under the table is I . Who am I ?'], ['I can bark . ', '*something you find under the table is I . ', 'I want a bone . Who am I ?'], ['I can bark . ', 'I want a bone . ', 'I am a kind of mammal . Who am I ?'], ['I can bark . ', 'I am a kind of mammal . ', 'I have four legs . Who am I ?'], ['I can bark . ', 'I have four legs . ', 'I can guide a blind person . Who am I ?'], ['I can bark . ', 'An activity I can do is run . ', '*something you find under the table is I . Who am I ?'], ['I can bark . ', '*something you find under the table is I . ', 'I want a bone . Who am I ?'], ['I can bark . ', 'I want a bone . ', 'I am a kind of mammal . Who am I ?'], ['I can bark . ', 'I am a kind of mammal . ', 'I have four legs . Who am I ?'], ['I can bark . ', 'I have four legs . ', 'I can guide a blind person . Who am I ?'], ['I can bark . ', '*something you find under the table is I . ', 'I want a bone . Who am I ?'], ['I can bark . ', 'I want a bone . ', 'I am a kind of mammal . Who am I ?'], ['I can bark . ', 'I am a kind of mammal . ', 'I have four legs . Who am I ?'], ['I can bark . ', 'I have four legs . ', 'I can guide a blind person . Who am I ?'], ['I can bark . ', 'I want a bone . ', 'I am a kind of mammal . Who am I ?'], ['I can bark . ', 'I am a kind of mammal . ', 'I have four legs . Who am I ?'], ['I can bark . ', 'I have four legs . ', 'I can guide a blind person . Who am I ?'], ['I can bark . ', 'I am a kind of mammal . ', 'I have four legs . Who am I ?'], ['I can bark . ', 'I have four legs . ', 'I can guide a blind person . Who am I ?'], ['I can bark . ', 'I have four legs . ', 'I can guide a blind person . Who am I ?'], ['I can guard your house . ', 'I am related to animals . ', 'You are likely to find me in a kennel . Who am I ?'], ['I can guard your house . ', 'You are likely to find me in a kennel . ', 'Flea is related to me . Who am I ?'], ['I can guard your house . ', 'Flea is related to me . ', 'I am related to canine . Who am I ?'], ['I can guard your house . ', 'I am related to canine . ', 'I am a loyal friend . Who am I ?'], ['I can guard your house . ', 'You are likely to find me in a kennel . ', 'Flea is related to me . Who am I ?'], ['I can guard your house . ', 'Flea is related to me . ', 'I am related to canine . Who am I ?'], ['I can guard your house . ', 'I am related to canine . ', 'I am a loyal friend . Who am I ?'], ['I can guard your house . ', 'Flea is related to me . ', 'I am related to canine . Who am I ?'], ['I can guard your house . ', 'I am related to canine . ', 'I am a loyal friend . Who am I ?'], ['I can guard your house . ', 'I am related to canine . ', 'I am a loyal friend . Who am I ?'], ['I am related to pets . ', 'You are likely to find me in a kennel . ', 'Flea is related to me . Who am I ?'], ['I am related to pets . ', 'Flea is related to me . ', 'I am related to canine . Who am I ?'], ['I am related to pets . ', 'Flea is related to me . ', 'I am related to canine . Who am I ?'], ['I am related to animals . ', 'Flea is related to me . ', 'I am related to canine . Who am I ?']], 'scores': [[1.0, 0.65], [1.0, 0.61], [1.0, 0.59], [1.0, 0.59], [1.0, 0.56], [1.0, 0.41, 0.4], [1.0, 0.4, 0.38], [1.0, 0.38, 0.35], [1.0, 0.35, 0.33], [1.0, 0.33, 0.33], [1.0, 0.33, 0.33], [1.0, 0.33, 0.33], [1.0, 0.4, 0.38], [1.0, 0.38, 0.35], [1.0, 0.35, 0.33], [1.0, 0.33, 0.33], [1.0, 0.33, 0.33], [1.0, 0.33, 0.33], [1.0, 0.38, 0.35], [1.0, 0.35, 0.33], [1.0, 0.33, 0.33], [1.0, 0.33, 0.33], [1.0, 0.33, 0.33], [1.0, 0.35, 0.33], [1.0, 0.33, 0.33], [1.0, 0.33, 0.33], [1.0, 0.33, 0.33], [1.0, 0.33, 0.33], [1.0, 0.33, 0.33], [1.0, 0.33, 0.33], [1.0, 0.33, 0.33], [1.0, 0.33, 0.33], [1.0, 0.33, 0.33], [0.65, 0.59, 0.59], [0.65, 0.59, 0.56], [0.65, 0.56, 0.48], [0.65, 0.48, 0.41], [0.65, 0.59, 0.56], [0.65, 0.56, 0.48], [0.65, 0.48, 0.41], [0.65, 0.56, 0.48], [0.65, 0.48, 0.41], [0.65, 0.48, 0.41], [0.61, 0.59, 0.56], [0.61, 0.56, 0.48], [0.61, 0.56, 0.48], [0.59, 0.56, 0.48]]}\n",
            "                                                 info              scores\n",
            "0   [I can bark . , I can guard your house . Who a...         [1.0, 0.65]\n",
            "1   [I can bark . , I am related to pets . Who am ...         [1.0, 0.61]\n",
            "2   [I can bark . , I am related to animals . Who ...         [1.0, 0.59]\n",
            "3   [I can bark . , You are likely to find me in a...         [1.0, 0.59]\n",
            "4   [I can bark . , Flea is related to me . Who am...         [1.0, 0.56]\n",
            "5   [I can bark . , I am a loyal friend . , I am f...    [1.0, 0.41, 0.4]\n",
            "6   [I can bark . , I am for companionship . , An ...    [1.0, 0.4, 0.38]\n",
            "7   [I can bark . , An activity I can do is run . ...   [1.0, 0.38, 0.35]\n",
            "8   [I can bark . , *something you find under the ...   [1.0, 0.35, 0.33]\n",
            "9   [I can bark . , I want a bone . , I am a kind ...   [1.0, 0.33, 0.33]\n",
            "10  [I can bark . , I am a kind of mammal . , I ha...   [1.0, 0.33, 0.33]\n",
            "11  [I can bark . , I have four legs . , I can gui...   [1.0, 0.33, 0.33]\n",
            "12  [I can bark . , I am for companionship . , An ...    [1.0, 0.4, 0.38]\n",
            "13  [I can bark . , An activity I can do is run . ...   [1.0, 0.38, 0.35]\n",
            "14  [I can bark . , *something you find under the ...   [1.0, 0.35, 0.33]\n",
            "15  [I can bark . , I want a bone . , I am a kind ...   [1.0, 0.33, 0.33]\n",
            "16  [I can bark . , I am a kind of mammal . , I ha...   [1.0, 0.33, 0.33]\n",
            "17  [I can bark . , I have four legs . , I can gui...   [1.0, 0.33, 0.33]\n",
            "18  [I can bark . , An activity I can do is run . ...   [1.0, 0.38, 0.35]\n",
            "19  [I can bark . , *something you find under the ...   [1.0, 0.35, 0.33]\n",
            "20  [I can bark . , I want a bone . , I am a kind ...   [1.0, 0.33, 0.33]\n",
            "21  [I can bark . , I am a kind of mammal . , I ha...   [1.0, 0.33, 0.33]\n",
            "22  [I can bark . , I have four legs . , I can gui...   [1.0, 0.33, 0.33]\n",
            "23  [I can bark . , *something you find under the ...   [1.0, 0.35, 0.33]\n",
            "24  [I can bark . , I want a bone . , I am a kind ...   [1.0, 0.33, 0.33]\n",
            "25  [I can bark . , I am a kind of mammal . , I ha...   [1.0, 0.33, 0.33]\n",
            "26  [I can bark . , I have four legs . , I can gui...   [1.0, 0.33, 0.33]\n",
            "27  [I can bark . , I want a bone . , I am a kind ...   [1.0, 0.33, 0.33]\n",
            "28  [I can bark . , I am a kind of mammal . , I ha...   [1.0, 0.33, 0.33]\n",
            "29  [I can bark . , I have four legs . , I can gui...   [1.0, 0.33, 0.33]\n",
            "30  [I can bark . , I am a kind of mammal . , I ha...   [1.0, 0.33, 0.33]\n",
            "31  [I can bark . , I have four legs . , I can gui...   [1.0, 0.33, 0.33]\n",
            "32  [I can bark . , I have four legs . , I can gui...   [1.0, 0.33, 0.33]\n",
            "33  [I can guard your house . , I am related to an...  [0.65, 0.59, 0.59]\n",
            "34  [I can guard your house . , You are likely to ...  [0.65, 0.59, 0.56]\n",
            "35  [I can guard your house . , Flea is related to...  [0.65, 0.56, 0.48]\n",
            "36  [I can guard your house . , I am related to ca...  [0.65, 0.48, 0.41]\n",
            "37  [I can guard your house . , You are likely to ...  [0.65, 0.59, 0.56]\n",
            "38  [I can guard your house . , Flea is related to...  [0.65, 0.56, 0.48]\n",
            "39  [I can guard your house . , I am related to ca...  [0.65, 0.48, 0.41]\n",
            "40  [I can guard your house . , Flea is related to...  [0.65, 0.56, 0.48]\n",
            "41  [I can guard your house . , I am related to ca...  [0.65, 0.48, 0.41]\n",
            "42  [I can guard your house . , I am related to ca...  [0.65, 0.48, 0.41]\n",
            "43  [I am related to pets . , You are likely to fi...  [0.61, 0.59, 0.56]\n",
            "44  [I am related to pets . , Flea is related to m...  [0.61, 0.56, 0.48]\n",
            "45  [I am related to pets . , Flea is related to m...  [0.61, 0.56, 0.48]\n",
            "46  [I am related to animals . , Flea is related t...  [0.59, 0.56, 0.48]\n"
          ],
          "name": "stdout"
        }
      ]
    },
    {
      "cell_type": "code",
      "metadata": {
        "colab": {
          "base_uri": "https://localhost:8080/",
          "height": 17
        },
        "id": "FgLDxbtpJU7g",
        "outputId": "e0a50443-ba7c-4398-b532-d2bbce73b74f"
      },
      "source": [
        "from google.colab import files\n",
        "df2.to_csv('EasyRiddles_v3.csv')\n",
        "files.download('EasyRiddles_v3.csv')"
      ],
      "execution_count": null,
      "outputs": [
        {
          "output_type": "display_data",
          "data": {
            "application/javascript": [
              "\n",
              "    async function download(id, filename, size) {\n",
              "      if (!google.colab.kernel.accessAllowed) {\n",
              "        return;\n",
              "      }\n",
              "      const div = document.createElement('div');\n",
              "      const label = document.createElement('label');\n",
              "      label.textContent = `Downloading \"${filename}\": `;\n",
              "      div.appendChild(label);\n",
              "      const progress = document.createElement('progress');\n",
              "      progress.max = size;\n",
              "      div.appendChild(progress);\n",
              "      document.body.appendChild(div);\n",
              "\n",
              "      const buffers = [];\n",
              "      let downloaded = 0;\n",
              "\n",
              "      const channel = await google.colab.kernel.comms.open(id);\n",
              "      // Send a message to notify the kernel that we're ready.\n",
              "      channel.send({})\n",
              "\n",
              "      for await (const message of channel.messages) {\n",
              "        // Send a message to notify the kernel that we're ready.\n",
              "        channel.send({})\n",
              "        if (message.buffers) {\n",
              "          for (const buffer of message.buffers) {\n",
              "            buffers.push(buffer);\n",
              "            downloaded += buffer.byteLength;\n",
              "            progress.value = downloaded;\n",
              "          }\n",
              "        }\n",
              "      }\n",
              "      const blob = new Blob(buffers, {type: 'application/binary'});\n",
              "      const a = document.createElement('a');\n",
              "      a.href = window.URL.createObjectURL(blob);\n",
              "      a.download = filename;\n",
              "      div.appendChild(a);\n",
              "      a.click();\n",
              "      div.remove();\n",
              "    }\n",
              "  "
            ],
            "text/plain": [
              "<IPython.core.display.Javascript object>"
            ]
          },
          "metadata": {
            "tags": []
          }
        },
        {
          "output_type": "display_data",
          "data": {
            "application/javascript": [
              "download(\"download_86c823ff-c51c-4c51-bf2a-46c97cb8ea6f\", \"EasyRiddles_v3.csv\", 5278)"
            ],
            "text/plain": [
              "<IPython.core.display.Javascript object>"
            ]
          },
          "metadata": {
            "tags": []
          }
        }
      ]
    },
    {
      "cell_type": "code",
      "metadata": {
        "colab": {
          "base_uri": "https://localhost:8080/"
        },
        "id": "hgIdfOAaLB1g",
        "outputId": "bbfa0872-7524-4cd1-eac0-e278d8ede611"
      },
      "source": [
        "import json\n",
        "import requests\n",
        "import re\n",
        "import string\n",
        "\n",
        "rel=['IsA','PartOf','HasA','UsedFor','CapableOf','AtLocation','Causes','Desires','RelatedTo']\n",
        "#dict={'statement':[],'weight':[]}\n",
        "\"\"\"obj = requests.get('http://api.conceptnet.io/c/en/dog').json()\n",
        "for i in range(len(obj['edges'])):\n",
        "  if obj['edges'][i]['rel']['label'] in rel:\n",
        "      dict['statement'].append(obj['edges'][i]['surfaceText'].replace('[','').replace(']',''))\n",
        "      dict['weight'].append(obj['edges'][i]['weight'])\"\"\"\n",
        "\n",
        "#extract by filtering the rel and extract weights as well\n",
        "#rel=['IsA','PartOf','HasA','UsedFor','CapableOf','AtLocation','Causes','Desires','RelatedTo']\n",
        "url='http://api.conceptnet.io'\n",
        "def retrieveFilterTriples(orgReq,noOfIter,dict={'statement':[],'weight':[]}):\n",
        " for i in range(noOfIter):\n",
        "   obj=requests.get(orgReq).json()\n",
        "   for i in range(len(obj['edges'])):\n",
        "      if obj['edges'][i]['surfaceText'] != None :\n",
        "         if obj['edges'][i]['rel']['label'] in rel:\n",
        "             dict['statement'].append(obj['edges'][i]['surfaceText'].replace('[','').replace(']',''))\n",
        "             dict['weight'].append(round(obj['edges'][i]['weight'],2))\n",
        "   if 'nextPage' in obj['view'].keys():\n",
        "       #if obj['view']['nextPage'] is not null: #condition to check if nextPage attribute exists or not done\n",
        "       orgReq=url+obj['view']['nextPage']\n",
        "   else:\n",
        "       break\n",
        " return dict\n",
        "\n",
        "\n",
        "dict12=retrieveFilterTriples('http://api.conceptnet.io/c/en/deer',1000)\n",
        "print(dict12)\n"
      ],
      "execution_count": null,
      "outputs": [
        {
          "output_type": "stream",
          "text": [
            "{'statement': ['A deer is an animal', 'Virginia deer is a type of deer', 'wapiti is a type of deer', 'scut is a part of deer', 'pricket is a type of deer', 'mule deer is a type of deer', 'a deer has four legs', 'scut is a part of deer', 'flag is a part of deer', 'withers is a part of deer', 'antler is a part of deer', 'Virginia deer is a type of deer', 'a deer has four legs', 'red deer is a type of deer', 'flag is a part of deer', 'withers is a part of deer', 'scut is a part of deer', 'Virginia deer is a type of deer', 'Japanese deer is a type of deer', 'sambar is a type of deer', 'pricket is a type of deer', 'wapiti is a type of deer', 'Virginia deer is a type of deer', 'red deer is a type of deer', 'fawn is related to deer', 'deer is related to animal', 'doe is related to deer', 'a moose is a deer', 'a fawn is a deer', 'a fawn is a deer', 'You are likely to find deer in North America and antelopes in Africa', 'You are likely to find deer in the countryside.', 'deer can long for water', 'a woods is used for deer', 'A deer has a head', 'You are likely to find deer in North America and antelopes in Africa', 'A deer is a mammal', 'deer can fear hunters', 'Deer are herbivores', 'moose is related to deer', 'deer is related to small', 'deer is related to antlers', 'hunt is related to deer', 'deer is related to small moose', 'deer is related to moose', 'deer is related to doe', 'deer is related to buck', 'idea is related to deer', 'range is related to deer', 'foal is related to deer', 'tractor is related to deer', 'deer is related to venison', 'deer is related to horse', 'deer is related to small horse', 'deer is related to elk', 'ear is related to deer', 'moccasin is related to deer', 'deer is related to buck doe', 'rifle is related to deer', 'deer is related to four', 'deer is related to legs', 'deer is related to four legs', 'deer is related to forests', 'hunter is related to deer', 'deer is related to with antlers', 'deer is related to fawn parent', 'deer is related to parent', 'deer is related to fawn', 'deer is related to doe buck', 'animal is related to deer', 'deer is related to woodland animal', 'deer is related to woodland', 'deer is related to venison animal', 'deer is related to horned', 'deer is related to horned mammal', 'deer is related to mammal'], 'weight': [2.83, 2.0, 2.0, 2.0, 2.0, 2.0, 2.0, 2.0, 2.0, 2.0, 2.0, 2.0, 2.0, 2.0, 2.0, 2.0, 2.0, 2.0, 2.0, 2.0, 2.0, 2.0, 2.0, 2.0, 1.91, 1.53, 1.23, 1.0, 1.0, 1.0, 1.0, 1.0, 1.0, 1.0, 1.0, 1.0, 1.0, 1.0, 1.0, 0.99, 0.56, 0.54, 0.53, 0.36, 0.36, 0.29, 0.29, 0.27, 0.23, 0.22, 0.21, 0.21, 0.2, 0.2, 0.19, 0.19, 0.17, 0.16, 0.16, 0.16, 0.16, 0.16, 0.15, 0.15, 0.14, 0.14, 0.14, 0.14, 0.13, 0.13, 0.11, 0.11, 0.1, 0.1, 0.1, 0.1]}\n"
          ],
          "name": "stdout"
        }
      ]
    },
    {
      "cell_type": "code",
      "metadata": {
        "colab": {
          "base_uri": "https://localhost:8080/"
        },
        "id": "Ei5JPLY8rSTZ",
        "outputId": "2cb039b0-1975-4320-8fe1-dd1dbba66a23"
      },
      "source": [
        "deerdf=pd.DataFrame.from_dict(dict12)\n",
        "print(deerdf[deerdf['weight']>1])  #prioritize triples or score as per triples predicate"
      ],
      "execution_count": null,
      "outputs": [
        {
          "output_type": "stream",
          "text": [
            "                          statement  weight\n",
            "0               A deer is an animal    2.83\n",
            "1   Virginia deer is a type of deer    2.00\n",
            "2          wapiti is a type of deer    2.00\n",
            "3            scut is a part of deer    2.00\n",
            "4         pricket is a type of deer    2.00\n",
            "5       mule deer is a type of deer    2.00\n",
            "6              a deer has four legs    2.00\n",
            "7            scut is a part of deer    2.00\n",
            "8            flag is a part of deer    2.00\n",
            "9         withers is a part of deer    2.00\n",
            "10         antler is a part of deer    2.00\n",
            "11  Virginia deer is a type of deer    2.00\n",
            "12             a deer has four legs    2.00\n",
            "13       red deer is a type of deer    2.00\n",
            "14           flag is a part of deer    2.00\n",
            "15        withers is a part of deer    2.00\n",
            "16           scut is a part of deer    2.00\n",
            "17  Virginia deer is a type of deer    2.00\n",
            "18  Japanese deer is a type of deer    2.00\n",
            "19         sambar is a type of deer    2.00\n",
            "20        pricket is a type of deer    2.00\n",
            "21         wapiti is a type of deer    2.00\n",
            "22  Virginia deer is a type of deer    2.00\n",
            "23       red deer is a type of deer    2.00\n",
            "24          fawn is related to deer    1.91\n",
            "25        deer is related to animal    1.53\n",
            "26           doe is related to deer    1.23\n"
          ],
          "name": "stdout"
        }
      ]
    },
    {
      "cell_type": "code",
      "metadata": {
        "id": "ihoROuyQJzdc"
      },
      "source": [
        "from gingerit.gingerit import GingerIt\n",
        "text = 'Something you find under the table is the I'\n",
        "parser = GingerIt()\n",
        "new=parser.parse(text)\n",
        "ans=[]\n",
        "sub=['A dog','dog','the dog']\n",
        "for item in df2['info'].items():\n",
        "  for i in item:\n",
        "    for i in range(len(sub)):\n",
        "      if sub[i] in item:\n",
        "        print(sub[i])\n",
        "        item=item.replace(sub[i],'I')\n",
        "        print(item)\n",
        "        new=parser.parse(item)\n",
        "        ans.append(item)\n",
        "\n",
        "    \n",
        "    \n"
      ],
      "execution_count": null,
      "outputs": []
    },
    {
      "cell_type": "code",
      "metadata": {
        "colab": {
          "base_uri": "https://localhost:8080/"
        },
        "id": "5YFdHog6z0gt",
        "outputId": "1caae1c8-6f3d-408a-d02b-ac2d26ab5f7b"
      },
      "source": [
        "!pip install gingerit"
      ],
      "execution_count": null,
      "outputs": [
        {
          "output_type": "stream",
          "text": [
            "Collecting gingerit\n",
            "  Downloading https://files.pythonhosted.org/packages/bd/ef/f66880c65391a0630bdd4ffc742c4e97c59146abf251bd764042ad1db049/gingerit-0.8.1-py3-none-any.whl\n",
            "Requirement already satisfied: requests<3.0,>=2.22 in /usr/local/lib/python3.7/dist-packages (from gingerit) (2.23.0)\n",
            "Requirement already satisfied: idna<3,>=2.5 in /usr/local/lib/python3.7/dist-packages (from requests<3.0,>=2.22->gingerit) (2.10)\n",
            "Requirement already satisfied: chardet<4,>=3.0.2 in /usr/local/lib/python3.7/dist-packages (from requests<3.0,>=2.22->gingerit) (3.0.4)\n",
            "Requirement already satisfied: certifi>=2017.4.17 in /usr/local/lib/python3.7/dist-packages (from requests<3.0,>=2.22->gingerit) (2020.12.5)\n",
            "Requirement already satisfied: urllib3!=1.25.0,!=1.25.1,<1.26,>=1.21.1 in /usr/local/lib/python3.7/dist-packages (from requests<3.0,>=2.22->gingerit) (1.24.3)\n",
            "Installing collected packages: gingerit\n",
            "Successfully installed gingerit-0.8.1\n"
          ],
          "name": "stdout"
        }
      ]
    },
    {
      "cell_type": "code",
      "metadata": {
        "colab": {
          "base_uri": "https://localhost:8080/"
        },
        "id": "KoLoBACZ3TXP",
        "outputId": "23494d39-2807-49ec-ed80-54e80c8cc2d6"
      },
      "source": [
        "from gingerit.gingerit import GingerIt\n",
        "\n",
        "text = 'Something you find under the table is the I'\n",
        "\n",
        "parser = GingerIt()\n",
        "new=parser.parse(text)\n",
        "print(new['result'])"
      ],
      "execution_count": null,
      "outputs": [
        {
          "output_type": "stream",
          "text": [
            "Something you find under the table is the I\n"
          ],
          "name": "stdout"
        }
      ]
    }
  ]
}